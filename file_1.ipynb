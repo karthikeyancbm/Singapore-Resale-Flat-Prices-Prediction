{
 "cells": [
  {
   "cell_type": "code",
   "execution_count": 270,
   "metadata": {},
   "outputs": [],
   "source": [
    "import pandas as pd \n",
    "import numpy as np\n",
    "import matplotlib.pyplot as plt\n",
    "import seaborn as sns\n",
    "from scipy.stats import skew\n",
    "from sklearn.metrics import mean_squared_error\n",
    "from sklearn.linear_model import Lasso\n",
    "from sklearn.linear_model import Ridge\n",
    "from imblearn.over_sampling import RandomOverSampler\n",
    "from imblearn.over_sampling import SMOTE\n",
    "from sklearn.model_selection import train_test_split\n",
    "from sklearn.model_selection import cross_validate,KFold\n",
    "from sklearn.model_selection import cross_val_score,KFold\n",
    "import pickle\n",
    "from sklearn.ensemble import RandomForestRegressor\n",
    "from sklearn.linear_model import LinearRegression\n",
    "from sklearn.preprocessing import LabelEncoder\n",
    "from sklearn.tree import DecisionTreeRegressor\n",
    "from sklearn.preprocessing import MinMaxScaler\n",
    "from sklearn.linear_model import ElasticNet\n",
    "from sklearn.model_selection import GridSearchCV\n",
    "import warnings\n",
    "warnings.filterwarnings(\"ignore\")\n",
    "from glob import glob\n"
   ]
  },
  {
   "cell_type": "markdown",
   "metadata": {},
   "source": [
    "## Data extracting ##"
   ]
  },
  {
   "cell_type": "code",
   "execution_count": 736,
   "metadata": {},
   "outputs": [
    {
     "data": {
      "text/html": [
       "<div>\n",
       "<style scoped>\n",
       "    .dataframe tbody tr th:only-of-type {\n",
       "        vertical-align: middle;\n",
       "    }\n",
       "\n",
       "    .dataframe tbody tr th {\n",
       "        vertical-align: top;\n",
       "    }\n",
       "\n",
       "    .dataframe thead th {\n",
       "        text-align: right;\n",
       "    }\n",
       "</style>\n",
       "<table border=\"1\" class=\"dataframe\">\n",
       "  <thead>\n",
       "    <tr style=\"text-align: right;\">\n",
       "      <th></th>\n",
       "      <th>month</th>\n",
       "      <th>town</th>\n",
       "      <th>flat_type</th>\n",
       "      <th>block</th>\n",
       "      <th>street_name</th>\n",
       "      <th>storey_range</th>\n",
       "      <th>floor_area_sqm</th>\n",
       "      <th>flat_model</th>\n",
       "      <th>lease_commence_date</th>\n",
       "      <th>resale_price</th>\n",
       "    </tr>\n",
       "  </thead>\n",
       "  <tbody>\n",
       "    <tr>\n",
       "      <th>0</th>\n",
       "      <td>1990-01</td>\n",
       "      <td>ANG MO KIO</td>\n",
       "      <td>1 ROOM</td>\n",
       "      <td>309</td>\n",
       "      <td>ANG MO KIO AVE 1</td>\n",
       "      <td>10 TO 12</td>\n",
       "      <td>31.0</td>\n",
       "      <td>IMPROVED</td>\n",
       "      <td>1977</td>\n",
       "      <td>9000</td>\n",
       "    </tr>\n",
       "    <tr>\n",
       "      <th>1</th>\n",
       "      <td>1990-01</td>\n",
       "      <td>ANG MO KIO</td>\n",
       "      <td>1 ROOM</td>\n",
       "      <td>309</td>\n",
       "      <td>ANG MO KIO AVE 1</td>\n",
       "      <td>04 TO 06</td>\n",
       "      <td>31.0</td>\n",
       "      <td>IMPROVED</td>\n",
       "      <td>1977</td>\n",
       "      <td>6000</td>\n",
       "    </tr>\n",
       "    <tr>\n",
       "      <th>2</th>\n",
       "      <td>1990-01</td>\n",
       "      <td>ANG MO KIO</td>\n",
       "      <td>1 ROOM</td>\n",
       "      <td>309</td>\n",
       "      <td>ANG MO KIO AVE 1</td>\n",
       "      <td>10 TO 12</td>\n",
       "      <td>31.0</td>\n",
       "      <td>IMPROVED</td>\n",
       "      <td>1977</td>\n",
       "      <td>8000</td>\n",
       "    </tr>\n",
       "    <tr>\n",
       "      <th>3</th>\n",
       "      <td>1990-01</td>\n",
       "      <td>ANG MO KIO</td>\n",
       "      <td>1 ROOM</td>\n",
       "      <td>309</td>\n",
       "      <td>ANG MO KIO AVE 1</td>\n",
       "      <td>07 TO 09</td>\n",
       "      <td>31.0</td>\n",
       "      <td>IMPROVED</td>\n",
       "      <td>1977</td>\n",
       "      <td>6000</td>\n",
       "    </tr>\n",
       "    <tr>\n",
       "      <th>4</th>\n",
       "      <td>1990-01</td>\n",
       "      <td>ANG MO KIO</td>\n",
       "      <td>3 ROOM</td>\n",
       "      <td>216</td>\n",
       "      <td>ANG MO KIO AVE 1</td>\n",
       "      <td>04 TO 06</td>\n",
       "      <td>73.0</td>\n",
       "      <td>NEW GENERATION</td>\n",
       "      <td>1976</td>\n",
       "      <td>47200</td>\n",
       "    </tr>\n",
       "    <tr>\n",
       "      <th>...</th>\n",
       "      <td>...</td>\n",
       "      <td>...</td>\n",
       "      <td>...</td>\n",
       "      <td>...</td>\n",
       "      <td>...</td>\n",
       "      <td>...</td>\n",
       "      <td>...</td>\n",
       "      <td>...</td>\n",
       "      <td>...</td>\n",
       "      <td>...</td>\n",
       "    </tr>\n",
       "    <tr>\n",
       "      <th>287191</th>\n",
       "      <td>1999-12</td>\n",
       "      <td>YISHUN</td>\n",
       "      <td>EXECUTIVE</td>\n",
       "      <td>611</td>\n",
       "      <td>YISHUN ST 61</td>\n",
       "      <td>10 TO 12</td>\n",
       "      <td>142.0</td>\n",
       "      <td>APARTMENT</td>\n",
       "      <td>1987</td>\n",
       "      <td>456000</td>\n",
       "    </tr>\n",
       "    <tr>\n",
       "      <th>287192</th>\n",
       "      <td>1999-12</td>\n",
       "      <td>YISHUN</td>\n",
       "      <td>EXECUTIVE</td>\n",
       "      <td>324</td>\n",
       "      <td>YISHUN CTRL</td>\n",
       "      <td>01 TO 03</td>\n",
       "      <td>142.0</td>\n",
       "      <td>APARTMENT</td>\n",
       "      <td>1988</td>\n",
       "      <td>408000</td>\n",
       "    </tr>\n",
       "    <tr>\n",
       "      <th>287193</th>\n",
       "      <td>1999-12</td>\n",
       "      <td>YISHUN</td>\n",
       "      <td>EXECUTIVE</td>\n",
       "      <td>392</td>\n",
       "      <td>YISHUN AVE 6</td>\n",
       "      <td>07 TO 09</td>\n",
       "      <td>146.0</td>\n",
       "      <td>MAISONETTE</td>\n",
       "      <td>1988</td>\n",
       "      <td>469000</td>\n",
       "    </tr>\n",
       "    <tr>\n",
       "      <th>287194</th>\n",
       "      <td>1999-12</td>\n",
       "      <td>YISHUN</td>\n",
       "      <td>EXECUTIVE</td>\n",
       "      <td>356</td>\n",
       "      <td>YISHUN RING RD</td>\n",
       "      <td>04 TO 06</td>\n",
       "      <td>146.0</td>\n",
       "      <td>MAISONETTE</td>\n",
       "      <td>1988</td>\n",
       "      <td>440000</td>\n",
       "    </tr>\n",
       "    <tr>\n",
       "      <th>287195</th>\n",
       "      <td>1999-12</td>\n",
       "      <td>YISHUN</td>\n",
       "      <td>EXECUTIVE</td>\n",
       "      <td>358</td>\n",
       "      <td>YISHUN RING RD</td>\n",
       "      <td>01 TO 03</td>\n",
       "      <td>145.0</td>\n",
       "      <td>MAISONETTE</td>\n",
       "      <td>1988</td>\n",
       "      <td>484000</td>\n",
       "    </tr>\n",
       "  </tbody>\n",
       "</table>\n",
       "<p>287196 rows × 10 columns</p>\n",
       "</div>"
      ],
      "text/plain": [
       "          month        town  flat_type block       street_name storey_range  \\\n",
       "0       1990-01  ANG MO KIO     1 ROOM   309  ANG MO KIO AVE 1     10 TO 12   \n",
       "1       1990-01  ANG MO KIO     1 ROOM   309  ANG MO KIO AVE 1     04 TO 06   \n",
       "2       1990-01  ANG MO KIO     1 ROOM   309  ANG MO KIO AVE 1     10 TO 12   \n",
       "3       1990-01  ANG MO KIO     1 ROOM   309  ANG MO KIO AVE 1     07 TO 09   \n",
       "4       1990-01  ANG MO KIO     3 ROOM   216  ANG MO KIO AVE 1     04 TO 06   \n",
       "...         ...         ...        ...   ...               ...          ...   \n",
       "287191  1999-12      YISHUN  EXECUTIVE   611      YISHUN ST 61     10 TO 12   \n",
       "287192  1999-12      YISHUN  EXECUTIVE   324       YISHUN CTRL     01 TO 03   \n",
       "287193  1999-12      YISHUN  EXECUTIVE   392      YISHUN AVE 6     07 TO 09   \n",
       "287194  1999-12      YISHUN  EXECUTIVE   356    YISHUN RING RD     04 TO 06   \n",
       "287195  1999-12      YISHUN  EXECUTIVE   358    YISHUN RING RD     01 TO 03   \n",
       "\n",
       "        floor_area_sqm      flat_model  lease_commence_date  resale_price  \n",
       "0                 31.0        IMPROVED                 1977          9000  \n",
       "1                 31.0        IMPROVED                 1977          6000  \n",
       "2                 31.0        IMPROVED                 1977          8000  \n",
       "3                 31.0        IMPROVED                 1977          6000  \n",
       "4                 73.0  NEW GENERATION                 1976         47200  \n",
       "...                ...             ...                  ...           ...  \n",
       "287191           142.0       APARTMENT                 1987        456000  \n",
       "287192           142.0       APARTMENT                 1988        408000  \n",
       "287193           146.0      MAISONETTE                 1988        469000  \n",
       "287194           146.0      MAISONETTE                 1988        440000  \n",
       "287195           145.0      MAISONETTE                 1988        484000  \n",
       "\n",
       "[287196 rows x 10 columns]"
      ]
     },
     "execution_count": 736,
     "metadata": {},
     "output_type": "execute_result"
    }
   ],
   "source": [
    "df_1 = pd.read_csv(r\"C:\\Users\\ASUS\\Documents\\GUVI ZEN CLASSES\\MAINT BOOT\\singapore Flat resale price predicting\\Data File\\File_1_1990 to 1999.csv\")\n",
    "df_1"
   ]
  },
  {
   "cell_type": "code",
   "execution_count": 737,
   "metadata": {},
   "outputs": [
    {
     "data": {
      "text/html": [
       "<div>\n",
       "<style scoped>\n",
       "    .dataframe tbody tr th:only-of-type {\n",
       "        vertical-align: middle;\n",
       "    }\n",
       "\n",
       "    .dataframe tbody tr th {\n",
       "        vertical-align: top;\n",
       "    }\n",
       "\n",
       "    .dataframe thead th {\n",
       "        text-align: right;\n",
       "    }\n",
       "</style>\n",
       "<table border=\"1\" class=\"dataframe\">\n",
       "  <thead>\n",
       "    <tr style=\"text-align: right;\">\n",
       "      <th></th>\n",
       "      <th>month</th>\n",
       "      <th>town</th>\n",
       "      <th>flat_type</th>\n",
       "      <th>block</th>\n",
       "      <th>street_name</th>\n",
       "      <th>storey_range</th>\n",
       "      <th>floor_area_sqm</th>\n",
       "      <th>flat_model</th>\n",
       "      <th>lease_commence_date</th>\n",
       "      <th>resale_price</th>\n",
       "    </tr>\n",
       "  </thead>\n",
       "  <tbody>\n",
       "    <tr>\n",
       "      <th>0</th>\n",
       "      <td>2000-01</td>\n",
       "      <td>ANG MO KIO</td>\n",
       "      <td>3 ROOM</td>\n",
       "      <td>170</td>\n",
       "      <td>ANG MO KIO AVE 4</td>\n",
       "      <td>07 TO 09</td>\n",
       "      <td>69.0</td>\n",
       "      <td>Improved</td>\n",
       "      <td>1986</td>\n",
       "      <td>147000.0</td>\n",
       "    </tr>\n",
       "    <tr>\n",
       "      <th>1</th>\n",
       "      <td>2000-01</td>\n",
       "      <td>ANG MO KIO</td>\n",
       "      <td>3 ROOM</td>\n",
       "      <td>174</td>\n",
       "      <td>ANG MO KIO AVE 4</td>\n",
       "      <td>04 TO 06</td>\n",
       "      <td>61.0</td>\n",
       "      <td>Improved</td>\n",
       "      <td>1986</td>\n",
       "      <td>144000.0</td>\n",
       "    </tr>\n",
       "    <tr>\n",
       "      <th>2</th>\n",
       "      <td>2000-01</td>\n",
       "      <td>ANG MO KIO</td>\n",
       "      <td>3 ROOM</td>\n",
       "      <td>216</td>\n",
       "      <td>ANG MO KIO AVE 1</td>\n",
       "      <td>07 TO 09</td>\n",
       "      <td>73.0</td>\n",
       "      <td>New Generation</td>\n",
       "      <td>1976</td>\n",
       "      <td>159000.0</td>\n",
       "    </tr>\n",
       "    <tr>\n",
       "      <th>3</th>\n",
       "      <td>2000-01</td>\n",
       "      <td>ANG MO KIO</td>\n",
       "      <td>3 ROOM</td>\n",
       "      <td>215</td>\n",
       "      <td>ANG MO KIO AVE 1</td>\n",
       "      <td>07 TO 09</td>\n",
       "      <td>73.0</td>\n",
       "      <td>New Generation</td>\n",
       "      <td>1976</td>\n",
       "      <td>167000.0</td>\n",
       "    </tr>\n",
       "    <tr>\n",
       "      <th>4</th>\n",
       "      <td>2000-01</td>\n",
       "      <td>ANG MO KIO</td>\n",
       "      <td>3 ROOM</td>\n",
       "      <td>218</td>\n",
       "      <td>ANG MO KIO AVE 1</td>\n",
       "      <td>07 TO 09</td>\n",
       "      <td>67.0</td>\n",
       "      <td>New Generation</td>\n",
       "      <td>1976</td>\n",
       "      <td>163000.0</td>\n",
       "    </tr>\n",
       "    <tr>\n",
       "      <th>...</th>\n",
       "      <td>...</td>\n",
       "      <td>...</td>\n",
       "      <td>...</td>\n",
       "      <td>...</td>\n",
       "      <td>...</td>\n",
       "      <td>...</td>\n",
       "      <td>...</td>\n",
       "      <td>...</td>\n",
       "      <td>...</td>\n",
       "      <td>...</td>\n",
       "    </tr>\n",
       "    <tr>\n",
       "      <th>369646</th>\n",
       "      <td>2012-02</td>\n",
       "      <td>YISHUN</td>\n",
       "      <td>5 ROOM</td>\n",
       "      <td>212</td>\n",
       "      <td>YISHUN ST 21</td>\n",
       "      <td>10 TO 12</td>\n",
       "      <td>121.0</td>\n",
       "      <td>Improved</td>\n",
       "      <td>1985</td>\n",
       "      <td>476888.0</td>\n",
       "    </tr>\n",
       "    <tr>\n",
       "      <th>369647</th>\n",
       "      <td>2012-02</td>\n",
       "      <td>YISHUN</td>\n",
       "      <td>5 ROOM</td>\n",
       "      <td>758</td>\n",
       "      <td>YISHUN ST 72</td>\n",
       "      <td>01 TO 03</td>\n",
       "      <td>122.0</td>\n",
       "      <td>Improved</td>\n",
       "      <td>1986</td>\n",
       "      <td>490000.0</td>\n",
       "    </tr>\n",
       "    <tr>\n",
       "      <th>369648</th>\n",
       "      <td>2012-02</td>\n",
       "      <td>YISHUN</td>\n",
       "      <td>5 ROOM</td>\n",
       "      <td>873</td>\n",
       "      <td>YISHUN ST 81</td>\n",
       "      <td>01 TO 03</td>\n",
       "      <td>122.0</td>\n",
       "      <td>Improved</td>\n",
       "      <td>1988</td>\n",
       "      <td>488000.0</td>\n",
       "    </tr>\n",
       "    <tr>\n",
       "      <th>369649</th>\n",
       "      <td>2012-02</td>\n",
       "      <td>YISHUN</td>\n",
       "      <td>EXECUTIVE</td>\n",
       "      <td>664</td>\n",
       "      <td>YISHUN AVE 4</td>\n",
       "      <td>07 TO 09</td>\n",
       "      <td>181.0</td>\n",
       "      <td>Apartment</td>\n",
       "      <td>1992</td>\n",
       "      <td>705000.0</td>\n",
       "    </tr>\n",
       "    <tr>\n",
       "      <th>369650</th>\n",
       "      <td>2012-02</td>\n",
       "      <td>YISHUN</td>\n",
       "      <td>EXECUTIVE</td>\n",
       "      <td>293</td>\n",
       "      <td>YISHUN ST 22</td>\n",
       "      <td>04 TO 06</td>\n",
       "      <td>163.0</td>\n",
       "      <td>Apartment</td>\n",
       "      <td>1992</td>\n",
       "      <td>630000.0</td>\n",
       "    </tr>\n",
       "  </tbody>\n",
       "</table>\n",
       "<p>369651 rows × 10 columns</p>\n",
       "</div>"
      ],
      "text/plain": [
       "          month        town  flat_type block       street_name storey_range  \\\n",
       "0       2000-01  ANG MO KIO     3 ROOM   170  ANG MO KIO AVE 4     07 TO 09   \n",
       "1       2000-01  ANG MO KIO     3 ROOM   174  ANG MO KIO AVE 4     04 TO 06   \n",
       "2       2000-01  ANG MO KIO     3 ROOM   216  ANG MO KIO AVE 1     07 TO 09   \n",
       "3       2000-01  ANG MO KIO     3 ROOM   215  ANG MO KIO AVE 1     07 TO 09   \n",
       "4       2000-01  ANG MO KIO     3 ROOM   218  ANG MO KIO AVE 1     07 TO 09   \n",
       "...         ...         ...        ...   ...               ...          ...   \n",
       "369646  2012-02      YISHUN     5 ROOM   212      YISHUN ST 21     10 TO 12   \n",
       "369647  2012-02      YISHUN     5 ROOM   758      YISHUN ST 72     01 TO 03   \n",
       "369648  2012-02      YISHUN     5 ROOM   873      YISHUN ST 81     01 TO 03   \n",
       "369649  2012-02      YISHUN  EXECUTIVE   664      YISHUN AVE 4     07 TO 09   \n",
       "369650  2012-02      YISHUN  EXECUTIVE   293      YISHUN ST 22     04 TO 06   \n",
       "\n",
       "        floor_area_sqm      flat_model  lease_commence_date  resale_price  \n",
       "0                 69.0        Improved                 1986      147000.0  \n",
       "1                 61.0        Improved                 1986      144000.0  \n",
       "2                 73.0  New Generation                 1976      159000.0  \n",
       "3                 73.0  New Generation                 1976      167000.0  \n",
       "4                 67.0  New Generation                 1976      163000.0  \n",
       "...                ...             ...                  ...           ...  \n",
       "369646           121.0        Improved                 1985      476888.0  \n",
       "369647           122.0        Improved                 1986      490000.0  \n",
       "369648           122.0        Improved                 1988      488000.0  \n",
       "369649           181.0       Apartment                 1992      705000.0  \n",
       "369650           163.0       Apartment                 1992      630000.0  \n",
       "\n",
       "[369651 rows x 10 columns]"
      ]
     },
     "execution_count": 737,
     "metadata": {},
     "output_type": "execute_result"
    }
   ],
   "source": [
    "df_2 = pd.read_csv(r\"C:\\Users\\ASUS\\Documents\\GUVI ZEN CLASSES\\MAINT BOOT\\singapore Flat resale price predicting\\Data File\\File_2_2000 to 2012.csv\")\n",
    "df_2"
   ]
  },
  {
   "cell_type": "code",
   "execution_count": 738,
   "metadata": {},
   "outputs": [
    {
     "data": {
      "text/html": [
       "<div>\n",
       "<style scoped>\n",
       "    .dataframe tbody tr th:only-of-type {\n",
       "        vertical-align: middle;\n",
       "    }\n",
       "\n",
       "    .dataframe tbody tr th {\n",
       "        vertical-align: top;\n",
       "    }\n",
       "\n",
       "    .dataframe thead th {\n",
       "        text-align: right;\n",
       "    }\n",
       "</style>\n",
       "<table border=\"1\" class=\"dataframe\">\n",
       "  <thead>\n",
       "    <tr style=\"text-align: right;\">\n",
       "      <th></th>\n",
       "      <th>month</th>\n",
       "      <th>town</th>\n",
       "      <th>flat_type</th>\n",
       "      <th>block</th>\n",
       "      <th>street_name</th>\n",
       "      <th>storey_range</th>\n",
       "      <th>floor_area_sqm</th>\n",
       "      <th>flat_model</th>\n",
       "      <th>lease_commence_date</th>\n",
       "      <th>remaining_lease</th>\n",
       "      <th>resale_price</th>\n",
       "    </tr>\n",
       "  </thead>\n",
       "  <tbody>\n",
       "    <tr>\n",
       "      <th>0</th>\n",
       "      <td>2015-01</td>\n",
       "      <td>ANG MO KIO</td>\n",
       "      <td>3 ROOM</td>\n",
       "      <td>174</td>\n",
       "      <td>ANG MO KIO AVE 4</td>\n",
       "      <td>07 TO 09</td>\n",
       "      <td>60.0</td>\n",
       "      <td>Improved</td>\n",
       "      <td>1986</td>\n",
       "      <td>70</td>\n",
       "      <td>255000.0</td>\n",
       "    </tr>\n",
       "    <tr>\n",
       "      <th>1</th>\n",
       "      <td>2015-01</td>\n",
       "      <td>ANG MO KIO</td>\n",
       "      <td>3 ROOM</td>\n",
       "      <td>541</td>\n",
       "      <td>ANG MO KIO AVE 10</td>\n",
       "      <td>01 TO 03</td>\n",
       "      <td>68.0</td>\n",
       "      <td>New Generation</td>\n",
       "      <td>1981</td>\n",
       "      <td>65</td>\n",
       "      <td>275000.0</td>\n",
       "    </tr>\n",
       "    <tr>\n",
       "      <th>2</th>\n",
       "      <td>2015-01</td>\n",
       "      <td>ANG MO KIO</td>\n",
       "      <td>3 ROOM</td>\n",
       "      <td>163</td>\n",
       "      <td>ANG MO KIO AVE 4</td>\n",
       "      <td>01 TO 03</td>\n",
       "      <td>69.0</td>\n",
       "      <td>New Generation</td>\n",
       "      <td>1980</td>\n",
       "      <td>64</td>\n",
       "      <td>285000.0</td>\n",
       "    </tr>\n",
       "    <tr>\n",
       "      <th>3</th>\n",
       "      <td>2015-01</td>\n",
       "      <td>ANG MO KIO</td>\n",
       "      <td>3 ROOM</td>\n",
       "      <td>446</td>\n",
       "      <td>ANG MO KIO AVE 10</td>\n",
       "      <td>01 TO 03</td>\n",
       "      <td>68.0</td>\n",
       "      <td>New Generation</td>\n",
       "      <td>1979</td>\n",
       "      <td>63</td>\n",
       "      <td>290000.0</td>\n",
       "    </tr>\n",
       "    <tr>\n",
       "      <th>4</th>\n",
       "      <td>2015-01</td>\n",
       "      <td>ANG MO KIO</td>\n",
       "      <td>3 ROOM</td>\n",
       "      <td>557</td>\n",
       "      <td>ANG MO KIO AVE 10</td>\n",
       "      <td>07 TO 09</td>\n",
       "      <td>68.0</td>\n",
       "      <td>New Generation</td>\n",
       "      <td>1980</td>\n",
       "      <td>64</td>\n",
       "      <td>290000.0</td>\n",
       "    </tr>\n",
       "    <tr>\n",
       "      <th>...</th>\n",
       "      <td>...</td>\n",
       "      <td>...</td>\n",
       "      <td>...</td>\n",
       "      <td>...</td>\n",
       "      <td>...</td>\n",
       "      <td>...</td>\n",
       "      <td>...</td>\n",
       "      <td>...</td>\n",
       "      <td>...</td>\n",
       "      <td>...</td>\n",
       "      <td>...</td>\n",
       "    </tr>\n",
       "    <tr>\n",
       "      <th>37148</th>\n",
       "      <td>2016-12</td>\n",
       "      <td>YISHUN</td>\n",
       "      <td>5 ROOM</td>\n",
       "      <td>297</td>\n",
       "      <td>YISHUN ST 20</td>\n",
       "      <td>13 TO 15</td>\n",
       "      <td>112.0</td>\n",
       "      <td>Improved</td>\n",
       "      <td>2000</td>\n",
       "      <td>82</td>\n",
       "      <td>488000.0</td>\n",
       "    </tr>\n",
       "    <tr>\n",
       "      <th>37149</th>\n",
       "      <td>2016-12</td>\n",
       "      <td>YISHUN</td>\n",
       "      <td>5 ROOM</td>\n",
       "      <td>838</td>\n",
       "      <td>YISHUN ST 81</td>\n",
       "      <td>01 TO 03</td>\n",
       "      <td>122.0</td>\n",
       "      <td>Improved</td>\n",
       "      <td>1987</td>\n",
       "      <td>69</td>\n",
       "      <td>455000.0</td>\n",
       "    </tr>\n",
       "    <tr>\n",
       "      <th>37150</th>\n",
       "      <td>2016-12</td>\n",
       "      <td>YISHUN</td>\n",
       "      <td>EXECUTIVE</td>\n",
       "      <td>664</td>\n",
       "      <td>YISHUN AVE 4</td>\n",
       "      <td>10 TO 12</td>\n",
       "      <td>181.0</td>\n",
       "      <td>Apartment</td>\n",
       "      <td>1992</td>\n",
       "      <td>74</td>\n",
       "      <td>778000.0</td>\n",
       "    </tr>\n",
       "    <tr>\n",
       "      <th>37151</th>\n",
       "      <td>2016-12</td>\n",
       "      <td>YISHUN</td>\n",
       "      <td>EXECUTIVE</td>\n",
       "      <td>325</td>\n",
       "      <td>YISHUN CTRL</td>\n",
       "      <td>01 TO 03</td>\n",
       "      <td>146.0</td>\n",
       "      <td>Maisonette</td>\n",
       "      <td>1988</td>\n",
       "      <td>70</td>\n",
       "      <td>575000.0</td>\n",
       "    </tr>\n",
       "    <tr>\n",
       "      <th>37152</th>\n",
       "      <td>2016-12</td>\n",
       "      <td>YISHUN</td>\n",
       "      <td>MULTI-GENERATION</td>\n",
       "      <td>666</td>\n",
       "      <td>YISHUN AVE 4</td>\n",
       "      <td>10 TO 12</td>\n",
       "      <td>164.0</td>\n",
       "      <td>Multi Generation</td>\n",
       "      <td>1987</td>\n",
       "      <td>70</td>\n",
       "      <td>735000.0</td>\n",
       "    </tr>\n",
       "  </tbody>\n",
       "</table>\n",
       "<p>37153 rows × 11 columns</p>\n",
       "</div>"
      ],
      "text/plain": [
       "         month        town         flat_type block        street_name  \\\n",
       "0      2015-01  ANG MO KIO            3 ROOM   174   ANG MO KIO AVE 4   \n",
       "1      2015-01  ANG MO KIO            3 ROOM   541  ANG MO KIO AVE 10   \n",
       "2      2015-01  ANG MO KIO            3 ROOM   163   ANG MO KIO AVE 4   \n",
       "3      2015-01  ANG MO KIO            3 ROOM   446  ANG MO KIO AVE 10   \n",
       "4      2015-01  ANG MO KIO            3 ROOM   557  ANG MO KIO AVE 10   \n",
       "...        ...         ...               ...   ...                ...   \n",
       "37148  2016-12      YISHUN            5 ROOM   297       YISHUN ST 20   \n",
       "37149  2016-12      YISHUN            5 ROOM   838       YISHUN ST 81   \n",
       "37150  2016-12      YISHUN         EXECUTIVE   664       YISHUN AVE 4   \n",
       "37151  2016-12      YISHUN         EXECUTIVE   325        YISHUN CTRL   \n",
       "37152  2016-12      YISHUN  MULTI-GENERATION   666       YISHUN AVE 4   \n",
       "\n",
       "      storey_range  floor_area_sqm        flat_model  lease_commence_date  \\\n",
       "0         07 TO 09            60.0          Improved                 1986   \n",
       "1         01 TO 03            68.0    New Generation                 1981   \n",
       "2         01 TO 03            69.0    New Generation                 1980   \n",
       "3         01 TO 03            68.0    New Generation                 1979   \n",
       "4         07 TO 09            68.0    New Generation                 1980   \n",
       "...            ...             ...               ...                  ...   \n",
       "37148     13 TO 15           112.0          Improved                 2000   \n",
       "37149     01 TO 03           122.0          Improved                 1987   \n",
       "37150     10 TO 12           181.0         Apartment                 1992   \n",
       "37151     01 TO 03           146.0        Maisonette                 1988   \n",
       "37152     10 TO 12           164.0  Multi Generation                 1987   \n",
       "\n",
       "       remaining_lease  resale_price  \n",
       "0                   70      255000.0  \n",
       "1                   65      275000.0  \n",
       "2                   64      285000.0  \n",
       "3                   63      290000.0  \n",
       "4                   64      290000.0  \n",
       "...                ...           ...  \n",
       "37148               82      488000.0  \n",
       "37149               69      455000.0  \n",
       "37150               74      778000.0  \n",
       "37151               70      575000.0  \n",
       "37152               70      735000.0  \n",
       "\n",
       "[37153 rows x 11 columns]"
      ]
     },
     "execution_count": 738,
     "metadata": {},
     "output_type": "execute_result"
    }
   ],
   "source": [
    "df_3 = pd.read_csv(r\"C:\\Users\\ASUS\\Documents\\GUVI ZEN CLASSES\\MAINT BOOT\\singapore Flat resale price predicting\\Data File\\File_3_FromJan2015toDec2016.csv\")\n",
    "df_3"
   ]
  },
  {
   "cell_type": "code",
   "execution_count": 739,
   "metadata": {},
   "outputs": [
    {
     "data": {
      "text/html": [
       "<div>\n",
       "<style scoped>\n",
       "    .dataframe tbody tr th:only-of-type {\n",
       "        vertical-align: middle;\n",
       "    }\n",
       "\n",
       "    .dataframe tbody tr th {\n",
       "        vertical-align: top;\n",
       "    }\n",
       "\n",
       "    .dataframe thead th {\n",
       "        text-align: right;\n",
       "    }\n",
       "</style>\n",
       "<table border=\"1\" class=\"dataframe\">\n",
       "  <thead>\n",
       "    <tr style=\"text-align: right;\">\n",
       "      <th></th>\n",
       "      <th>month</th>\n",
       "      <th>town</th>\n",
       "      <th>flat_type</th>\n",
       "      <th>block</th>\n",
       "      <th>street_name</th>\n",
       "      <th>storey_range</th>\n",
       "      <th>floor_area_sqm</th>\n",
       "      <th>flat_model</th>\n",
       "      <th>lease_commence_date</th>\n",
       "      <th>resale_price</th>\n",
       "    </tr>\n",
       "  </thead>\n",
       "  <tbody>\n",
       "    <tr>\n",
       "      <th>0</th>\n",
       "      <td>2012-03</td>\n",
       "      <td>ANG MO KIO</td>\n",
       "      <td>2 ROOM</td>\n",
       "      <td>172</td>\n",
       "      <td>ANG MO KIO AVE 4</td>\n",
       "      <td>06 TO 10</td>\n",
       "      <td>45.0</td>\n",
       "      <td>Improved</td>\n",
       "      <td>1986</td>\n",
       "      <td>250000.0</td>\n",
       "    </tr>\n",
       "    <tr>\n",
       "      <th>1</th>\n",
       "      <td>2012-03</td>\n",
       "      <td>ANG MO KIO</td>\n",
       "      <td>2 ROOM</td>\n",
       "      <td>510</td>\n",
       "      <td>ANG MO KIO AVE 8</td>\n",
       "      <td>01 TO 05</td>\n",
       "      <td>44.0</td>\n",
       "      <td>Improved</td>\n",
       "      <td>1980</td>\n",
       "      <td>265000.0</td>\n",
       "    </tr>\n",
       "    <tr>\n",
       "      <th>2</th>\n",
       "      <td>2012-03</td>\n",
       "      <td>ANG MO KIO</td>\n",
       "      <td>3 ROOM</td>\n",
       "      <td>610</td>\n",
       "      <td>ANG MO KIO AVE 4</td>\n",
       "      <td>06 TO 10</td>\n",
       "      <td>68.0</td>\n",
       "      <td>New Generation</td>\n",
       "      <td>1980</td>\n",
       "      <td>315000.0</td>\n",
       "    </tr>\n",
       "    <tr>\n",
       "      <th>3</th>\n",
       "      <td>2012-03</td>\n",
       "      <td>ANG MO KIO</td>\n",
       "      <td>3 ROOM</td>\n",
       "      <td>474</td>\n",
       "      <td>ANG MO KIO AVE 10</td>\n",
       "      <td>01 TO 05</td>\n",
       "      <td>67.0</td>\n",
       "      <td>New Generation</td>\n",
       "      <td>1984</td>\n",
       "      <td>320000.0</td>\n",
       "    </tr>\n",
       "    <tr>\n",
       "      <th>4</th>\n",
       "      <td>2012-03</td>\n",
       "      <td>ANG MO KIO</td>\n",
       "      <td>3 ROOM</td>\n",
       "      <td>604</td>\n",
       "      <td>ANG MO KIO AVE 5</td>\n",
       "      <td>06 TO 10</td>\n",
       "      <td>67.0</td>\n",
       "      <td>New Generation</td>\n",
       "      <td>1980</td>\n",
       "      <td>321000.0</td>\n",
       "    </tr>\n",
       "    <tr>\n",
       "      <th>...</th>\n",
       "      <td>...</td>\n",
       "      <td>...</td>\n",
       "      <td>...</td>\n",
       "      <td>...</td>\n",
       "      <td>...</td>\n",
       "      <td>...</td>\n",
       "      <td>...</td>\n",
       "      <td>...</td>\n",
       "      <td>...</td>\n",
       "      <td>...</td>\n",
       "    </tr>\n",
       "    <tr>\n",
       "      <th>52198</th>\n",
       "      <td>2014-12</td>\n",
       "      <td>YISHUN</td>\n",
       "      <td>5 ROOM</td>\n",
       "      <td>816</td>\n",
       "      <td>YISHUN ST 81</td>\n",
       "      <td>10 TO 12</td>\n",
       "      <td>122.0</td>\n",
       "      <td>Improved</td>\n",
       "      <td>1988</td>\n",
       "      <td>580000.0</td>\n",
       "    </tr>\n",
       "    <tr>\n",
       "      <th>52199</th>\n",
       "      <td>2014-12</td>\n",
       "      <td>YISHUN</td>\n",
       "      <td>EXECUTIVE</td>\n",
       "      <td>325</td>\n",
       "      <td>YISHUN CTRL</td>\n",
       "      <td>10 TO 12</td>\n",
       "      <td>146.0</td>\n",
       "      <td>Maisonette</td>\n",
       "      <td>1988</td>\n",
       "      <td>540000.0</td>\n",
       "    </tr>\n",
       "    <tr>\n",
       "      <th>52200</th>\n",
       "      <td>2014-12</td>\n",
       "      <td>YISHUN</td>\n",
       "      <td>EXECUTIVE</td>\n",
       "      <td>618</td>\n",
       "      <td>YISHUN RING RD</td>\n",
       "      <td>07 TO 09</td>\n",
       "      <td>164.0</td>\n",
       "      <td>Apartment</td>\n",
       "      <td>1992</td>\n",
       "      <td>738000.0</td>\n",
       "    </tr>\n",
       "    <tr>\n",
       "      <th>52201</th>\n",
       "      <td>2014-12</td>\n",
       "      <td>YISHUN</td>\n",
       "      <td>EXECUTIVE</td>\n",
       "      <td>277</td>\n",
       "      <td>YISHUN ST 22</td>\n",
       "      <td>07 TO 09</td>\n",
       "      <td>152.0</td>\n",
       "      <td>Maisonette</td>\n",
       "      <td>1985</td>\n",
       "      <td>592000.0</td>\n",
       "    </tr>\n",
       "    <tr>\n",
       "      <th>52202</th>\n",
       "      <td>2014-12</td>\n",
       "      <td>YISHUN</td>\n",
       "      <td>EXECUTIVE</td>\n",
       "      <td>277</td>\n",
       "      <td>YISHUN ST 22</td>\n",
       "      <td>04 TO 06</td>\n",
       "      <td>146.0</td>\n",
       "      <td>Maisonette</td>\n",
       "      <td>1985</td>\n",
       "      <td>545000.0</td>\n",
       "    </tr>\n",
       "  </tbody>\n",
       "</table>\n",
       "<p>52203 rows × 10 columns</p>\n",
       "</div>"
      ],
      "text/plain": [
       "         month        town  flat_type block        street_name storey_range  \\\n",
       "0      2012-03  ANG MO KIO     2 ROOM   172   ANG MO KIO AVE 4     06 TO 10   \n",
       "1      2012-03  ANG MO KIO     2 ROOM   510   ANG MO KIO AVE 8     01 TO 05   \n",
       "2      2012-03  ANG MO KIO     3 ROOM   610   ANG MO KIO AVE 4     06 TO 10   \n",
       "3      2012-03  ANG MO KIO     3 ROOM   474  ANG MO KIO AVE 10     01 TO 05   \n",
       "4      2012-03  ANG MO KIO     3 ROOM   604   ANG MO KIO AVE 5     06 TO 10   \n",
       "...        ...         ...        ...   ...                ...          ...   \n",
       "52198  2014-12      YISHUN     5 ROOM   816       YISHUN ST 81     10 TO 12   \n",
       "52199  2014-12      YISHUN  EXECUTIVE   325        YISHUN CTRL     10 TO 12   \n",
       "52200  2014-12      YISHUN  EXECUTIVE   618     YISHUN RING RD     07 TO 09   \n",
       "52201  2014-12      YISHUN  EXECUTIVE   277       YISHUN ST 22     07 TO 09   \n",
       "52202  2014-12      YISHUN  EXECUTIVE   277       YISHUN ST 22     04 TO 06   \n",
       "\n",
       "       floor_area_sqm      flat_model  lease_commence_date  resale_price  \n",
       "0                45.0        Improved                 1986      250000.0  \n",
       "1                44.0        Improved                 1980      265000.0  \n",
       "2                68.0  New Generation                 1980      315000.0  \n",
       "3                67.0  New Generation                 1984      320000.0  \n",
       "4                67.0  New Generation                 1980      321000.0  \n",
       "...               ...             ...                  ...           ...  \n",
       "52198           122.0        Improved                 1988      580000.0  \n",
       "52199           146.0      Maisonette                 1988      540000.0  \n",
       "52200           164.0       Apartment                 1992      738000.0  \n",
       "52201           152.0      Maisonette                 1985      592000.0  \n",
       "52202           146.0      Maisonette                 1985      545000.0  \n",
       "\n",
       "[52203 rows x 10 columns]"
      ]
     },
     "execution_count": 739,
     "metadata": {},
     "output_type": "execute_result"
    }
   ],
   "source": [
    "df_4 = pd.read_csv(r\"C:\\Users\\ASUS\\Documents\\GUVI ZEN CLASSES\\MAINT BOOT\\singapore Flat resale price predicting\\Data File\\File_4_FromMar2012toDec2014.csv\")\n",
    "df_4"
   ]
  },
  {
   "cell_type": "code",
   "execution_count": 745,
   "metadata": {},
   "outputs": [
    {
     "data": {
      "text/html": [
       "<div>\n",
       "<style scoped>\n",
       "    .dataframe tbody tr th:only-of-type {\n",
       "        vertical-align: middle;\n",
       "    }\n",
       "\n",
       "    .dataframe tbody tr th {\n",
       "        vertical-align: top;\n",
       "    }\n",
       "\n",
       "    .dataframe thead th {\n",
       "        text-align: right;\n",
       "    }\n",
       "</style>\n",
       "<table border=\"1\" class=\"dataframe\">\n",
       "  <thead>\n",
       "    <tr style=\"text-align: right;\">\n",
       "      <th></th>\n",
       "      <th>month</th>\n",
       "      <th>town</th>\n",
       "      <th>flat_type</th>\n",
       "      <th>block</th>\n",
       "      <th>street_name</th>\n",
       "      <th>storey_range</th>\n",
       "      <th>floor_area_sqm</th>\n",
       "      <th>flat_model</th>\n",
       "      <th>lease_commence_date</th>\n",
       "      <th>remaining_lease</th>\n",
       "      <th>resale_price</th>\n",
       "    </tr>\n",
       "  </thead>\n",
       "  <tbody>\n",
       "    <tr>\n",
       "      <th>0</th>\n",
       "      <td>2017-01</td>\n",
       "      <td>ANG MO KIO</td>\n",
       "      <td>2 ROOM</td>\n",
       "      <td>406</td>\n",
       "      <td>ANG MO KIO AVE 10</td>\n",
       "      <td>10 TO 12</td>\n",
       "      <td>44.0</td>\n",
       "      <td>Improved</td>\n",
       "      <td>1979</td>\n",
       "      <td>61 years 04 months</td>\n",
       "      <td>232000.0</td>\n",
       "    </tr>\n",
       "    <tr>\n",
       "      <th>1</th>\n",
       "      <td>2017-01</td>\n",
       "      <td>ANG MO KIO</td>\n",
       "      <td>3 ROOM</td>\n",
       "      <td>108</td>\n",
       "      <td>ANG MO KIO AVE 4</td>\n",
       "      <td>01 TO 03</td>\n",
       "      <td>67.0</td>\n",
       "      <td>New Generation</td>\n",
       "      <td>1978</td>\n",
       "      <td>60 years 07 months</td>\n",
       "      <td>250000.0</td>\n",
       "    </tr>\n",
       "    <tr>\n",
       "      <th>2</th>\n",
       "      <td>2017-01</td>\n",
       "      <td>ANG MO KIO</td>\n",
       "      <td>3 ROOM</td>\n",
       "      <td>602</td>\n",
       "      <td>ANG MO KIO AVE 5</td>\n",
       "      <td>01 TO 03</td>\n",
       "      <td>67.0</td>\n",
       "      <td>New Generation</td>\n",
       "      <td>1980</td>\n",
       "      <td>62 years 05 months</td>\n",
       "      <td>262000.0</td>\n",
       "    </tr>\n",
       "    <tr>\n",
       "      <th>3</th>\n",
       "      <td>2017-01</td>\n",
       "      <td>ANG MO KIO</td>\n",
       "      <td>3 ROOM</td>\n",
       "      <td>465</td>\n",
       "      <td>ANG MO KIO AVE 10</td>\n",
       "      <td>04 TO 06</td>\n",
       "      <td>68.0</td>\n",
       "      <td>New Generation</td>\n",
       "      <td>1980</td>\n",
       "      <td>62 years 01 month</td>\n",
       "      <td>265000.0</td>\n",
       "    </tr>\n",
       "    <tr>\n",
       "      <th>4</th>\n",
       "      <td>2017-01</td>\n",
       "      <td>ANG MO KIO</td>\n",
       "      <td>3 ROOM</td>\n",
       "      <td>601</td>\n",
       "      <td>ANG MO KIO AVE 5</td>\n",
       "      <td>01 TO 03</td>\n",
       "      <td>67.0</td>\n",
       "      <td>New Generation</td>\n",
       "      <td>1980</td>\n",
       "      <td>62 years 05 months</td>\n",
       "      <td>265000.0</td>\n",
       "    </tr>\n",
       "    <tr>\n",
       "      <th>...</th>\n",
       "      <td>...</td>\n",
       "      <td>...</td>\n",
       "      <td>...</td>\n",
       "      <td>...</td>\n",
       "      <td>...</td>\n",
       "      <td>...</td>\n",
       "      <td>...</td>\n",
       "      <td>...</td>\n",
       "      <td>...</td>\n",
       "      <td>...</td>\n",
       "      <td>...</td>\n",
       "    </tr>\n",
       "    <tr>\n",
       "      <th>190207</th>\n",
       "      <td>2024-09</td>\n",
       "      <td>YISHUN</td>\n",
       "      <td>EXECUTIVE</td>\n",
       "      <td>358</td>\n",
       "      <td>YISHUN RING RD</td>\n",
       "      <td>01 TO 03</td>\n",
       "      <td>146.0</td>\n",
       "      <td>Maisonette</td>\n",
       "      <td>1988</td>\n",
       "      <td>62 years 10 months</td>\n",
       "      <td>850000.0</td>\n",
       "    </tr>\n",
       "    <tr>\n",
       "      <th>190208</th>\n",
       "      <td>2024-09</td>\n",
       "      <td>YISHUN</td>\n",
       "      <td>EXECUTIVE</td>\n",
       "      <td>361</td>\n",
       "      <td>YISHUN RING RD</td>\n",
       "      <td>01 TO 03</td>\n",
       "      <td>146.0</td>\n",
       "      <td>Maisonette</td>\n",
       "      <td>1988</td>\n",
       "      <td>62 years 10 months</td>\n",
       "      <td>800000.0</td>\n",
       "    </tr>\n",
       "    <tr>\n",
       "      <th>190209</th>\n",
       "      <td>2024-09</td>\n",
       "      <td>YISHUN</td>\n",
       "      <td>EXECUTIVE</td>\n",
       "      <td>606</td>\n",
       "      <td>YISHUN ST 61</td>\n",
       "      <td>01 TO 03</td>\n",
       "      <td>147.0</td>\n",
       "      <td>Apartment</td>\n",
       "      <td>1987</td>\n",
       "      <td>62 years 03 months</td>\n",
       "      <td>770000.0</td>\n",
       "    </tr>\n",
       "    <tr>\n",
       "      <th>190210</th>\n",
       "      <td>2024-09</td>\n",
       "      <td>YISHUN</td>\n",
       "      <td>EXECUTIVE</td>\n",
       "      <td>641</td>\n",
       "      <td>YISHUN ST 61</td>\n",
       "      <td>07 TO 09</td>\n",
       "      <td>164.0</td>\n",
       "      <td>Apartment</td>\n",
       "      <td>1992</td>\n",
       "      <td>66 years 10 months</td>\n",
       "      <td>1068888.0</td>\n",
       "    </tr>\n",
       "    <tr>\n",
       "      <th>190211</th>\n",
       "      <td>2024-09</td>\n",
       "      <td>YISHUN</td>\n",
       "      <td>EXECUTIVE</td>\n",
       "      <td>824</td>\n",
       "      <td>YISHUN ST 81</td>\n",
       "      <td>01 TO 03</td>\n",
       "      <td>146.0</td>\n",
       "      <td>Maisonette</td>\n",
       "      <td>1987</td>\n",
       "      <td>62 years 03 months</td>\n",
       "      <td>893888.0</td>\n",
       "    </tr>\n",
       "  </tbody>\n",
       "</table>\n",
       "<p>190212 rows × 11 columns</p>\n",
       "</div>"
      ],
      "text/plain": [
       "          month        town  flat_type block        street_name storey_range  \\\n",
       "0       2017-01  ANG MO KIO     2 ROOM   406  ANG MO KIO AVE 10     10 TO 12   \n",
       "1       2017-01  ANG MO KIO     3 ROOM   108   ANG MO KIO AVE 4     01 TO 03   \n",
       "2       2017-01  ANG MO KIO     3 ROOM   602   ANG MO KIO AVE 5     01 TO 03   \n",
       "3       2017-01  ANG MO KIO     3 ROOM   465  ANG MO KIO AVE 10     04 TO 06   \n",
       "4       2017-01  ANG MO KIO     3 ROOM   601   ANG MO KIO AVE 5     01 TO 03   \n",
       "...         ...         ...        ...   ...                ...          ...   \n",
       "190207  2024-09      YISHUN  EXECUTIVE   358     YISHUN RING RD     01 TO 03   \n",
       "190208  2024-09      YISHUN  EXECUTIVE   361     YISHUN RING RD     01 TO 03   \n",
       "190209  2024-09      YISHUN  EXECUTIVE   606       YISHUN ST 61     01 TO 03   \n",
       "190210  2024-09      YISHUN  EXECUTIVE   641       YISHUN ST 61     07 TO 09   \n",
       "190211  2024-09      YISHUN  EXECUTIVE   824       YISHUN ST 81     01 TO 03   \n",
       "\n",
       "        floor_area_sqm      flat_model  lease_commence_date  \\\n",
       "0                 44.0        Improved                 1979   \n",
       "1                 67.0  New Generation                 1978   \n",
       "2                 67.0  New Generation                 1980   \n",
       "3                 68.0  New Generation                 1980   \n",
       "4                 67.0  New Generation                 1980   \n",
       "...                ...             ...                  ...   \n",
       "190207           146.0      Maisonette                 1988   \n",
       "190208           146.0      Maisonette                 1988   \n",
       "190209           147.0       Apartment                 1987   \n",
       "190210           164.0       Apartment                 1992   \n",
       "190211           146.0      Maisonette                 1987   \n",
       "\n",
       "           remaining_lease  resale_price  \n",
       "0       61 years 04 months      232000.0  \n",
       "1       60 years 07 months      250000.0  \n",
       "2       62 years 05 months      262000.0  \n",
       "3        62 years 01 month      265000.0  \n",
       "4       62 years 05 months      265000.0  \n",
       "...                    ...           ...  \n",
       "190207  62 years 10 months      850000.0  \n",
       "190208  62 years 10 months      800000.0  \n",
       "190209  62 years 03 months      770000.0  \n",
       "190210  66 years 10 months     1068888.0  \n",
       "190211  62 years 03 months      893888.0  \n",
       "\n",
       "[190212 rows x 11 columns]"
      ]
     },
     "execution_count": 745,
     "metadata": {},
     "output_type": "execute_result"
    }
   ],
   "source": [
    "df_5 = pd.read_csv(r\"C:\\Users\\ASUS\\Documents\\GUVI ZEN CLASSES\\MAINT BOOT\\singapore Flat resale price predicting\\Data File\\File_5_fromJan2017onwards.csv\")\n",
    "df_5"
   ]
  },
  {
   "cell_type": "code",
   "execution_count": 948,
   "metadata": {},
   "outputs": [
    {
     "data": {
      "text/html": [
       "<div>\n",
       "<style scoped>\n",
       "    .dataframe tbody tr th:only-of-type {\n",
       "        vertical-align: middle;\n",
       "    }\n",
       "\n",
       "    .dataframe tbody tr th {\n",
       "        vertical-align: top;\n",
       "    }\n",
       "\n",
       "    .dataframe thead th {\n",
       "        text-align: right;\n",
       "    }\n",
       "</style>\n",
       "<table border=\"1\" class=\"dataframe\">\n",
       "  <thead>\n",
       "    <tr style=\"text-align: right;\">\n",
       "      <th></th>\n",
       "      <th>month</th>\n",
       "      <th>town</th>\n",
       "      <th>flat_type</th>\n",
       "      <th>block</th>\n",
       "      <th>street_name</th>\n",
       "      <th>storey_range</th>\n",
       "      <th>floor_area_sqm</th>\n",
       "      <th>flat_model</th>\n",
       "      <th>lease_commence_date</th>\n",
       "      <th>resale_price</th>\n",
       "      <th>remaining_lease</th>\n",
       "    </tr>\n",
       "  </thead>\n",
       "  <tbody>\n",
       "    <tr>\n",
       "      <th>0</th>\n",
       "      <td>1990-01</td>\n",
       "      <td>ANG MO KIO</td>\n",
       "      <td>1 ROOM</td>\n",
       "      <td>309</td>\n",
       "      <td>ANG MO KIO AVE 1</td>\n",
       "      <td>10 TO 12</td>\n",
       "      <td>31.0</td>\n",
       "      <td>IMPROVED</td>\n",
       "      <td>1977</td>\n",
       "      <td>9000.0</td>\n",
       "      <td>NaN</td>\n",
       "    </tr>\n",
       "    <tr>\n",
       "      <th>1</th>\n",
       "      <td>1990-01</td>\n",
       "      <td>ANG MO KIO</td>\n",
       "      <td>1 ROOM</td>\n",
       "      <td>309</td>\n",
       "      <td>ANG MO KIO AVE 1</td>\n",
       "      <td>04 TO 06</td>\n",
       "      <td>31.0</td>\n",
       "      <td>IMPROVED</td>\n",
       "      <td>1977</td>\n",
       "      <td>6000.0</td>\n",
       "      <td>NaN</td>\n",
       "    </tr>\n",
       "    <tr>\n",
       "      <th>2</th>\n",
       "      <td>1990-01</td>\n",
       "      <td>ANG MO KIO</td>\n",
       "      <td>1 ROOM</td>\n",
       "      <td>309</td>\n",
       "      <td>ANG MO KIO AVE 1</td>\n",
       "      <td>10 TO 12</td>\n",
       "      <td>31.0</td>\n",
       "      <td>IMPROVED</td>\n",
       "      <td>1977</td>\n",
       "      <td>8000.0</td>\n",
       "      <td>NaN</td>\n",
       "    </tr>\n",
       "    <tr>\n",
       "      <th>3</th>\n",
       "      <td>1990-01</td>\n",
       "      <td>ANG MO KIO</td>\n",
       "      <td>1 ROOM</td>\n",
       "      <td>309</td>\n",
       "      <td>ANG MO KIO AVE 1</td>\n",
       "      <td>07 TO 09</td>\n",
       "      <td>31.0</td>\n",
       "      <td>IMPROVED</td>\n",
       "      <td>1977</td>\n",
       "      <td>6000.0</td>\n",
       "      <td>NaN</td>\n",
       "    </tr>\n",
       "    <tr>\n",
       "      <th>4</th>\n",
       "      <td>1990-01</td>\n",
       "      <td>ANG MO KIO</td>\n",
       "      <td>3 ROOM</td>\n",
       "      <td>216</td>\n",
       "      <td>ANG MO KIO AVE 1</td>\n",
       "      <td>04 TO 06</td>\n",
       "      <td>73.0</td>\n",
       "      <td>NEW GENERATION</td>\n",
       "      <td>1976</td>\n",
       "      <td>47200.0</td>\n",
       "      <td>NaN</td>\n",
       "    </tr>\n",
       "    <tr>\n",
       "      <th>...</th>\n",
       "      <td>...</td>\n",
       "      <td>...</td>\n",
       "      <td>...</td>\n",
       "      <td>...</td>\n",
       "      <td>...</td>\n",
       "      <td>...</td>\n",
       "      <td>...</td>\n",
       "      <td>...</td>\n",
       "      <td>...</td>\n",
       "      <td>...</td>\n",
       "      <td>...</td>\n",
       "    </tr>\n",
       "    <tr>\n",
       "      <th>936410</th>\n",
       "      <td>2024-09</td>\n",
       "      <td>YISHUN</td>\n",
       "      <td>EXECUTIVE</td>\n",
       "      <td>358</td>\n",
       "      <td>YISHUN RING RD</td>\n",
       "      <td>01 TO 03</td>\n",
       "      <td>146.0</td>\n",
       "      <td>Maisonette</td>\n",
       "      <td>1988</td>\n",
       "      <td>850000.0</td>\n",
       "      <td>62 years 10 months</td>\n",
       "    </tr>\n",
       "    <tr>\n",
       "      <th>936411</th>\n",
       "      <td>2024-09</td>\n",
       "      <td>YISHUN</td>\n",
       "      <td>EXECUTIVE</td>\n",
       "      <td>361</td>\n",
       "      <td>YISHUN RING RD</td>\n",
       "      <td>01 TO 03</td>\n",
       "      <td>146.0</td>\n",
       "      <td>Maisonette</td>\n",
       "      <td>1988</td>\n",
       "      <td>800000.0</td>\n",
       "      <td>62 years 10 months</td>\n",
       "    </tr>\n",
       "    <tr>\n",
       "      <th>936412</th>\n",
       "      <td>2024-09</td>\n",
       "      <td>YISHUN</td>\n",
       "      <td>EXECUTIVE</td>\n",
       "      <td>606</td>\n",
       "      <td>YISHUN ST 61</td>\n",
       "      <td>01 TO 03</td>\n",
       "      <td>147.0</td>\n",
       "      <td>Apartment</td>\n",
       "      <td>1987</td>\n",
       "      <td>770000.0</td>\n",
       "      <td>62 years 03 months</td>\n",
       "    </tr>\n",
       "    <tr>\n",
       "      <th>936413</th>\n",
       "      <td>2024-09</td>\n",
       "      <td>YISHUN</td>\n",
       "      <td>EXECUTIVE</td>\n",
       "      <td>641</td>\n",
       "      <td>YISHUN ST 61</td>\n",
       "      <td>07 TO 09</td>\n",
       "      <td>164.0</td>\n",
       "      <td>Apartment</td>\n",
       "      <td>1992</td>\n",
       "      <td>1068888.0</td>\n",
       "      <td>66 years 10 months</td>\n",
       "    </tr>\n",
       "    <tr>\n",
       "      <th>936414</th>\n",
       "      <td>2024-09</td>\n",
       "      <td>YISHUN</td>\n",
       "      <td>EXECUTIVE</td>\n",
       "      <td>824</td>\n",
       "      <td>YISHUN ST 81</td>\n",
       "      <td>01 TO 03</td>\n",
       "      <td>146.0</td>\n",
       "      <td>Maisonette</td>\n",
       "      <td>1987</td>\n",
       "      <td>893888.0</td>\n",
       "      <td>62 years 03 months</td>\n",
       "    </tr>\n",
       "  </tbody>\n",
       "</table>\n",
       "<p>936415 rows × 11 columns</p>\n",
       "</div>"
      ],
      "text/plain": [
       "          month        town  flat_type block       street_name storey_range  \\\n",
       "0       1990-01  ANG MO KIO     1 ROOM   309  ANG MO KIO AVE 1     10 TO 12   \n",
       "1       1990-01  ANG MO KIO     1 ROOM   309  ANG MO KIO AVE 1     04 TO 06   \n",
       "2       1990-01  ANG MO KIO     1 ROOM   309  ANG MO KIO AVE 1     10 TO 12   \n",
       "3       1990-01  ANG MO KIO     1 ROOM   309  ANG MO KIO AVE 1     07 TO 09   \n",
       "4       1990-01  ANG MO KIO     3 ROOM   216  ANG MO KIO AVE 1     04 TO 06   \n",
       "...         ...         ...        ...   ...               ...          ...   \n",
       "936410  2024-09      YISHUN  EXECUTIVE   358    YISHUN RING RD     01 TO 03   \n",
       "936411  2024-09      YISHUN  EXECUTIVE   361    YISHUN RING RD     01 TO 03   \n",
       "936412  2024-09      YISHUN  EXECUTIVE   606      YISHUN ST 61     01 TO 03   \n",
       "936413  2024-09      YISHUN  EXECUTIVE   641      YISHUN ST 61     07 TO 09   \n",
       "936414  2024-09      YISHUN  EXECUTIVE   824      YISHUN ST 81     01 TO 03   \n",
       "\n",
       "        floor_area_sqm      flat_model  lease_commence_date  resale_price  \\\n",
       "0                 31.0        IMPROVED                 1977        9000.0   \n",
       "1                 31.0        IMPROVED                 1977        6000.0   \n",
       "2                 31.0        IMPROVED                 1977        8000.0   \n",
       "3                 31.0        IMPROVED                 1977        6000.0   \n",
       "4                 73.0  NEW GENERATION                 1976       47200.0   \n",
       "...                ...             ...                  ...           ...   \n",
       "936410           146.0      Maisonette                 1988      850000.0   \n",
       "936411           146.0      Maisonette                 1988      800000.0   \n",
       "936412           147.0       Apartment                 1987      770000.0   \n",
       "936413           164.0       Apartment                 1992     1068888.0   \n",
       "936414           146.0      Maisonette                 1987      893888.0   \n",
       "\n",
       "           remaining_lease  \n",
       "0                      NaN  \n",
       "1                      NaN  \n",
       "2                      NaN  \n",
       "3                      NaN  \n",
       "4                      NaN  \n",
       "...                    ...  \n",
       "936410  62 years 10 months  \n",
       "936411  62 years 10 months  \n",
       "936412  62 years 03 months  \n",
       "936413  66 years 10 months  \n",
       "936414  62 years 03 months  \n",
       "\n",
       "[936415 rows x 11 columns]"
      ]
     },
     "execution_count": 948,
     "metadata": {},
     "output_type": "execute_result"
    }
   ],
   "source": [
    "df = pd.concat([df_1,df_2,df_3,df_4,df_5],ignore_index=True)\n",
    "df"
   ]
  },
  {
   "cell_type": "code",
   "execution_count": 949,
   "metadata": {},
   "outputs": [
    {
     "data": {
      "text/plain": [
       "10300565"
      ]
     },
     "execution_count": 949,
     "metadata": {},
     "output_type": "execute_result"
    }
   ],
   "source": [
    "df.size"
   ]
  },
  {
   "cell_type": "markdown",
   "metadata": {},
   "source": [
    "## No of rows ##"
   ]
  },
  {
   "cell_type": "code",
   "execution_count": 950,
   "metadata": {},
   "outputs": [
    {
     "name": "stdout",
     "output_type": "stream",
     "text": [
      " columns : 11\n"
     ]
    }
   ],
   "source": [
    "print(f\" columns : {df.shape[1]}\")"
   ]
  },
  {
   "cell_type": "markdown",
   "metadata": {},
   "source": [
    "## No of Columns ##"
   ]
  },
  {
   "cell_type": "code",
   "execution_count": 951,
   "metadata": {},
   "outputs": [
    {
     "name": "stdout",
     "output_type": "stream",
     "text": [
      "rows : 936415\n"
     ]
    }
   ],
   "source": [
    "print(f\"rows : {df.shape[0]}\")"
   ]
  },
  {
   "cell_type": "code",
   "execution_count": 952,
   "metadata": {},
   "outputs": [
    {
     "name": "stdout",
     "output_type": "stream",
     "text": [
      "<class 'pandas.core.frame.DataFrame'>\n",
      "RangeIndex: 936415 entries, 0 to 936414\n",
      "Data columns (total 11 columns):\n",
      " #   Column               Non-Null Count   Dtype  \n",
      "---  ------               --------------   -----  \n",
      " 0   month                936415 non-null  object \n",
      " 1   town                 936415 non-null  object \n",
      " 2   flat_type            936415 non-null  object \n",
      " 3   block                936415 non-null  object \n",
      " 4   street_name          936415 non-null  object \n",
      " 5   storey_range         936415 non-null  object \n",
      " 6   floor_area_sqm       936415 non-null  float64\n",
      " 7   flat_model           936415 non-null  object \n",
      " 8   lease_commence_date  936415 non-null  int64  \n",
      " 9   resale_price         936415 non-null  float64\n",
      " 10  remaining_lease      227365 non-null  object \n",
      "dtypes: float64(2), int64(1), object(8)\n",
      "memory usage: 78.6+ MB\n"
     ]
    }
   ],
   "source": [
    "df.info()"
   ]
  },
  {
   "cell_type": "code",
   "execution_count": 953,
   "metadata": {},
   "outputs": [
    {
     "data": {
      "text/plain": [
       "1902"
      ]
     },
     "execution_count": 953,
     "metadata": {},
     "output_type": "execute_result"
    }
   ],
   "source": [
    "df.duplicated().sum()"
   ]
  },
  {
   "cell_type": "code",
   "execution_count": 954,
   "metadata": {},
   "outputs": [],
   "source": [
    "df = df.drop_duplicates()"
   ]
  },
  {
   "cell_type": "code",
   "execution_count": 955,
   "metadata": {},
   "outputs": [
    {
     "data": {
      "text/plain": [
       "0"
      ]
     },
     "execution_count": 955,
     "metadata": {},
     "output_type": "execute_result"
    }
   ],
   "source": [
    "df.duplicated().sum()"
   ]
  },
  {
   "cell_type": "markdown",
   "metadata": {},
   "source": [
    "## Remaining lease ## "
   ]
  },
  {
   "cell_type": "code",
   "execution_count": 956,
   "metadata": {},
   "outputs": [],
   "source": [
    "df[['years', 'months']] = df['remaining_lease'].str.extract(r'(\\d+)\\s*year.*?(\\d+)\\s*month')"
   ]
  },
  {
   "cell_type": "code",
   "execution_count": 957,
   "metadata": {},
   "outputs": [
    {
     "data": {
      "text/html": [
       "<div>\n",
       "<style scoped>\n",
       "    .dataframe tbody tr th:only-of-type {\n",
       "        vertical-align: middle;\n",
       "    }\n",
       "\n",
       "    .dataframe tbody tr th {\n",
       "        vertical-align: top;\n",
       "    }\n",
       "\n",
       "    .dataframe thead th {\n",
       "        text-align: right;\n",
       "    }\n",
       "</style>\n",
       "<table border=\"1\" class=\"dataframe\">\n",
       "  <thead>\n",
       "    <tr style=\"text-align: right;\">\n",
       "      <th></th>\n",
       "      <th>years</th>\n",
       "      <th>months</th>\n",
       "    </tr>\n",
       "  </thead>\n",
       "  <tbody>\n",
       "    <tr>\n",
       "      <th>0</th>\n",
       "      <td>NaN</td>\n",
       "      <td>NaN</td>\n",
       "    </tr>\n",
       "    <tr>\n",
       "      <th>1</th>\n",
       "      <td>NaN</td>\n",
       "      <td>NaN</td>\n",
       "    </tr>\n",
       "    <tr>\n",
       "      <th>2</th>\n",
       "      <td>NaN</td>\n",
       "      <td>NaN</td>\n",
       "    </tr>\n",
       "    <tr>\n",
       "      <th>3</th>\n",
       "      <td>NaN</td>\n",
       "      <td>NaN</td>\n",
       "    </tr>\n",
       "    <tr>\n",
       "      <th>4</th>\n",
       "      <td>NaN</td>\n",
       "      <td>NaN</td>\n",
       "    </tr>\n",
       "    <tr>\n",
       "      <th>...</th>\n",
       "      <td>...</td>\n",
       "      <td>...</td>\n",
       "    </tr>\n",
       "    <tr>\n",
       "      <th>936410</th>\n",
       "      <td>62</td>\n",
       "      <td>10</td>\n",
       "    </tr>\n",
       "    <tr>\n",
       "      <th>936411</th>\n",
       "      <td>62</td>\n",
       "      <td>10</td>\n",
       "    </tr>\n",
       "    <tr>\n",
       "      <th>936412</th>\n",
       "      <td>62</td>\n",
       "      <td>03</td>\n",
       "    </tr>\n",
       "    <tr>\n",
       "      <th>936413</th>\n",
       "      <td>66</td>\n",
       "      <td>10</td>\n",
       "    </tr>\n",
       "    <tr>\n",
       "      <th>936414</th>\n",
       "      <td>62</td>\n",
       "      <td>03</td>\n",
       "    </tr>\n",
       "  </tbody>\n",
       "</table>\n",
       "<p>934513 rows × 2 columns</p>\n",
       "</div>"
      ],
      "text/plain": [
       "       years months\n",
       "0        NaN    NaN\n",
       "1        NaN    NaN\n",
       "2        NaN    NaN\n",
       "3        NaN    NaN\n",
       "4        NaN    NaN\n",
       "...      ...    ...\n",
       "936410    62     10\n",
       "936411    62     10\n",
       "936412    62     03\n",
       "936413    66     10\n",
       "936414    62     03\n",
       "\n",
       "[934513 rows x 2 columns]"
      ]
     },
     "execution_count": 957,
     "metadata": {},
     "output_type": "execute_result"
    }
   ],
   "source": [
    "df[['years','months']]"
   ]
  },
  {
   "cell_type": "code",
   "execution_count": 958,
   "metadata": {},
   "outputs": [
    {
     "data": {
      "text/plain": [
       "760239"
      ]
     },
     "execution_count": 958,
     "metadata": {},
     "output_type": "execute_result"
    }
   ],
   "source": [
    "df['years'].isna().sum()"
   ]
  },
  {
   "cell_type": "code",
   "execution_count": 959,
   "metadata": {},
   "outputs": [
    {
     "data": {
      "text/plain": [
       "760239"
      ]
     },
     "execution_count": 959,
     "metadata": {},
     "output_type": "execute_result"
    }
   ],
   "source": [
    "df['months'].isna().sum()"
   ]
  },
  {
   "cell_type": "code",
   "execution_count": 960,
   "metadata": {},
   "outputs": [],
   "source": [
    "df['years'] = df['years'].fillna(0)"
   ]
  },
  {
   "cell_type": "code",
   "execution_count": 961,
   "metadata": {},
   "outputs": [],
   "source": [
    "df['months'] = df['months'].fillna(0)"
   ]
  },
  {
   "cell_type": "code",
   "execution_count": 962,
   "metadata": {},
   "outputs": [],
   "source": [
    "df['years'] = df['years'].astype('int')\n",
    "df['months'] = df['months'].astype('int')"
   ]
  },
  {
   "cell_type": "code",
   "execution_count": 963,
   "metadata": {},
   "outputs": [],
   "source": [
    "df['remaining_lease'] = df['years'] + df['months'] / 12"
   ]
  },
  {
   "cell_type": "code",
   "execution_count": 964,
   "metadata": {},
   "outputs": [
    {
     "data": {
      "text/plain": [
       "0"
      ]
     },
     "execution_count": 964,
     "metadata": {},
     "output_type": "execute_result"
    }
   ],
   "source": [
    "df['remaining_lease'].isna().sum()"
   ]
  },
  {
   "cell_type": "code",
   "execution_count": 965,
   "metadata": {},
   "outputs": [
    {
     "data": {
      "text/plain": [
       "934513"
      ]
     },
     "execution_count": 965,
     "metadata": {},
     "output_type": "execute_result"
    }
   ],
   "source": [
    "df['remaining_lease'].size"
   ]
  },
  {
   "cell_type": "code",
   "execution_count": 966,
   "metadata": {},
   "outputs": [
    {
     "data": {
      "text/plain": [
       "remaining_lease\n",
       "0.000000     760239\n",
       "94.833333      1701\n",
       "94.750000      1684\n",
       "94.916667      1663\n",
       "94.666667      1519\n",
       "              ...  \n",
       "66.000000         1\n",
       "97.416667         1\n",
       "97.250000         1\n",
       "96.833333         1\n",
       "97.750000         1\n",
       "Name: count, Length: 623, dtype: int64"
      ]
     },
     "execution_count": 966,
     "metadata": {},
     "output_type": "execute_result"
    }
   ],
   "source": [
    "df['remaining_lease'].value_counts()\n"
   ]
  },
  {
   "cell_type": "code",
   "execution_count": 967,
   "metadata": {},
   "outputs": [],
   "source": [
    "df = df[df['remaining_lease'] !=0]"
   ]
  },
  {
   "cell_type": "code",
   "execution_count": 968,
   "metadata": {},
   "outputs": [
    {
     "data": {
      "text/plain": [
       "remaining_lease\n",
       "94.833333    1701\n",
       "94.750000    1684\n",
       "94.916667    1663\n",
       "94.666667    1519\n",
       "94.583333    1457\n",
       "             ... \n",
       "97.083333       1\n",
       "97.750000       1\n",
       "97.416667       1\n",
       "97.250000       1\n",
       "97.583333       1\n",
       "Name: count, Length: 622, dtype: int64"
      ]
     },
     "execution_count": 968,
     "metadata": {},
     "output_type": "execute_result"
    }
   ],
   "source": [
    "df['remaining_lease'].value_counts()\n"
   ]
  },
  {
   "cell_type": "code",
   "execution_count": 969,
   "metadata": {},
   "outputs": [],
   "source": [
    "df['remaining_lease'] = df['remaining_lease'].astype('int')"
   ]
  },
  {
   "cell_type": "code",
   "execution_count": 970,
   "metadata": {},
   "outputs": [
    {
     "data": {
      "text/plain": [
       "month                   object\n",
       "town                    object\n",
       "flat_type               object\n",
       "block                   object\n",
       "street_name             object\n",
       "storey_range            object\n",
       "floor_area_sqm         float64\n",
       "flat_model              object\n",
       "lease_commence_date      int64\n",
       "resale_price           float64\n",
       "remaining_lease          int32\n",
       "years                    int32\n",
       "months                   int32\n",
       "dtype: object"
      ]
     },
     "execution_count": 970,
     "metadata": {},
     "output_type": "execute_result"
    }
   ],
   "source": [
    "df.dtypes"
   ]
  },
  {
   "cell_type": "code",
   "execution_count": 971,
   "metadata": {},
   "outputs": [],
   "source": [
    "df.reset_index(drop=True,inplace=True)"
   ]
  },
  {
   "cell_type": "code",
   "execution_count": 972,
   "metadata": {},
   "outputs": [
    {
     "data": {
      "text/html": [
       "<div>\n",
       "<style scoped>\n",
       "    .dataframe tbody tr th:only-of-type {\n",
       "        vertical-align: middle;\n",
       "    }\n",
       "\n",
       "    .dataframe tbody tr th {\n",
       "        vertical-align: top;\n",
       "    }\n",
       "\n",
       "    .dataframe thead th {\n",
       "        text-align: right;\n",
       "    }\n",
       "</style>\n",
       "<table border=\"1\" class=\"dataframe\">\n",
       "  <thead>\n",
       "    <tr style=\"text-align: right;\">\n",
       "      <th></th>\n",
       "      <th>month</th>\n",
       "      <th>town</th>\n",
       "      <th>flat_type</th>\n",
       "      <th>block</th>\n",
       "      <th>street_name</th>\n",
       "      <th>storey_range</th>\n",
       "      <th>floor_area_sqm</th>\n",
       "      <th>flat_model</th>\n",
       "      <th>lease_commence_date</th>\n",
       "      <th>resale_price</th>\n",
       "      <th>remaining_lease</th>\n",
       "      <th>years</th>\n",
       "      <th>months</th>\n",
       "    </tr>\n",
       "  </thead>\n",
       "  <tbody>\n",
       "    <tr>\n",
       "      <th>0</th>\n",
       "      <td>2017-01</td>\n",
       "      <td>ANG MO KIO</td>\n",
       "      <td>2 ROOM</td>\n",
       "      <td>406</td>\n",
       "      <td>ANG MO KIO AVE 10</td>\n",
       "      <td>10 TO 12</td>\n",
       "      <td>44.0</td>\n",
       "      <td>Improved</td>\n",
       "      <td>1979</td>\n",
       "      <td>232000.0</td>\n",
       "      <td>61</td>\n",
       "      <td>61</td>\n",
       "      <td>4</td>\n",
       "    </tr>\n",
       "    <tr>\n",
       "      <th>1</th>\n",
       "      <td>2017-01</td>\n",
       "      <td>ANG MO KIO</td>\n",
       "      <td>3 ROOM</td>\n",
       "      <td>108</td>\n",
       "      <td>ANG MO KIO AVE 4</td>\n",
       "      <td>01 TO 03</td>\n",
       "      <td>67.0</td>\n",
       "      <td>New Generation</td>\n",
       "      <td>1978</td>\n",
       "      <td>250000.0</td>\n",
       "      <td>60</td>\n",
       "      <td>60</td>\n",
       "      <td>7</td>\n",
       "    </tr>\n",
       "  </tbody>\n",
       "</table>\n",
       "</div>"
      ],
      "text/plain": [
       "     month        town flat_type block        street_name storey_range  \\\n",
       "0  2017-01  ANG MO KIO    2 ROOM   406  ANG MO KIO AVE 10     10 TO 12   \n",
       "1  2017-01  ANG MO KIO    3 ROOM   108   ANG MO KIO AVE 4     01 TO 03   \n",
       "\n",
       "   floor_area_sqm      flat_model  lease_commence_date  resale_price  \\\n",
       "0            44.0        Improved                 1979      232000.0   \n",
       "1            67.0  New Generation                 1978      250000.0   \n",
       "\n",
       "   remaining_lease  years  months  \n",
       "0               61     61       4  \n",
       "1               60     60       7  "
      ]
     },
     "execution_count": 972,
     "metadata": {},
     "output_type": "execute_result"
    }
   ],
   "source": [
    "df.head(2)"
   ]
  },
  {
   "cell_type": "code",
   "execution_count": 973,
   "metadata": {},
   "outputs": [],
   "source": [
    "df = df.drop(columns=['years','months'])"
   ]
  },
  {
   "cell_type": "code",
   "execution_count": 974,
   "metadata": {},
   "outputs": [
    {
     "data": {
      "text/html": [
       "<div>\n",
       "<style scoped>\n",
       "    .dataframe tbody tr th:only-of-type {\n",
       "        vertical-align: middle;\n",
       "    }\n",
       "\n",
       "    .dataframe tbody tr th {\n",
       "        vertical-align: top;\n",
       "    }\n",
       "\n",
       "    .dataframe thead th {\n",
       "        text-align: right;\n",
       "    }\n",
       "</style>\n",
       "<table border=\"1\" class=\"dataframe\">\n",
       "  <thead>\n",
       "    <tr style=\"text-align: right;\">\n",
       "      <th></th>\n",
       "      <th>month</th>\n",
       "      <th>town</th>\n",
       "      <th>flat_type</th>\n",
       "      <th>block</th>\n",
       "      <th>street_name</th>\n",
       "      <th>storey_range</th>\n",
       "      <th>floor_area_sqm</th>\n",
       "      <th>flat_model</th>\n",
       "      <th>lease_commence_date</th>\n",
       "      <th>resale_price</th>\n",
       "      <th>remaining_lease</th>\n",
       "    </tr>\n",
       "  </thead>\n",
       "  <tbody>\n",
       "    <tr>\n",
       "      <th>0</th>\n",
       "      <td>2017-01</td>\n",
       "      <td>ANG MO KIO</td>\n",
       "      <td>2 ROOM</td>\n",
       "      <td>406</td>\n",
       "      <td>ANG MO KIO AVE 10</td>\n",
       "      <td>10 TO 12</td>\n",
       "      <td>44.0</td>\n",
       "      <td>Improved</td>\n",
       "      <td>1979</td>\n",
       "      <td>232000.0</td>\n",
       "      <td>61</td>\n",
       "    </tr>\n",
       "    <tr>\n",
       "      <th>1</th>\n",
       "      <td>2017-01</td>\n",
       "      <td>ANG MO KIO</td>\n",
       "      <td>3 ROOM</td>\n",
       "      <td>108</td>\n",
       "      <td>ANG MO KIO AVE 4</td>\n",
       "      <td>01 TO 03</td>\n",
       "      <td>67.0</td>\n",
       "      <td>New Generation</td>\n",
       "      <td>1978</td>\n",
       "      <td>250000.0</td>\n",
       "      <td>60</td>\n",
       "    </tr>\n",
       "  </tbody>\n",
       "</table>\n",
       "</div>"
      ],
      "text/plain": [
       "     month        town flat_type block        street_name storey_range  \\\n",
       "0  2017-01  ANG MO KIO    2 ROOM   406  ANG MO KIO AVE 10     10 TO 12   \n",
       "1  2017-01  ANG MO KIO    3 ROOM   108   ANG MO KIO AVE 4     01 TO 03   \n",
       "\n",
       "   floor_area_sqm      flat_model  lease_commence_date  resale_price  \\\n",
       "0            44.0        Improved                 1979      232000.0   \n",
       "1            67.0  New Generation                 1978      250000.0   \n",
       "\n",
       "   remaining_lease  \n",
       "0               61  \n",
       "1               60  "
      ]
     },
     "execution_count": 974,
     "metadata": {},
     "output_type": "execute_result"
    }
   ],
   "source": [
    "df.head(2)"
   ]
  },
  {
   "cell_type": "code",
   "execution_count": 975,
   "metadata": {},
   "outputs": [
    {
     "data": {
      "text/plain": [
       "month                   object\n",
       "town                    object\n",
       "flat_type               object\n",
       "block                   object\n",
       "street_name             object\n",
       "storey_range            object\n",
       "floor_area_sqm         float64\n",
       "flat_model              object\n",
       "lease_commence_date      int64\n",
       "resale_price           float64\n",
       "remaining_lease          int32\n",
       "dtype: object"
      ]
     },
     "execution_count": 975,
     "metadata": {},
     "output_type": "execute_result"
    }
   ],
   "source": [
    "df.dtypes"
   ]
  },
  {
   "cell_type": "code",
   "execution_count": 978,
   "metadata": {},
   "outputs": [
    {
     "name": "stdout",
     "output_type": "stream",
     "text": [
      "month : 93\n",
      "town : 26\n",
      "flat_type : 7\n",
      "block : 2711\n",
      "street_name : 567\n",
      "storey_range : 17\n",
      "floor_area_sqm : 172\n",
      "flat_model : 21\n",
      "lease_commence_date : 55\n",
      "resale_price : 3886\n",
      "remaining_lease : 57\n"
     ]
    }
   ],
   "source": [
    "for col in df.columns:\n",
    "    print(f\"{col} : {len(df[col].unique())}\")"
   ]
  },
  {
   "cell_type": "code",
   "execution_count": 979,
   "metadata": {},
   "outputs": [
    {
     "name": "stdout",
     "output_type": "stream",
     "text": [
      "month : month\n",
      "2024-07    2751\n",
      "2021-08    2459\n",
      "2021-11    2418\n",
      "2024-01    2403\n",
      "2021-07    2400\n",
      "           ... \n",
      "2017-01    1034\n",
      "2017-02    1002\n",
      "2018-01     947\n",
      "2020-04     384\n",
      "2020-05     335\n",
      "Name: count, Length: 93, dtype: int64\n",
      "town : town\n",
      "SENGKANG           14391\n",
      "PUNGGOL            12905\n",
      "WOODLANDS          12388\n",
      "YISHUN             11951\n",
      "TAMPINES           11670\n",
      "JURONG WEST        11507\n",
      "BEDOK               9210\n",
      "HOUGANG             8825\n",
      "CHOA CHU KANG       7977\n",
      "ANG MO KIO          7203\n",
      "BUKIT BATOK         6833\n",
      "BUKIT MERAH         6661\n",
      "BUKIT PANJANG       6345\n",
      "TOA PAYOH           5448\n",
      "KALLANG/WHAMPOA     5290\n",
      "PASIR RIS           5091\n",
      "SEMBAWANG           4818\n",
      "QUEENSTOWN          4800\n",
      "GEYLANG             4270\n",
      "CLEMENTI            3923\n",
      "JURONG EAST         3581\n",
      "SERANGOON           3203\n",
      "BISHAN              3094\n",
      "CENTRAL AREA        1391\n",
      "MARINE PARADE       1065\n",
      "BUKIT TIMAH          434\n",
      "Name: count, dtype: int64\n",
      "flat_type : flat_type\n",
      "4 ROOM              73393\n",
      "5 ROOM              43321\n",
      "3 ROOM              41294\n",
      "EXECUTIVE           12930\n",
      "2 ROOM               3206\n",
      "MULTI-GENERATION       75\n",
      "1 ROOM                 55\n",
      "Name: count, dtype: int64\n",
      "block : block\n",
      "2       539\n",
      "1       495\n",
      "8       486\n",
      "9       464\n",
      "101     462\n",
      "       ... \n",
      "496F      1\n",
      "860A      1\n",
      "226F      1\n",
      "457B      1\n",
      "458B      1\n",
      "Name: count, Length: 2711, dtype: int64\n",
      "street_name : street_name\n",
      "YISHUN RING RD        2524\n",
      "PUNGGOL DR            1930\n",
      "BEDOK RESERVOIR RD    1841\n",
      "PUNGGOL FIELD         1731\n",
      "ANG MO KIO AVE 10     1658\n",
      "                      ... \n",
      "SEMBAWANG WAY            5\n",
      "GEYLANG EAST AVE 2       2\n",
      "SENGKANG WEST RD         2\n",
      "MARINE PARADE CTRL       1\n",
      "ALJUNIED AVE 2           1\n",
      "Name: count, Length: 567, dtype: int64\n",
      "storey_range : storey_range\n",
      "04 TO 06    40024\n",
      "07 TO 09    36534\n",
      "10 TO 12    32470\n",
      "01 TO 03    30886\n",
      "13 TO 15    16724\n",
      "16 TO 18     7830\n",
      "19 TO 21     3379\n",
      "22 TO 24     2403\n",
      "25 TO 27     1441\n",
      "28 TO 30      949\n",
      "31 TO 33      505\n",
      "34 TO 36      451\n",
      "37 TO 39      387\n",
      "40 TO 42      186\n",
      "43 TO 45       50\n",
      "46 TO 48       41\n",
      "49 TO 51       14\n",
      "Name: count, dtype: int64\n",
      "floor_area_sqm : floor_area_sqm\n",
      "93.0     13743\n",
      "92.0     10941\n",
      "67.0     10611\n",
      "110.0     8040\n",
      "68.0      7336\n",
      "         ...  \n",
      "39.0         1\n",
      "183.0        1\n",
      "237.0        1\n",
      "185.0        1\n",
      "189.4        1\n",
      "Name: count, Length: 172, dtype: int64\n",
      "flat_model : flat_model\n",
      "Model A                   60909\n",
      "Improved                  42928\n",
      "New Generation            21589\n",
      "Premium Apartment         19576\n",
      "Simplified                 6711\n",
      "Apartment                  6459\n",
      "Maisonette                 4966\n",
      "Standard                   4745\n",
      "DBSS                       2870\n",
      "Model A2                   1994\n",
      "Model A-Maisonette          311\n",
      "Adjoined flat               310\n",
      "Type S1                     285\n",
      "Type S2                     151\n",
      "2-room                      122\n",
      "Premium Apartment Loft       98\n",
      "Terrace                      94\n",
      "Multi Generation             75\n",
      "3Gen                         42\n",
      "Improved-Maisonette          27\n",
      "Premium Maisonette           12\n",
      "Name: count, dtype: int64\n",
      "lease_commence_date : lease_commence_date\n",
      "1985    10220\n",
      "2015     9683\n",
      "1984     7547\n",
      "1988     6393\n",
      "2016     6014\n",
      "2001     5623\n",
      "2018     5534\n",
      "1987     5214\n",
      "1997     5198\n",
      "2017     5121\n",
      "2013     4949\n",
      "2003     4941\n",
      "1998     4864\n",
      "1999     4739\n",
      "1978     4687\n",
      "1986     4659\n",
      "2000     4471\n",
      "1996     4228\n",
      "1989     4220\n",
      "2002     3826\n",
      "1993     3814\n",
      "1979     3758\n",
      "2012     3726\n",
      "1980     3709\n",
      "2014     3576\n",
      "1992     2933\n",
      "2004     2807\n",
      "1995     2766\n",
      "1976     2764\n",
      "1983     2640\n",
      "1981     2613\n",
      "2019     2405\n",
      "1977     2330\n",
      "1975     2144\n",
      "2011     1916\n",
      "1974     1760\n",
      "1982     1664\n",
      "2005     1496\n",
      "1970     1431\n",
      "2006     1337\n",
      "1990     1204\n",
      "2008     1067\n",
      "1994      947\n",
      "1973      946\n",
      "2009      916\n",
      "1967      844\n",
      "1969      824\n",
      "1971      762\n",
      "1972      753\n",
      "2010      741\n",
      "2020      718\n",
      "2007      449\n",
      "1968      194\n",
      "1991      174\n",
      "1966       15\n",
      "Name: count, dtype: int64\n",
      "resale_price : resale_price\n",
      "450000.00    2045\n",
      "500000.00    1943\n",
      "400000.00    1942\n",
      "420000.00    1936\n",
      "380000.00    1920\n",
      "             ... \n",
      "650668.00       1\n",
      "511888.88       1\n",
      "630288.00       1\n",
      "558388.00       1\n",
      "458988.00       1\n",
      "Name: count, Length: 3886, dtype: int64\n",
      "remaining_lease : remaining_lease\n",
      "94    14773\n",
      "93     8606\n",
      "64     5440\n",
      "65     5368\n",
      "92     5350\n",
      "63     5279\n",
      "62     5018\n",
      "95     4770\n",
      "78     4749\n",
      "66     4748\n",
      "61     4637\n",
      "60     4543\n",
      "77     4457\n",
      "79     4371\n",
      "76     4251\n",
      "67     3862\n",
      "80     3819\n",
      "59     3813\n",
      "75     3795\n",
      "91     3767\n",
      "74     3736\n",
      "81     3514\n",
      "73     3448\n",
      "68     3244\n",
      "82     3074\n",
      "58     3068\n",
      "56     3068\n",
      "57     2926\n",
      "55     2909\n",
      "90     2900\n",
      "69     2864\n",
      "72     2778\n",
      "70     2698\n",
      "83     2599\n",
      "54     2595\n",
      "71     2452\n",
      "53     2153\n",
      "89     2115\n",
      "84     1929\n",
      "52     1784\n",
      "88     1762\n",
      "85     1607\n",
      "51     1464\n",
      "87     1337\n",
      "86     1231\n",
      "50     1230\n",
      "49      952\n",
      "48      867\n",
      "47      684\n",
      "46      609\n",
      "45      505\n",
      "44      328\n",
      "43      180\n",
      "42      107\n",
      "96       66\n",
      "41       65\n",
      "97       10\n",
      "Name: count, dtype: int64\n"
     ]
    }
   ],
   "source": [
    "for col in df.columns:\n",
    "    print(f\"{col} : {df[col].value_counts()}\")"
   ]
  },
  {
   "cell_type": "code",
   "execution_count": 980,
   "metadata": {},
   "outputs": [],
   "source": [
    "df['month'] = pd.to_datetime(df['month'],format='%Y-%m',errors='coerce')"
   ]
  },
  {
   "cell_type": "code",
   "execution_count": 981,
   "metadata": {},
   "outputs": [
    {
     "data": {
      "text/plain": [
       "month                  datetime64[ns]\n",
       "town                           object\n",
       "flat_type                      object\n",
       "block                          object\n",
       "street_name                    object\n",
       "storey_range                   object\n",
       "floor_area_sqm                float64\n",
       "flat_model                     object\n",
       "lease_commence_date             int64\n",
       "resale_price                  float64\n",
       "remaining_lease                 int32\n",
       "dtype: object"
      ]
     },
     "execution_count": 981,
     "metadata": {},
     "output_type": "execute_result"
    }
   ],
   "source": [
    "df.dtypes"
   ]
  },
  {
   "cell_type": "code",
   "execution_count": 982,
   "metadata": {},
   "outputs": [],
   "source": [
    "df['year'] = pd.to_datetime(df['month'],errors='coerce').dt.year"
   ]
  },
  {
   "cell_type": "code",
   "execution_count": 983,
   "metadata": {},
   "outputs": [],
   "source": [
    "df['month'] = pd.to_datetime(df['month'],errors='coerce').dt.month"
   ]
  },
  {
   "cell_type": "code",
   "execution_count": 984,
   "metadata": {},
   "outputs": [
    {
     "data": {
      "text/html": [
       "<div>\n",
       "<style scoped>\n",
       "    .dataframe tbody tr th:only-of-type {\n",
       "        vertical-align: middle;\n",
       "    }\n",
       "\n",
       "    .dataframe tbody tr th {\n",
       "        vertical-align: top;\n",
       "    }\n",
       "\n",
       "    .dataframe thead th {\n",
       "        text-align: right;\n",
       "    }\n",
       "</style>\n",
       "<table border=\"1\" class=\"dataframe\">\n",
       "  <thead>\n",
       "    <tr style=\"text-align: right;\">\n",
       "      <th></th>\n",
       "      <th>month</th>\n",
       "      <th>town</th>\n",
       "      <th>flat_type</th>\n",
       "      <th>block</th>\n",
       "      <th>street_name</th>\n",
       "      <th>storey_range</th>\n",
       "      <th>floor_area_sqm</th>\n",
       "      <th>flat_model</th>\n",
       "      <th>lease_commence_date</th>\n",
       "      <th>resale_price</th>\n",
       "      <th>remaining_lease</th>\n",
       "      <th>year</th>\n",
       "    </tr>\n",
       "  </thead>\n",
       "  <tbody>\n",
       "    <tr>\n",
       "      <th>0</th>\n",
       "      <td>1</td>\n",
       "      <td>ANG MO KIO</td>\n",
       "      <td>2 ROOM</td>\n",
       "      <td>406</td>\n",
       "      <td>ANG MO KIO AVE 10</td>\n",
       "      <td>10 TO 12</td>\n",
       "      <td>44.0</td>\n",
       "      <td>Improved</td>\n",
       "      <td>1979</td>\n",
       "      <td>232000.0</td>\n",
       "      <td>61</td>\n",
       "      <td>2017</td>\n",
       "    </tr>\n",
       "    <tr>\n",
       "      <th>1</th>\n",
       "      <td>1</td>\n",
       "      <td>ANG MO KIO</td>\n",
       "      <td>3 ROOM</td>\n",
       "      <td>108</td>\n",
       "      <td>ANG MO KIO AVE 4</td>\n",
       "      <td>01 TO 03</td>\n",
       "      <td>67.0</td>\n",
       "      <td>New Generation</td>\n",
       "      <td>1978</td>\n",
       "      <td>250000.0</td>\n",
       "      <td>60</td>\n",
       "      <td>2017</td>\n",
       "    </tr>\n",
       "    <tr>\n",
       "      <th>2</th>\n",
       "      <td>1</td>\n",
       "      <td>ANG MO KIO</td>\n",
       "      <td>3 ROOM</td>\n",
       "      <td>602</td>\n",
       "      <td>ANG MO KIO AVE 5</td>\n",
       "      <td>01 TO 03</td>\n",
       "      <td>67.0</td>\n",
       "      <td>New Generation</td>\n",
       "      <td>1980</td>\n",
       "      <td>262000.0</td>\n",
       "      <td>62</td>\n",
       "      <td>2017</td>\n",
       "    </tr>\n",
       "    <tr>\n",
       "      <th>3</th>\n",
       "      <td>1</td>\n",
       "      <td>ANG MO KIO</td>\n",
       "      <td>3 ROOM</td>\n",
       "      <td>465</td>\n",
       "      <td>ANG MO KIO AVE 10</td>\n",
       "      <td>04 TO 06</td>\n",
       "      <td>68.0</td>\n",
       "      <td>New Generation</td>\n",
       "      <td>1980</td>\n",
       "      <td>265000.0</td>\n",
       "      <td>62</td>\n",
       "      <td>2017</td>\n",
       "    </tr>\n",
       "    <tr>\n",
       "      <th>4</th>\n",
       "      <td>1</td>\n",
       "      <td>ANG MO KIO</td>\n",
       "      <td>3 ROOM</td>\n",
       "      <td>601</td>\n",
       "      <td>ANG MO KIO AVE 5</td>\n",
       "      <td>01 TO 03</td>\n",
       "      <td>67.0</td>\n",
       "      <td>New Generation</td>\n",
       "      <td>1980</td>\n",
       "      <td>265000.0</td>\n",
       "      <td>62</td>\n",
       "      <td>2017</td>\n",
       "    </tr>\n",
       "  </tbody>\n",
       "</table>\n",
       "</div>"
      ],
      "text/plain": [
       "   month        town flat_type block        street_name storey_range  \\\n",
       "0      1  ANG MO KIO    2 ROOM   406  ANG MO KIO AVE 10     10 TO 12   \n",
       "1      1  ANG MO KIO    3 ROOM   108   ANG MO KIO AVE 4     01 TO 03   \n",
       "2      1  ANG MO KIO    3 ROOM   602   ANG MO KIO AVE 5     01 TO 03   \n",
       "3      1  ANG MO KIO    3 ROOM   465  ANG MO KIO AVE 10     04 TO 06   \n",
       "4      1  ANG MO KIO    3 ROOM   601   ANG MO KIO AVE 5     01 TO 03   \n",
       "\n",
       "   floor_area_sqm      flat_model  lease_commence_date  resale_price  \\\n",
       "0            44.0        Improved                 1979      232000.0   \n",
       "1            67.0  New Generation                 1978      250000.0   \n",
       "2            67.0  New Generation                 1980      262000.0   \n",
       "3            68.0  New Generation                 1980      265000.0   \n",
       "4            67.0  New Generation                 1980      265000.0   \n",
       "\n",
       "   remaining_lease  year  \n",
       "0               61  2017  \n",
       "1               60  2017  \n",
       "2               62  2017  \n",
       "3               62  2017  \n",
       "4               62  2017  "
      ]
     },
     "execution_count": 984,
     "metadata": {},
     "output_type": "execute_result"
    }
   ],
   "source": [
    "df.head()"
   ]
  },
  {
   "cell_type": "code",
   "execution_count": 985,
   "metadata": {},
   "outputs": [
    {
     "data": {
      "text/plain": [
       "month                    int32\n",
       "town                    object\n",
       "flat_type               object\n",
       "block                   object\n",
       "street_name             object\n",
       "storey_range            object\n",
       "floor_area_sqm         float64\n",
       "flat_model              object\n",
       "lease_commence_date      int64\n",
       "resale_price           float64\n",
       "remaining_lease          int32\n",
       "year                     int32\n",
       "dtype: object"
      ]
     },
     "execution_count": 985,
     "metadata": {},
     "output_type": "execute_result"
    }
   ],
   "source": [
    "df.dtypes"
   ]
  },
  {
   "cell_type": "code",
   "execution_count": 986,
   "metadata": {},
   "outputs": [],
   "source": [
    "df['block'] = df['block'].str.split(r'(\\D)',expand=True)[0].astype('int64')"
   ]
  },
  {
   "cell_type": "code",
   "execution_count": 987,
   "metadata": {},
   "outputs": [
    {
     "data": {
      "text/plain": [
       "array(['2 ROOM', '3 ROOM', '4 ROOM', '5 ROOM', 'EXECUTIVE', '1 ROOM',\n",
       "       'MULTI-GENERATION'], dtype=object)"
      ]
     },
     "execution_count": 987,
     "metadata": {},
     "output_type": "execute_result"
    }
   ],
   "source": [
    "df['flat_type'].unique()"
   ]
  },
  {
   "cell_type": "code",
   "execution_count": 988,
   "metadata": {},
   "outputs": [
    {
     "data": {
      "text/plain": [
       "array(['Improved', 'New Generation', 'DBSS', 'Standard', 'Apartment',\n",
       "       'Simplified', 'Model A', 'Adjoined flat', 'Premium Apartment',\n",
       "       'Model A-Maisonette', 'Maisonette', 'Model A2', 'Type S1',\n",
       "       'Type S2', 'Terrace', 'Improved-Maisonette', 'Premium Maisonette',\n",
       "       'Multi Generation', 'Premium Apartment Loft', '2-room', '3Gen'],\n",
       "      dtype=object)"
      ]
     },
     "execution_count": 988,
     "metadata": {},
     "output_type": "execute_result"
    }
   ],
   "source": [
    "df['flat_model'].unique()"
   ]
  },
  {
   "cell_type": "code",
   "execution_count": 989,
   "metadata": {},
   "outputs": [],
   "source": [
    "df['flat_model'] = df['flat_model'].str.upper()"
   ]
  },
  {
   "cell_type": "code",
   "execution_count": 990,
   "metadata": {},
   "outputs": [],
   "source": [
    "df['flat_model'] = df['flat_model'].replace({'NEW GENERATION':'NEW-GENERATION','MODEL A':'MODEL-A','MULTI GENERATION':'MULTI-GENERATION',\n",
    "                                             'MODEL A2':'MODEL-A2'})"
   ]
  },
  {
   "cell_type": "code",
   "execution_count": 991,
   "metadata": {},
   "outputs": [
    {
     "data": {
      "text/plain": [
       "array(['IMPROVED', 'NEW-GENERATION', 'DBSS', 'STANDARD', 'APARTMENT',\n",
       "       'SIMPLIFIED', 'MODEL-A', 'ADJOINED FLAT', 'PREMIUM APARTMENT',\n",
       "       'MODEL A-MAISONETTE', 'MAISONETTE', 'MODEL-A2', 'TYPE S1',\n",
       "       'TYPE S2', 'TERRACE', 'IMPROVED-MAISONETTE', 'PREMIUM MAISONETTE',\n",
       "       'MULTI-GENERATION', 'PREMIUM APARTMENT LOFT', '2-ROOM', '3GEN'],\n",
       "      dtype=object)"
      ]
     },
     "execution_count": 991,
     "metadata": {},
     "output_type": "execute_result"
    }
   ],
   "source": [
    "df['flat_model'].unique()"
   ]
  },
  {
   "cell_type": "code",
   "execution_count": 992,
   "metadata": {},
   "outputs": [
    {
     "data": {
      "text/plain": [
       "array(['2 ROOM', '3 ROOM', '4 ROOM', '5 ROOM', 'EXECUTIVE', '1 ROOM',\n",
       "       'MULTI-GENERATION'], dtype=object)"
      ]
     },
     "execution_count": 992,
     "metadata": {},
     "output_type": "execute_result"
    }
   ],
   "source": [
    "df['flat_type'].unique()"
   ]
  },
  {
   "cell_type": "code",
   "execution_count": 993,
   "metadata": {},
   "outputs": [],
   "source": [
    "df['flat_type'] = df['flat_type'].replace({'MULTI GENERATION':'MULTI-GENERATION'})"
   ]
  },
  {
   "cell_type": "code",
   "execution_count": 994,
   "metadata": {},
   "outputs": [
    {
     "data": {
      "text/plain": [
       "array(['2 ROOM', '3 ROOM', '4 ROOM', '5 ROOM', 'EXECUTIVE', '1 ROOM',\n",
       "       'MULTI-GENERATION'], dtype=object)"
      ]
     },
     "execution_count": 994,
     "metadata": {},
     "output_type": "execute_result"
    }
   ],
   "source": [
    "df['flat_type'].unique()"
   ]
  },
  {
   "cell_type": "code",
   "execution_count": 995,
   "metadata": {},
   "outputs": [],
   "source": [
    "df['age_of_property'] = df['year'] - df['lease_commence_date']"
   ]
  },
  {
   "cell_type": "code",
   "execution_count": 996,
   "metadata": {},
   "outputs": [
    {
     "data": {
      "text/html": [
       "<div>\n",
       "<style scoped>\n",
       "    .dataframe tbody tr th:only-of-type {\n",
       "        vertical-align: middle;\n",
       "    }\n",
       "\n",
       "    .dataframe tbody tr th {\n",
       "        vertical-align: top;\n",
       "    }\n",
       "\n",
       "    .dataframe thead th {\n",
       "        text-align: right;\n",
       "    }\n",
       "</style>\n",
       "<table border=\"1\" class=\"dataframe\">\n",
       "  <thead>\n",
       "    <tr style=\"text-align: right;\">\n",
       "      <th></th>\n",
       "      <th>month</th>\n",
       "      <th>town</th>\n",
       "      <th>flat_type</th>\n",
       "      <th>block</th>\n",
       "      <th>street_name</th>\n",
       "      <th>storey_range</th>\n",
       "      <th>floor_area_sqm</th>\n",
       "      <th>flat_model</th>\n",
       "      <th>lease_commence_date</th>\n",
       "      <th>resale_price</th>\n",
       "      <th>remaining_lease</th>\n",
       "      <th>year</th>\n",
       "      <th>age_of_property</th>\n",
       "    </tr>\n",
       "  </thead>\n",
       "  <tbody>\n",
       "    <tr>\n",
       "      <th>0</th>\n",
       "      <td>1</td>\n",
       "      <td>ANG MO KIO</td>\n",
       "      <td>2 ROOM</td>\n",
       "      <td>406</td>\n",
       "      <td>ANG MO KIO AVE 10</td>\n",
       "      <td>10 TO 12</td>\n",
       "      <td>44.0</td>\n",
       "      <td>IMPROVED</td>\n",
       "      <td>1979</td>\n",
       "      <td>232000.0</td>\n",
       "      <td>61</td>\n",
       "      <td>2017</td>\n",
       "      <td>38</td>\n",
       "    </tr>\n",
       "    <tr>\n",
       "      <th>1</th>\n",
       "      <td>1</td>\n",
       "      <td>ANG MO KIO</td>\n",
       "      <td>3 ROOM</td>\n",
       "      <td>108</td>\n",
       "      <td>ANG MO KIO AVE 4</td>\n",
       "      <td>01 TO 03</td>\n",
       "      <td>67.0</td>\n",
       "      <td>NEW-GENERATION</td>\n",
       "      <td>1978</td>\n",
       "      <td>250000.0</td>\n",
       "      <td>60</td>\n",
       "      <td>2017</td>\n",
       "      <td>39</td>\n",
       "    </tr>\n",
       "  </tbody>\n",
       "</table>\n",
       "</div>"
      ],
      "text/plain": [
       "   month        town flat_type  block        street_name storey_range  \\\n",
       "0      1  ANG MO KIO    2 ROOM    406  ANG MO KIO AVE 10     10 TO 12   \n",
       "1      1  ANG MO KIO    3 ROOM    108   ANG MO KIO AVE 4     01 TO 03   \n",
       "\n",
       "   floor_area_sqm      flat_model  lease_commence_date  resale_price  \\\n",
       "0            44.0        IMPROVED                 1979      232000.0   \n",
       "1            67.0  NEW-GENERATION                 1978      250000.0   \n",
       "\n",
       "   remaining_lease  year  age_of_property  \n",
       "0               61  2017               38  \n",
       "1               60  2017               39  "
      ]
     },
     "execution_count": 996,
     "metadata": {},
     "output_type": "execute_result"
    }
   ],
   "source": [
    "df.head(2)"
   ]
  },
  {
   "cell_type": "code",
   "execution_count": 997,
   "metadata": {},
   "outputs": [],
   "source": [
    "df['storey'] = df['storey_range'].str.split(\"TO\",expand=True)[0]"
   ]
  },
  {
   "cell_type": "code",
   "execution_count": 998,
   "metadata": {},
   "outputs": [
    {
     "data": {
      "text/html": [
       "<div>\n",
       "<style scoped>\n",
       "    .dataframe tbody tr th:only-of-type {\n",
       "        vertical-align: middle;\n",
       "    }\n",
       "\n",
       "    .dataframe tbody tr th {\n",
       "        vertical-align: top;\n",
       "    }\n",
       "\n",
       "    .dataframe thead th {\n",
       "        text-align: right;\n",
       "    }\n",
       "</style>\n",
       "<table border=\"1\" class=\"dataframe\">\n",
       "  <thead>\n",
       "    <tr style=\"text-align: right;\">\n",
       "      <th></th>\n",
       "      <th>month</th>\n",
       "      <th>town</th>\n",
       "      <th>flat_type</th>\n",
       "      <th>block</th>\n",
       "      <th>street_name</th>\n",
       "      <th>storey_range</th>\n",
       "      <th>floor_area_sqm</th>\n",
       "      <th>flat_model</th>\n",
       "      <th>lease_commence_date</th>\n",
       "      <th>resale_price</th>\n",
       "      <th>remaining_lease</th>\n",
       "      <th>year</th>\n",
       "      <th>age_of_property</th>\n",
       "      <th>storey</th>\n",
       "    </tr>\n",
       "  </thead>\n",
       "  <tbody>\n",
       "    <tr>\n",
       "      <th>0</th>\n",
       "      <td>1</td>\n",
       "      <td>ANG MO KIO</td>\n",
       "      <td>2 ROOM</td>\n",
       "      <td>406</td>\n",
       "      <td>ANG MO KIO AVE 10</td>\n",
       "      <td>10 TO 12</td>\n",
       "      <td>44.0</td>\n",
       "      <td>IMPROVED</td>\n",
       "      <td>1979</td>\n",
       "      <td>232000.0</td>\n",
       "      <td>61</td>\n",
       "      <td>2017</td>\n",
       "      <td>38</td>\n",
       "      <td>10</td>\n",
       "    </tr>\n",
       "    <tr>\n",
       "      <th>1</th>\n",
       "      <td>1</td>\n",
       "      <td>ANG MO KIO</td>\n",
       "      <td>3 ROOM</td>\n",
       "      <td>108</td>\n",
       "      <td>ANG MO KIO AVE 4</td>\n",
       "      <td>01 TO 03</td>\n",
       "      <td>67.0</td>\n",
       "      <td>NEW-GENERATION</td>\n",
       "      <td>1978</td>\n",
       "      <td>250000.0</td>\n",
       "      <td>60</td>\n",
       "      <td>2017</td>\n",
       "      <td>39</td>\n",
       "      <td>01</td>\n",
       "    </tr>\n",
       "  </tbody>\n",
       "</table>\n",
       "</div>"
      ],
      "text/plain": [
       "   month        town flat_type  block        street_name storey_range  \\\n",
       "0      1  ANG MO KIO    2 ROOM    406  ANG MO KIO AVE 10     10 TO 12   \n",
       "1      1  ANG MO KIO    3 ROOM    108   ANG MO KIO AVE 4     01 TO 03   \n",
       "\n",
       "   floor_area_sqm      flat_model  lease_commence_date  resale_price  \\\n",
       "0            44.0        IMPROVED                 1979      232000.0   \n",
       "1            67.0  NEW-GENERATION                 1978      250000.0   \n",
       "\n",
       "   remaining_lease  year  age_of_property storey  \n",
       "0               61  2017               38    10   \n",
       "1               60  2017               39    01   "
      ]
     },
     "execution_count": 998,
     "metadata": {},
     "output_type": "execute_result"
    }
   ],
   "source": [
    "df.head(2)"
   ]
  },
  {
   "cell_type": "code",
   "execution_count": 999,
   "metadata": {},
   "outputs": [
    {
     "data": {
      "text/plain": [
       "month                    int32\n",
       "town                    object\n",
       "flat_type               object\n",
       "block                    int64\n",
       "street_name             object\n",
       "storey_range            object\n",
       "floor_area_sqm         float64\n",
       "flat_model              object\n",
       "lease_commence_date      int64\n",
       "resale_price           float64\n",
       "remaining_lease          int32\n",
       "year                     int32\n",
       "age_of_property          int64\n",
       "storey                  object\n",
       "dtype: object"
      ]
     },
     "execution_count": 999,
     "metadata": {},
     "output_type": "execute_result"
    }
   ],
   "source": [
    "df.dtypes"
   ]
  },
  {
   "cell_type": "code",
   "execution_count": 1000,
   "metadata": {},
   "outputs": [],
   "source": [
    "df['storey'] = df['storey'].astype('int')"
   ]
  },
  {
   "cell_type": "code",
   "execution_count": 1001,
   "metadata": {},
   "outputs": [
    {
     "data": {
      "text/plain": [
       "month                    int32\n",
       "town                    object\n",
       "flat_type               object\n",
       "block                    int64\n",
       "street_name             object\n",
       "storey_range            object\n",
       "floor_area_sqm         float64\n",
       "flat_model              object\n",
       "lease_commence_date      int64\n",
       "resale_price           float64\n",
       "remaining_lease          int32\n",
       "year                     int32\n",
       "age_of_property          int64\n",
       "storey                   int32\n",
       "dtype: object"
      ]
     },
     "execution_count": 1001,
     "metadata": {},
     "output_type": "execute_result"
    }
   ],
   "source": [
    "df.dtypes"
   ]
  },
  {
   "cell_type": "code",
   "execution_count": 1002,
   "metadata": {},
   "outputs": [],
   "source": [
    "df = df.drop(['storey_range'],axis=1)"
   ]
  },
  {
   "cell_type": "code",
   "execution_count": 1003,
   "metadata": {},
   "outputs": [],
   "source": [
    "df = df.drop(['street_name'],axis=1)"
   ]
  },
  {
   "cell_type": "code",
   "execution_count": 1004,
   "metadata": {},
   "outputs": [
    {
     "data": {
      "text/html": [
       "<div>\n",
       "<style scoped>\n",
       "    .dataframe tbody tr th:only-of-type {\n",
       "        vertical-align: middle;\n",
       "    }\n",
       "\n",
       "    .dataframe tbody tr th {\n",
       "        vertical-align: top;\n",
       "    }\n",
       "\n",
       "    .dataframe thead th {\n",
       "        text-align: right;\n",
       "    }\n",
       "</style>\n",
       "<table border=\"1\" class=\"dataframe\">\n",
       "  <thead>\n",
       "    <tr style=\"text-align: right;\">\n",
       "      <th></th>\n",
       "      <th>month</th>\n",
       "      <th>town</th>\n",
       "      <th>flat_type</th>\n",
       "      <th>block</th>\n",
       "      <th>floor_area_sqm</th>\n",
       "      <th>flat_model</th>\n",
       "      <th>lease_commence_date</th>\n",
       "      <th>resale_price</th>\n",
       "      <th>remaining_lease</th>\n",
       "      <th>year</th>\n",
       "      <th>age_of_property</th>\n",
       "      <th>storey</th>\n",
       "    </tr>\n",
       "  </thead>\n",
       "  <tbody>\n",
       "    <tr>\n",
       "      <th>0</th>\n",
       "      <td>1</td>\n",
       "      <td>ANG MO KIO</td>\n",
       "      <td>2 ROOM</td>\n",
       "      <td>406</td>\n",
       "      <td>44.0</td>\n",
       "      <td>IMPROVED</td>\n",
       "      <td>1979</td>\n",
       "      <td>232000.0</td>\n",
       "      <td>61</td>\n",
       "      <td>2017</td>\n",
       "      <td>38</td>\n",
       "      <td>10</td>\n",
       "    </tr>\n",
       "    <tr>\n",
       "      <th>1</th>\n",
       "      <td>1</td>\n",
       "      <td>ANG MO KIO</td>\n",
       "      <td>3 ROOM</td>\n",
       "      <td>108</td>\n",
       "      <td>67.0</td>\n",
       "      <td>NEW-GENERATION</td>\n",
       "      <td>1978</td>\n",
       "      <td>250000.0</td>\n",
       "      <td>60</td>\n",
       "      <td>2017</td>\n",
       "      <td>39</td>\n",
       "      <td>1</td>\n",
       "    </tr>\n",
       "  </tbody>\n",
       "</table>\n",
       "</div>"
      ],
      "text/plain": [
       "   month        town flat_type  block  floor_area_sqm      flat_model  \\\n",
       "0      1  ANG MO KIO    2 ROOM    406            44.0        IMPROVED   \n",
       "1      1  ANG MO KIO    3 ROOM    108            67.0  NEW-GENERATION   \n",
       "\n",
       "   lease_commence_date  resale_price  remaining_lease  year  age_of_property  \\\n",
       "0                 1979      232000.0               61  2017               38   \n",
       "1                 1978      250000.0               60  2017               39   \n",
       "\n",
       "   storey  \n",
       "0      10  \n",
       "1       1  "
      ]
     },
     "execution_count": 1004,
     "metadata": {},
     "output_type": "execute_result"
    }
   ],
   "source": [
    "df.head(2)"
   ]
  },
  {
   "cell_type": "code",
   "execution_count": 1005,
   "metadata": {},
   "outputs": [
    {
     "data": {
      "text/plain": [
       "month                    int32\n",
       "town                    object\n",
       "flat_type               object\n",
       "block                    int64\n",
       "floor_area_sqm         float64\n",
       "flat_model              object\n",
       "lease_commence_date      int64\n",
       "resale_price           float64\n",
       "remaining_lease          int32\n",
       "year                     int32\n",
       "age_of_property          int64\n",
       "storey                   int32\n",
       "dtype: object"
      ]
     },
     "execution_count": 1005,
     "metadata": {},
     "output_type": "execute_result"
    }
   ],
   "source": [
    "df.dtypes"
   ]
  },
  {
   "cell_type": "code",
   "execution_count": 1006,
   "metadata": {},
   "outputs": [
    {
     "data": {
      "text/plain": [
       "RangeIndex(start=0, stop=174274, step=1)"
      ]
     },
     "execution_count": 1006,
     "metadata": {},
     "output_type": "execute_result"
    }
   ],
   "source": [
    "df.index"
   ]
  },
  {
   "cell_type": "code",
   "execution_count": 1007,
   "metadata": {},
   "outputs": [
    {
     "data": {
      "text/html": [
       "<div>\n",
       "<style scoped>\n",
       "    .dataframe tbody tr th:only-of-type {\n",
       "        vertical-align: middle;\n",
       "    }\n",
       "\n",
       "    .dataframe tbody tr th {\n",
       "        vertical-align: top;\n",
       "    }\n",
       "\n",
       "    .dataframe thead th {\n",
       "        text-align: right;\n",
       "    }\n",
       "</style>\n",
       "<table border=\"1\" class=\"dataframe\">\n",
       "  <thead>\n",
       "    <tr style=\"text-align: right;\">\n",
       "      <th></th>\n",
       "      <th>month</th>\n",
       "      <th>town</th>\n",
       "      <th>flat_type</th>\n",
       "      <th>block</th>\n",
       "      <th>floor_area_sqm</th>\n",
       "      <th>flat_model</th>\n",
       "      <th>lease_commence_date</th>\n",
       "      <th>resale_price</th>\n",
       "      <th>remaining_lease</th>\n",
       "      <th>year</th>\n",
       "      <th>age_of_property</th>\n",
       "      <th>storey</th>\n",
       "    </tr>\n",
       "  </thead>\n",
       "  <tbody>\n",
       "    <tr>\n",
       "      <th>0</th>\n",
       "      <td>1</td>\n",
       "      <td>ANG MO KIO</td>\n",
       "      <td>2 ROOM</td>\n",
       "      <td>406</td>\n",
       "      <td>44.0</td>\n",
       "      <td>IMPROVED</td>\n",
       "      <td>1979</td>\n",
       "      <td>232000.0</td>\n",
       "      <td>61</td>\n",
       "      <td>2017</td>\n",
       "      <td>38</td>\n",
       "      <td>10</td>\n",
       "    </tr>\n",
       "    <tr>\n",
       "      <th>1</th>\n",
       "      <td>1</td>\n",
       "      <td>ANG MO KIO</td>\n",
       "      <td>3 ROOM</td>\n",
       "      <td>108</td>\n",
       "      <td>67.0</td>\n",
       "      <td>NEW-GENERATION</td>\n",
       "      <td>1978</td>\n",
       "      <td>250000.0</td>\n",
       "      <td>60</td>\n",
       "      <td>2017</td>\n",
       "      <td>39</td>\n",
       "      <td>1</td>\n",
       "    </tr>\n",
       "  </tbody>\n",
       "</table>\n",
       "</div>"
      ],
      "text/plain": [
       "   month        town flat_type  block  floor_area_sqm      flat_model  \\\n",
       "0      1  ANG MO KIO    2 ROOM    406            44.0        IMPROVED   \n",
       "1      1  ANG MO KIO    3 ROOM    108            67.0  NEW-GENERATION   \n",
       "\n",
       "   lease_commence_date  resale_price  remaining_lease  year  age_of_property  \\\n",
       "0                 1979      232000.0               61  2017               38   \n",
       "1                 1978      250000.0               60  2017               39   \n",
       "\n",
       "   storey  \n",
       "0      10  \n",
       "1       1  "
      ]
     },
     "execution_count": 1007,
     "metadata": {},
     "output_type": "execute_result"
    }
   ],
   "source": [
    "df.head(2)"
   ]
  },
  {
   "cell_type": "code",
   "execution_count": 1008,
   "metadata": {},
   "outputs": [
    {
     "data": {
      "text/plain": [
       "month                  0\n",
       "town                   0\n",
       "flat_type              0\n",
       "block                  0\n",
       "floor_area_sqm         0\n",
       "flat_model             0\n",
       "lease_commence_date    0\n",
       "resale_price           0\n",
       "remaining_lease        0\n",
       "year                   0\n",
       "age_of_property        0\n",
       "storey                 0\n",
       "dtype: int64"
      ]
     },
     "execution_count": 1008,
     "metadata": {},
     "output_type": "execute_result"
    }
   ],
   "source": [
    "df.isna().sum()"
   ]
  },
  {
   "cell_type": "markdown",
   "metadata": {},
   "source": [
    "## Featuring new feature ##"
   ]
  },
  {
   "cell_type": "code",
   "execution_count": 1009,
   "metadata": {},
   "outputs": [],
   "source": [
    "df['holding_period'] = (df['year'] - df['lease_commence_date'])"
   ]
  },
  {
   "cell_type": "code",
   "execution_count": 1010,
   "metadata": {},
   "outputs": [
    {
     "data": {
      "text/plain": [
       "array([38, 39, 37, 41, 40, 36,  6,  5, 21, 29, 32, 31, 33, 34, 30, 35, 16,\n",
       "       12, 28,  7, 45, 17, 24, 44, 25, 27, 19, 13, 20, 46, 42, 47, 48, 43,\n",
       "        4,  9, 18, 15, 14, 22, 11, 49, 26, 51, 10,  8, 50, 23,  3,  2, 52,\n",
       "       53, 54,  1, 55, 56, 57, 58], dtype=int64)"
      ]
     },
     "execution_count": 1010,
     "metadata": {},
     "output_type": "execute_result"
    }
   ],
   "source": [
    "df['holding_period'].unique()"
   ]
  },
  {
   "cell_type": "code",
   "execution_count": 1011,
   "metadata": {},
   "outputs": [],
   "source": [
    "df['rate_per_sqm'] = (df['resale_price']/df['floor_area_sqm']).round(2)"
   ]
  },
  {
   "cell_type": "code",
   "execution_count": 1012,
   "metadata": {},
   "outputs": [
    {
     "data": {
      "text/html": [
       "<div>\n",
       "<style scoped>\n",
       "    .dataframe tbody tr th:only-of-type {\n",
       "        vertical-align: middle;\n",
       "    }\n",
       "\n",
       "    .dataframe tbody tr th {\n",
       "        vertical-align: top;\n",
       "    }\n",
       "\n",
       "    .dataframe thead th {\n",
       "        text-align: right;\n",
       "    }\n",
       "</style>\n",
       "<table border=\"1\" class=\"dataframe\">\n",
       "  <thead>\n",
       "    <tr style=\"text-align: right;\">\n",
       "      <th></th>\n",
       "      <th>month</th>\n",
       "      <th>town</th>\n",
       "      <th>flat_type</th>\n",
       "      <th>block</th>\n",
       "      <th>floor_area_sqm</th>\n",
       "      <th>flat_model</th>\n",
       "      <th>lease_commence_date</th>\n",
       "      <th>resale_price</th>\n",
       "      <th>remaining_lease</th>\n",
       "      <th>year</th>\n",
       "      <th>age_of_property</th>\n",
       "      <th>storey</th>\n",
       "      <th>holding_period</th>\n",
       "      <th>rate_per_sqm</th>\n",
       "    </tr>\n",
       "  </thead>\n",
       "  <tbody>\n",
       "    <tr>\n",
       "      <th>0</th>\n",
       "      <td>1</td>\n",
       "      <td>ANG MO KIO</td>\n",
       "      <td>2 ROOM</td>\n",
       "      <td>406</td>\n",
       "      <td>44.0</td>\n",
       "      <td>IMPROVED</td>\n",
       "      <td>1979</td>\n",
       "      <td>232000.0</td>\n",
       "      <td>61</td>\n",
       "      <td>2017</td>\n",
       "      <td>38</td>\n",
       "      <td>10</td>\n",
       "      <td>38</td>\n",
       "      <td>5272.73</td>\n",
       "    </tr>\n",
       "    <tr>\n",
       "      <th>1</th>\n",
       "      <td>1</td>\n",
       "      <td>ANG MO KIO</td>\n",
       "      <td>3 ROOM</td>\n",
       "      <td>108</td>\n",
       "      <td>67.0</td>\n",
       "      <td>NEW-GENERATION</td>\n",
       "      <td>1978</td>\n",
       "      <td>250000.0</td>\n",
       "      <td>60</td>\n",
       "      <td>2017</td>\n",
       "      <td>39</td>\n",
       "      <td>1</td>\n",
       "      <td>39</td>\n",
       "      <td>3731.34</td>\n",
       "    </tr>\n",
       "  </tbody>\n",
       "</table>\n",
       "</div>"
      ],
      "text/plain": [
       "   month        town flat_type  block  floor_area_sqm      flat_model  \\\n",
       "0      1  ANG MO KIO    2 ROOM    406            44.0        IMPROVED   \n",
       "1      1  ANG MO KIO    3 ROOM    108            67.0  NEW-GENERATION   \n",
       "\n",
       "   lease_commence_date  resale_price  remaining_lease  year  age_of_property  \\\n",
       "0                 1979      232000.0               61  2017               38   \n",
       "1                 1978      250000.0               60  2017               39   \n",
       "\n",
       "   storey  holding_period  rate_per_sqm  \n",
       "0      10              38       5272.73  \n",
       "1       1              39       3731.34  "
      ]
     },
     "execution_count": 1012,
     "metadata": {},
     "output_type": "execute_result"
    }
   ],
   "source": [
    "df.head(2)"
   ]
  },
  {
   "cell_type": "code",
   "execution_count": 1013,
   "metadata": {},
   "outputs": [
    {
     "data": {
      "text/plain": [
       "month                    int32\n",
       "town                    object\n",
       "flat_type               object\n",
       "block                    int64\n",
       "floor_area_sqm         float64\n",
       "flat_model              object\n",
       "lease_commence_date      int64\n",
       "resale_price           float64\n",
       "remaining_lease          int32\n",
       "year                     int32\n",
       "age_of_property          int64\n",
       "storey                   int32\n",
       "holding_period           int64\n",
       "rate_per_sqm           float64\n",
       "dtype: object"
      ]
     },
     "execution_count": 1013,
     "metadata": {},
     "output_type": "execute_result"
    }
   ],
   "source": [
    "df.dtypes"
   ]
  },
  {
   "cell_type": "code",
   "execution_count": 1014,
   "metadata": {},
   "outputs": [],
   "source": [
    "df['rate_per_sqm'] = df['rate_per_sqm'].astype('int')"
   ]
  },
  {
   "cell_type": "code",
   "execution_count": 1015,
   "metadata": {},
   "outputs": [
    {
     "data": {
      "text/plain": [
       "month                    int32\n",
       "town                    object\n",
       "flat_type               object\n",
       "block                    int64\n",
       "floor_area_sqm         float64\n",
       "flat_model              object\n",
       "lease_commence_date      int64\n",
       "resale_price           float64\n",
       "remaining_lease          int32\n",
       "year                     int32\n",
       "age_of_property          int64\n",
       "storey                   int32\n",
       "holding_period           int64\n",
       "rate_per_sqm             int32\n",
       "dtype: object"
      ]
     },
     "execution_count": 1015,
     "metadata": {},
     "output_type": "execute_result"
    }
   ],
   "source": [
    "df.dtypes"
   ]
  },
  {
   "cell_type": "code",
   "execution_count": 1016,
   "metadata": {},
   "outputs": [
    {
     "data": {
      "text/html": [
       "<div>\n",
       "<style scoped>\n",
       "    .dataframe tbody tr th:only-of-type {\n",
       "        vertical-align: middle;\n",
       "    }\n",
       "\n",
       "    .dataframe tbody tr th {\n",
       "        vertical-align: top;\n",
       "    }\n",
       "\n",
       "    .dataframe thead th {\n",
       "        text-align: right;\n",
       "    }\n",
       "</style>\n",
       "<table border=\"1\" class=\"dataframe\">\n",
       "  <thead>\n",
       "    <tr style=\"text-align: right;\">\n",
       "      <th></th>\n",
       "      <th>month</th>\n",
       "      <th>town</th>\n",
       "      <th>flat_type</th>\n",
       "      <th>block</th>\n",
       "      <th>floor_area_sqm</th>\n",
       "      <th>flat_model</th>\n",
       "      <th>lease_commence_date</th>\n",
       "      <th>resale_price</th>\n",
       "      <th>remaining_lease</th>\n",
       "      <th>year</th>\n",
       "      <th>age_of_property</th>\n",
       "      <th>storey</th>\n",
       "      <th>holding_period</th>\n",
       "      <th>rate_per_sqm</th>\n",
       "    </tr>\n",
       "  </thead>\n",
       "  <tbody>\n",
       "    <tr>\n",
       "      <th>0</th>\n",
       "      <td>1</td>\n",
       "      <td>ANG MO KIO</td>\n",
       "      <td>2 ROOM</td>\n",
       "      <td>406</td>\n",
       "      <td>44.0</td>\n",
       "      <td>IMPROVED</td>\n",
       "      <td>1979</td>\n",
       "      <td>232000.0</td>\n",
       "      <td>61</td>\n",
       "      <td>2017</td>\n",
       "      <td>38</td>\n",
       "      <td>10</td>\n",
       "      <td>38</td>\n",
       "      <td>5272</td>\n",
       "    </tr>\n",
       "    <tr>\n",
       "      <th>1</th>\n",
       "      <td>1</td>\n",
       "      <td>ANG MO KIO</td>\n",
       "      <td>3 ROOM</td>\n",
       "      <td>108</td>\n",
       "      <td>67.0</td>\n",
       "      <td>NEW-GENERATION</td>\n",
       "      <td>1978</td>\n",
       "      <td>250000.0</td>\n",
       "      <td>60</td>\n",
       "      <td>2017</td>\n",
       "      <td>39</td>\n",
       "      <td>1</td>\n",
       "      <td>39</td>\n",
       "      <td>3731</td>\n",
       "    </tr>\n",
       "  </tbody>\n",
       "</table>\n",
       "</div>"
      ],
      "text/plain": [
       "   month        town flat_type  block  floor_area_sqm      flat_model  \\\n",
       "0      1  ANG MO KIO    2 ROOM    406            44.0        IMPROVED   \n",
       "1      1  ANG MO KIO    3 ROOM    108            67.0  NEW-GENERATION   \n",
       "\n",
       "   lease_commence_date  resale_price  remaining_lease  year  age_of_property  \\\n",
       "0                 1979      232000.0               61  2017               38   \n",
       "1                 1978      250000.0               60  2017               39   \n",
       "\n",
       "   storey  holding_period  rate_per_sqm  \n",
       "0      10              38          5272  \n",
       "1       1              39          3731  "
      ]
     },
     "execution_count": 1016,
     "metadata": {},
     "output_type": "execute_result"
    }
   ],
   "source": [
    "df.head(2)"
   ]
  },
  {
   "cell_type": "markdown",
   "metadata": {},
   "source": [
    "## Descriptive Statistics ##"
   ]
  },
  {
   "cell_type": "code",
   "execution_count": 1017,
   "metadata": {},
   "outputs": [
    {
     "data": {
      "text/html": [
       "<div>\n",
       "<style scoped>\n",
       "    .dataframe tbody tr th:only-of-type {\n",
       "        vertical-align: middle;\n",
       "    }\n",
       "\n",
       "    .dataframe tbody tr th {\n",
       "        vertical-align: top;\n",
       "    }\n",
       "\n",
       "    .dataframe thead th {\n",
       "        text-align: right;\n",
       "    }\n",
       "</style>\n",
       "<table border=\"1\" class=\"dataframe\">\n",
       "  <thead>\n",
       "    <tr style=\"text-align: right;\">\n",
       "      <th></th>\n",
       "      <th>count</th>\n",
       "      <th>mean</th>\n",
       "      <th>std</th>\n",
       "      <th>min</th>\n",
       "      <th>25%</th>\n",
       "      <th>50%</th>\n",
       "      <th>75%</th>\n",
       "      <th>max</th>\n",
       "    </tr>\n",
       "  </thead>\n",
       "  <tbody>\n",
       "    <tr>\n",
       "      <th>month</th>\n",
       "      <td>174274.0</td>\n",
       "      <td>6.524278</td>\n",
       "      <td>3.356739</td>\n",
       "      <td>1.0</td>\n",
       "      <td>4.0</td>\n",
       "      <td>7.0</td>\n",
       "      <td>9.0</td>\n",
       "      <td>12.0</td>\n",
       "    </tr>\n",
       "    <tr>\n",
       "      <th>block</th>\n",
       "      <td>174274.0</td>\n",
       "      <td>366.332144</td>\n",
       "      <td>252.651019</td>\n",
       "      <td>1.0</td>\n",
       "      <td>146.0</td>\n",
       "      <td>319.0</td>\n",
       "      <td>548.0</td>\n",
       "      <td>999.0</td>\n",
       "    </tr>\n",
       "    <tr>\n",
       "      <th>floor_area_sqm</th>\n",
       "      <td>174274.0</td>\n",
       "      <td>97.100111</td>\n",
       "      <td>24.054562</td>\n",
       "      <td>31.0</td>\n",
       "      <td>82.0</td>\n",
       "      <td>93.0</td>\n",
       "      <td>112.0</td>\n",
       "      <td>249.0</td>\n",
       "    </tr>\n",
       "    <tr>\n",
       "      <th>lease_commence_date</th>\n",
       "      <td>174274.0</td>\n",
       "      <td>1996.088625</td>\n",
       "      <td>14.084981</td>\n",
       "      <td>1966.0</td>\n",
       "      <td>1985.0</td>\n",
       "      <td>1996.0</td>\n",
       "      <td>2011.0</td>\n",
       "      <td>2020.0</td>\n",
       "    </tr>\n",
       "    <tr>\n",
       "      <th>resale_price</th>\n",
       "      <td>174274.0</td>\n",
       "      <td>503515.324403</td>\n",
       "      <td>175478.826032</td>\n",
       "      <td>140000.0</td>\n",
       "      <td>375000.0</td>\n",
       "      <td>472000.0</td>\n",
       "      <td>600000.0</td>\n",
       "      <td>1588000.0</td>\n",
       "    </tr>\n",
       "    <tr>\n",
       "      <th>remaining_lease</th>\n",
       "      <td>174274.0</td>\n",
       "      <td>74.003954</td>\n",
       "      <td>14.002368</td>\n",
       "      <td>41.0</td>\n",
       "      <td>63.0</td>\n",
       "      <td>74.0</td>\n",
       "      <td>88.0</td>\n",
       "      <td>97.0</td>\n",
       "    </tr>\n",
       "    <tr>\n",
       "      <th>year</th>\n",
       "      <td>174274.0</td>\n",
       "      <td>2020.615898</td>\n",
       "      <td>2.203737</td>\n",
       "      <td>2017.0</td>\n",
       "      <td>2019.0</td>\n",
       "      <td>2021.0</td>\n",
       "      <td>2022.0</td>\n",
       "      <td>2024.0</td>\n",
       "    </tr>\n",
       "    <tr>\n",
       "      <th>age_of_property</th>\n",
       "      <td>174274.0</td>\n",
       "      <td>24.527273</td>\n",
       "      <td>13.971671</td>\n",
       "      <td>1.0</td>\n",
       "      <td>11.0</td>\n",
       "      <td>25.0</td>\n",
       "      <td>36.0</td>\n",
       "      <td>58.0</td>\n",
       "    </tr>\n",
       "    <tr>\n",
       "      <th>storey</th>\n",
       "      <td>174274.0</td>\n",
       "      <td>7.753572</td>\n",
       "      <td>5.934059</td>\n",
       "      <td>1.0</td>\n",
       "      <td>4.0</td>\n",
       "      <td>7.0</td>\n",
       "      <td>10.0</td>\n",
       "      <td>49.0</td>\n",
       "    </tr>\n",
       "    <tr>\n",
       "      <th>holding_period</th>\n",
       "      <td>174274.0</td>\n",
       "      <td>24.527273</td>\n",
       "      <td>13.971671</td>\n",
       "      <td>1.0</td>\n",
       "      <td>11.0</td>\n",
       "      <td>25.0</td>\n",
       "      <td>36.0</td>\n",
       "      <td>58.0</td>\n",
       "    </tr>\n",
       "    <tr>\n",
       "      <th>rate_per_sqm</th>\n",
       "      <td>174274.0</td>\n",
       "      <td>5235.426822</td>\n",
       "      <td>1476.523471</td>\n",
       "      <td>2089.0</td>\n",
       "      <td>4201.0</td>\n",
       "      <td>4960.0</td>\n",
       "      <td>5884.0</td>\n",
       "      <td>15591.0</td>\n",
       "    </tr>\n",
       "  </tbody>\n",
       "</table>\n",
       "</div>"
      ],
      "text/plain": [
       "                        count           mean            std       min  \\\n",
       "month                174274.0       6.524278       3.356739       1.0   \n",
       "block                174274.0     366.332144     252.651019       1.0   \n",
       "floor_area_sqm       174274.0      97.100111      24.054562      31.0   \n",
       "lease_commence_date  174274.0    1996.088625      14.084981    1966.0   \n",
       "resale_price         174274.0  503515.324403  175478.826032  140000.0   \n",
       "remaining_lease      174274.0      74.003954      14.002368      41.0   \n",
       "year                 174274.0    2020.615898       2.203737    2017.0   \n",
       "age_of_property      174274.0      24.527273      13.971671       1.0   \n",
       "storey               174274.0       7.753572       5.934059       1.0   \n",
       "holding_period       174274.0      24.527273      13.971671       1.0   \n",
       "rate_per_sqm         174274.0    5235.426822    1476.523471    2089.0   \n",
       "\n",
       "                          25%       50%       75%        max  \n",
       "month                     4.0       7.0       9.0       12.0  \n",
       "block                   146.0     319.0     548.0      999.0  \n",
       "floor_area_sqm           82.0      93.0     112.0      249.0  \n",
       "lease_commence_date    1985.0    1996.0    2011.0     2020.0  \n",
       "resale_price         375000.0  472000.0  600000.0  1588000.0  \n",
       "remaining_lease          63.0      74.0      88.0       97.0  \n",
       "year                   2019.0    2021.0    2022.0     2024.0  \n",
       "age_of_property          11.0      25.0      36.0       58.0  \n",
       "storey                    4.0       7.0      10.0       49.0  \n",
       "holding_period           11.0      25.0      36.0       58.0  \n",
       "rate_per_sqm           4201.0    4960.0    5884.0    15591.0  "
      ]
     },
     "execution_count": 1017,
     "metadata": {},
     "output_type": "execute_result"
    }
   ],
   "source": [
    "df.describe().T"
   ]
  },
  {
   "cell_type": "code",
   "execution_count": 1018,
   "metadata": {},
   "outputs": [
    {
     "data": {
      "text/plain": [
       "month                  0\n",
       "town                   0\n",
       "flat_type              0\n",
       "block                  0\n",
       "floor_area_sqm         0\n",
       "flat_model             0\n",
       "lease_commence_date    0\n",
       "resale_price           0\n",
       "remaining_lease        0\n",
       "year                   0\n",
       "age_of_property        0\n",
       "storey                 0\n",
       "holding_period         0\n",
       "rate_per_sqm           0\n",
       "dtype: int64"
      ]
     },
     "execution_count": 1018,
     "metadata": {},
     "output_type": "execute_result"
    }
   ],
   "source": [
    "df.isna().sum()"
   ]
  },
  {
   "cell_type": "code",
   "execution_count": 1020,
   "metadata": {},
   "outputs": [
    {
     "data": {
      "text/plain": [
       "month                    int32\n",
       "town                    object\n",
       "flat_type               object\n",
       "block                    int64\n",
       "floor_area_sqm         float64\n",
       "flat_model              object\n",
       "lease_commence_date      int64\n",
       "resale_price           float64\n",
       "remaining_lease          int32\n",
       "year                     int32\n",
       "age_of_property          int64\n",
       "storey                   int32\n",
       "holding_period           int64\n",
       "rate_per_sqm             int32\n",
       "dtype: object"
      ]
     },
     "execution_count": 1020,
     "metadata": {},
     "output_type": "execute_result"
    }
   ],
   "source": [
    "df.dtypes"
   ]
  },
  {
   "cell_type": "code",
   "execution_count": 1021,
   "metadata": {},
   "outputs": [
    {
     "data": {
      "text/html": [
       "<div>\n",
       "<style scoped>\n",
       "    .dataframe tbody tr th:only-of-type {\n",
       "        vertical-align: middle;\n",
       "    }\n",
       "\n",
       "    .dataframe tbody tr th {\n",
       "        vertical-align: top;\n",
       "    }\n",
       "\n",
       "    .dataframe thead th {\n",
       "        text-align: right;\n",
       "    }\n",
       "</style>\n",
       "<table border=\"1\" class=\"dataframe\">\n",
       "  <thead>\n",
       "    <tr style=\"text-align: right;\">\n",
       "      <th></th>\n",
       "      <th>month</th>\n",
       "      <th>block</th>\n",
       "      <th>floor_area_sqm</th>\n",
       "      <th>lease_commence_date</th>\n",
       "      <th>resale_price</th>\n",
       "      <th>remaining_lease</th>\n",
       "      <th>year</th>\n",
       "      <th>age_of_property</th>\n",
       "      <th>storey</th>\n",
       "      <th>holding_period</th>\n",
       "      <th>rate_per_sqm</th>\n",
       "    </tr>\n",
       "  </thead>\n",
       "  <tbody>\n",
       "    <tr>\n",
       "      <th>0</th>\n",
       "      <td>1</td>\n",
       "      <td>406</td>\n",
       "      <td>44.0</td>\n",
       "      <td>1979</td>\n",
       "      <td>232000.0</td>\n",
       "      <td>61</td>\n",
       "      <td>2017</td>\n",
       "      <td>38</td>\n",
       "      <td>10</td>\n",
       "      <td>38</td>\n",
       "      <td>5272</td>\n",
       "    </tr>\n",
       "    <tr>\n",
       "      <th>1</th>\n",
       "      <td>1</td>\n",
       "      <td>108</td>\n",
       "      <td>67.0</td>\n",
       "      <td>1978</td>\n",
       "      <td>250000.0</td>\n",
       "      <td>60</td>\n",
       "      <td>2017</td>\n",
       "      <td>39</td>\n",
       "      <td>1</td>\n",
       "      <td>39</td>\n",
       "      <td>3731</td>\n",
       "    </tr>\n",
       "    <tr>\n",
       "      <th>2</th>\n",
       "      <td>1</td>\n",
       "      <td>602</td>\n",
       "      <td>67.0</td>\n",
       "      <td>1980</td>\n",
       "      <td>262000.0</td>\n",
       "      <td>62</td>\n",
       "      <td>2017</td>\n",
       "      <td>37</td>\n",
       "      <td>1</td>\n",
       "      <td>37</td>\n",
       "      <td>3910</td>\n",
       "    </tr>\n",
       "    <tr>\n",
       "      <th>3</th>\n",
       "      <td>1</td>\n",
       "      <td>465</td>\n",
       "      <td>68.0</td>\n",
       "      <td>1980</td>\n",
       "      <td>265000.0</td>\n",
       "      <td>62</td>\n",
       "      <td>2017</td>\n",
       "      <td>37</td>\n",
       "      <td>4</td>\n",
       "      <td>37</td>\n",
       "      <td>3897</td>\n",
       "    </tr>\n",
       "    <tr>\n",
       "      <th>4</th>\n",
       "      <td>1</td>\n",
       "      <td>601</td>\n",
       "      <td>67.0</td>\n",
       "      <td>1980</td>\n",
       "      <td>265000.0</td>\n",
       "      <td>62</td>\n",
       "      <td>2017</td>\n",
       "      <td>37</td>\n",
       "      <td>1</td>\n",
       "      <td>37</td>\n",
       "      <td>3955</td>\n",
       "    </tr>\n",
       "    <tr>\n",
       "      <th>...</th>\n",
       "      <td>...</td>\n",
       "      <td>...</td>\n",
       "      <td>...</td>\n",
       "      <td>...</td>\n",
       "      <td>...</td>\n",
       "      <td>...</td>\n",
       "      <td>...</td>\n",
       "      <td>...</td>\n",
       "      <td>...</td>\n",
       "      <td>...</td>\n",
       "      <td>...</td>\n",
       "    </tr>\n",
       "    <tr>\n",
       "      <th>174269</th>\n",
       "      <td>9</td>\n",
       "      <td>358</td>\n",
       "      <td>146.0</td>\n",
       "      <td>1988</td>\n",
       "      <td>850000.0</td>\n",
       "      <td>62</td>\n",
       "      <td>2024</td>\n",
       "      <td>36</td>\n",
       "      <td>1</td>\n",
       "      <td>36</td>\n",
       "      <td>5821</td>\n",
       "    </tr>\n",
       "    <tr>\n",
       "      <th>174270</th>\n",
       "      <td>9</td>\n",
       "      <td>361</td>\n",
       "      <td>146.0</td>\n",
       "      <td>1988</td>\n",
       "      <td>800000.0</td>\n",
       "      <td>62</td>\n",
       "      <td>2024</td>\n",
       "      <td>36</td>\n",
       "      <td>1</td>\n",
       "      <td>36</td>\n",
       "      <td>5479</td>\n",
       "    </tr>\n",
       "    <tr>\n",
       "      <th>174271</th>\n",
       "      <td>9</td>\n",
       "      <td>606</td>\n",
       "      <td>147.0</td>\n",
       "      <td>1987</td>\n",
       "      <td>770000.0</td>\n",
       "      <td>62</td>\n",
       "      <td>2024</td>\n",
       "      <td>37</td>\n",
       "      <td>1</td>\n",
       "      <td>37</td>\n",
       "      <td>5238</td>\n",
       "    </tr>\n",
       "    <tr>\n",
       "      <th>174272</th>\n",
       "      <td>9</td>\n",
       "      <td>641</td>\n",
       "      <td>164.0</td>\n",
       "      <td>1992</td>\n",
       "      <td>1068888.0</td>\n",
       "      <td>66</td>\n",
       "      <td>2024</td>\n",
       "      <td>32</td>\n",
       "      <td>7</td>\n",
       "      <td>32</td>\n",
       "      <td>6517</td>\n",
       "    </tr>\n",
       "    <tr>\n",
       "      <th>174273</th>\n",
       "      <td>9</td>\n",
       "      <td>824</td>\n",
       "      <td>146.0</td>\n",
       "      <td>1987</td>\n",
       "      <td>893888.0</td>\n",
       "      <td>62</td>\n",
       "      <td>2024</td>\n",
       "      <td>37</td>\n",
       "      <td>1</td>\n",
       "      <td>37</td>\n",
       "      <td>6122</td>\n",
       "    </tr>\n",
       "  </tbody>\n",
       "</table>\n",
       "<p>174274 rows × 11 columns</p>\n",
       "</div>"
      ],
      "text/plain": [
       "        month  block  floor_area_sqm  lease_commence_date  resale_price  \\\n",
       "0           1    406            44.0                 1979      232000.0   \n",
       "1           1    108            67.0                 1978      250000.0   \n",
       "2           1    602            67.0                 1980      262000.0   \n",
       "3           1    465            68.0                 1980      265000.0   \n",
       "4           1    601            67.0                 1980      265000.0   \n",
       "...       ...    ...             ...                  ...           ...   \n",
       "174269      9    358           146.0                 1988      850000.0   \n",
       "174270      9    361           146.0                 1988      800000.0   \n",
       "174271      9    606           147.0                 1987      770000.0   \n",
       "174272      9    641           164.0                 1992     1068888.0   \n",
       "174273      9    824           146.0                 1987      893888.0   \n",
       "\n",
       "        remaining_lease  year  age_of_property  storey  holding_period  \\\n",
       "0                    61  2017               38      10              38   \n",
       "1                    60  2017               39       1              39   \n",
       "2                    62  2017               37       1              37   \n",
       "3                    62  2017               37       4              37   \n",
       "4                    62  2017               37       1              37   \n",
       "...                 ...   ...              ...     ...             ...   \n",
       "174269               62  2024               36       1              36   \n",
       "174270               62  2024               36       1              36   \n",
       "174271               62  2024               37       1              37   \n",
       "174272               66  2024               32       7              32   \n",
       "174273               62  2024               37       1              37   \n",
       "\n",
       "        rate_per_sqm  \n",
       "0               5272  \n",
       "1               3731  \n",
       "2               3910  \n",
       "3               3897  \n",
       "4               3955  \n",
       "...              ...  \n",
       "174269          5821  \n",
       "174270          5479  \n",
       "174271          5238  \n",
       "174272          6517  \n",
       "174273          6122  \n",
       "\n",
       "[174274 rows x 11 columns]"
      ]
     },
     "execution_count": 1021,
     "metadata": {},
     "output_type": "execute_result"
    }
   ],
   "source": [
    "num_cols = df.select_dtypes(include='number')\n",
    "num_cols"
   ]
  },
  {
   "cell_type": "code",
   "execution_count": 1022,
   "metadata": {},
   "outputs": [
    {
     "data": {
      "text/html": [
       "<div>\n",
       "<style scoped>\n",
       "    .dataframe tbody tr th:only-of-type {\n",
       "        vertical-align: middle;\n",
       "    }\n",
       "\n",
       "    .dataframe tbody tr th {\n",
       "        vertical-align: top;\n",
       "    }\n",
       "\n",
       "    .dataframe thead th {\n",
       "        text-align: right;\n",
       "    }\n",
       "</style>\n",
       "<table border=\"1\" class=\"dataframe\">\n",
       "  <thead>\n",
       "    <tr style=\"text-align: right;\">\n",
       "      <th></th>\n",
       "      <th>town</th>\n",
       "      <th>flat_type</th>\n",
       "      <th>flat_model</th>\n",
       "    </tr>\n",
       "  </thead>\n",
       "  <tbody>\n",
       "    <tr>\n",
       "      <th>0</th>\n",
       "      <td>ANG MO KIO</td>\n",
       "      <td>2 ROOM</td>\n",
       "      <td>IMPROVED</td>\n",
       "    </tr>\n",
       "    <tr>\n",
       "      <th>1</th>\n",
       "      <td>ANG MO KIO</td>\n",
       "      <td>3 ROOM</td>\n",
       "      <td>NEW-GENERATION</td>\n",
       "    </tr>\n",
       "    <tr>\n",
       "      <th>2</th>\n",
       "      <td>ANG MO KIO</td>\n",
       "      <td>3 ROOM</td>\n",
       "      <td>NEW-GENERATION</td>\n",
       "    </tr>\n",
       "    <tr>\n",
       "      <th>3</th>\n",
       "      <td>ANG MO KIO</td>\n",
       "      <td>3 ROOM</td>\n",
       "      <td>NEW-GENERATION</td>\n",
       "    </tr>\n",
       "    <tr>\n",
       "      <th>4</th>\n",
       "      <td>ANG MO KIO</td>\n",
       "      <td>3 ROOM</td>\n",
       "      <td>NEW-GENERATION</td>\n",
       "    </tr>\n",
       "    <tr>\n",
       "      <th>...</th>\n",
       "      <td>...</td>\n",
       "      <td>...</td>\n",
       "      <td>...</td>\n",
       "    </tr>\n",
       "    <tr>\n",
       "      <th>174269</th>\n",
       "      <td>YISHUN</td>\n",
       "      <td>EXECUTIVE</td>\n",
       "      <td>MAISONETTE</td>\n",
       "    </tr>\n",
       "    <tr>\n",
       "      <th>174270</th>\n",
       "      <td>YISHUN</td>\n",
       "      <td>EXECUTIVE</td>\n",
       "      <td>MAISONETTE</td>\n",
       "    </tr>\n",
       "    <tr>\n",
       "      <th>174271</th>\n",
       "      <td>YISHUN</td>\n",
       "      <td>EXECUTIVE</td>\n",
       "      <td>APARTMENT</td>\n",
       "    </tr>\n",
       "    <tr>\n",
       "      <th>174272</th>\n",
       "      <td>YISHUN</td>\n",
       "      <td>EXECUTIVE</td>\n",
       "      <td>APARTMENT</td>\n",
       "    </tr>\n",
       "    <tr>\n",
       "      <th>174273</th>\n",
       "      <td>YISHUN</td>\n",
       "      <td>EXECUTIVE</td>\n",
       "      <td>MAISONETTE</td>\n",
       "    </tr>\n",
       "  </tbody>\n",
       "</table>\n",
       "<p>174274 rows × 3 columns</p>\n",
       "</div>"
      ],
      "text/plain": [
       "              town  flat_type      flat_model\n",
       "0       ANG MO KIO     2 ROOM        IMPROVED\n",
       "1       ANG MO KIO     3 ROOM  NEW-GENERATION\n",
       "2       ANG MO KIO     3 ROOM  NEW-GENERATION\n",
       "3       ANG MO KIO     3 ROOM  NEW-GENERATION\n",
       "4       ANG MO KIO     3 ROOM  NEW-GENERATION\n",
       "...            ...        ...             ...\n",
       "174269      YISHUN  EXECUTIVE      MAISONETTE\n",
       "174270      YISHUN  EXECUTIVE      MAISONETTE\n",
       "174271      YISHUN  EXECUTIVE       APARTMENT\n",
       "174272      YISHUN  EXECUTIVE       APARTMENT\n",
       "174273      YISHUN  EXECUTIVE      MAISONETTE\n",
       "\n",
       "[174274 rows x 3 columns]"
      ]
     },
     "execution_count": 1022,
     "metadata": {},
     "output_type": "execute_result"
    }
   ],
   "source": [
    "cat_cols = df.select_dtypes(include='object')\n",
    "cat_cols"
   ]
  },
  {
   "cell_type": "code",
   "execution_count": 1023,
   "metadata": {},
   "outputs": [
    {
     "data": {
      "text/html": [
       "<div>\n",
       "<style scoped>\n",
       "    .dataframe tbody tr th:only-of-type {\n",
       "        vertical-align: middle;\n",
       "    }\n",
       "\n",
       "    .dataframe tbody tr th {\n",
       "        vertical-align: top;\n",
       "    }\n",
       "\n",
       "    .dataframe thead th {\n",
       "        text-align: right;\n",
       "    }\n",
       "</style>\n",
       "<table border=\"1\" class=\"dataframe\">\n",
       "  <thead>\n",
       "    <tr style=\"text-align: right;\">\n",
       "      <th></th>\n",
       "      <th>floor_area_sqm</th>\n",
       "      <th>resale_price</th>\n",
       "      <th>remaining_lease</th>\n",
       "      <th>rate_per_sqm</th>\n",
       "    </tr>\n",
       "  </thead>\n",
       "  <tbody>\n",
       "    <tr>\n",
       "      <th>0</th>\n",
       "      <td>44.0</td>\n",
       "      <td>232000.0</td>\n",
       "      <td>61</td>\n",
       "      <td>5272</td>\n",
       "    </tr>\n",
       "    <tr>\n",
       "      <th>1</th>\n",
       "      <td>67.0</td>\n",
       "      <td>250000.0</td>\n",
       "      <td>60</td>\n",
       "      <td>3731</td>\n",
       "    </tr>\n",
       "    <tr>\n",
       "      <th>2</th>\n",
       "      <td>67.0</td>\n",
       "      <td>262000.0</td>\n",
       "      <td>62</td>\n",
       "      <td>3910</td>\n",
       "    </tr>\n",
       "    <tr>\n",
       "      <th>3</th>\n",
       "      <td>68.0</td>\n",
       "      <td>265000.0</td>\n",
       "      <td>62</td>\n",
       "      <td>3897</td>\n",
       "    </tr>\n",
       "    <tr>\n",
       "      <th>4</th>\n",
       "      <td>67.0</td>\n",
       "      <td>265000.0</td>\n",
       "      <td>62</td>\n",
       "      <td>3955</td>\n",
       "    </tr>\n",
       "    <tr>\n",
       "      <th>...</th>\n",
       "      <td>...</td>\n",
       "      <td>...</td>\n",
       "      <td>...</td>\n",
       "      <td>...</td>\n",
       "    </tr>\n",
       "    <tr>\n",
       "      <th>174269</th>\n",
       "      <td>146.0</td>\n",
       "      <td>850000.0</td>\n",
       "      <td>62</td>\n",
       "      <td>5821</td>\n",
       "    </tr>\n",
       "    <tr>\n",
       "      <th>174270</th>\n",
       "      <td>146.0</td>\n",
       "      <td>800000.0</td>\n",
       "      <td>62</td>\n",
       "      <td>5479</td>\n",
       "    </tr>\n",
       "    <tr>\n",
       "      <th>174271</th>\n",
       "      <td>147.0</td>\n",
       "      <td>770000.0</td>\n",
       "      <td>62</td>\n",
       "      <td>5238</td>\n",
       "    </tr>\n",
       "    <tr>\n",
       "      <th>174272</th>\n",
       "      <td>164.0</td>\n",
       "      <td>1068888.0</td>\n",
       "      <td>66</td>\n",
       "      <td>6517</td>\n",
       "    </tr>\n",
       "    <tr>\n",
       "      <th>174273</th>\n",
       "      <td>146.0</td>\n",
       "      <td>893888.0</td>\n",
       "      <td>62</td>\n",
       "      <td>6122</td>\n",
       "    </tr>\n",
       "  </tbody>\n",
       "</table>\n",
       "<p>174274 rows × 4 columns</p>\n",
       "</div>"
      ],
      "text/plain": [
       "        floor_area_sqm  resale_price  remaining_lease  rate_per_sqm\n",
       "0                 44.0      232000.0               61          5272\n",
       "1                 67.0      250000.0               60          3731\n",
       "2                 67.0      262000.0               62          3910\n",
       "3                 68.0      265000.0               62          3897\n",
       "4                 67.0      265000.0               62          3955\n",
       "...                ...           ...              ...           ...\n",
       "174269           146.0      850000.0               62          5821\n",
       "174270           146.0      800000.0               62          5479\n",
       "174271           147.0      770000.0               62          5238\n",
       "174272           164.0     1068888.0               66          6517\n",
       "174273           146.0      893888.0               62          6122\n",
       "\n",
       "[174274 rows x 4 columns]"
      ]
     },
     "execution_count": 1023,
     "metadata": {},
     "output_type": "execute_result"
    }
   ],
   "source": [
    "skew_cols_1 = num_cols[['floor_area_sqm','resale_price','remaining_lease','rate_per_sqm']]\n",
    "skew_cols_1"
   ]
  },
  {
   "cell_type": "markdown",
   "metadata": {},
   "source": [
    "# Data Distirbution #"
   ]
  },
  {
   "cell_type": "code",
   "execution_count": 1024,
   "metadata": {},
   "outputs": [
    {
     "name": "stdout",
     "output_type": "stream",
     "text": [
      "floor_area_sqm : 0.2578153963532973\n",
      "resale_price : 0.9401979938538814\n",
      "remaining_lease : -0.0068267787774851955\n",
      "rate_per_sqm : 1.3444456873589432\n"
     ]
    }
   ],
   "source": [
    "for col in skew_cols_1:\n",
    "    print(f\"{col} : {(skew(df[col]))}\")"
   ]
  },
  {
   "cell_type": "code",
   "execution_count": 1025,
   "metadata": {},
   "outputs": [
    {
     "data": {
      "image/png": "[encoded data removed]",
      "text/plain": [
       "<Figure size 1500x800 with 4 Axes>"
      ]
     },
     "metadata": {},
     "output_type": "display_data"
    }
   ],
   "source": [
    "plt.figure(figsize=(15, 8))\n",
    "for i, col in enumerate(skew_cols_1, 1):\n",
    "    plt.subplot(3, 4, i)\n",
    "    sns.kdeplot(df[col], label=col)\n",
    "    plt.legend()\n",
    "plt.tight_layout()\n",
    "plt.show()"
   ]
  },
  {
   "cell_type": "code",
   "execution_count": 1026,
   "metadata": {},
   "outputs": [],
   "source": [
    "def get_skew(df,column):\n",
    "    df[column] = df[column].apply(lambda x:np.log(x+1))\n",
    "    #return df[column]"
   ]
  },
  {
   "cell_type": "code",
   "execution_count": 1027,
   "metadata": {},
   "outputs": [],
   "source": [
    "get_skew(df,'floor_area_sqm')\n",
    "#get_skew(df,'resale_price')\n",
    "#get_skew(df,'remaining_lease')\n",
    "get_skew(df,'rate_per_sqm')"
   ]
  },
  {
   "cell_type": "code",
   "execution_count": 1028,
   "metadata": {},
   "outputs": [
    {
     "data": {
      "image/png": "[encoded data removed]",
      "text/plain": [
       "<Figure size 1500x800 with 4 Axes>"
      ]
     },
     "metadata": {},
     "output_type": "display_data"
    }
   ],
   "source": [
    "plt.figure(figsize=(15, 8))\n",
    "for i, col in enumerate(skew_cols_1, 1):\n",
    "    plt.subplot(3, 4, i)\n",
    "    sns.kdeplot(df[col], label=col)\n",
    "    plt.legend()\n",
    "plt.tight_layout()\n",
    "plt.show()"
   ]
  },
  {
   "cell_type": "code",
   "execution_count": 1030,
   "metadata": {},
   "outputs": [
    {
     "data": {
      "text/plain": [
       "month                    int32\n",
       "town                    object\n",
       "flat_type               object\n",
       "block                    int64\n",
       "floor_area_sqm         float64\n",
       "flat_model              object\n",
       "lease_commence_date      int64\n",
       "resale_price           float64\n",
       "remaining_lease          int32\n",
       "year                     int32\n",
       "age_of_property          int64\n",
       "storey                   int32\n",
       "holding_period           int64\n",
       "rate_per_sqm           float64\n",
       "dtype: object"
      ]
     },
     "execution_count": 1030,
     "metadata": {},
     "output_type": "execute_result"
    }
   ],
   "source": [
    "df.dtypes"
   ]
  },
  {
   "cell_type": "code",
   "execution_count": 1031,
   "metadata": {},
   "outputs": [],
   "source": [
    "df['rate_per_sqm'] = df['rate_per_sqm'].astype('int')"
   ]
  },
  {
   "cell_type": "code",
   "execution_count": 1032,
   "metadata": {},
   "outputs": [
    {
     "data": {
      "text/plain": [
       "month                    int32\n",
       "town                    object\n",
       "flat_type               object\n",
       "block                    int64\n",
       "floor_area_sqm         float64\n",
       "flat_model              object\n",
       "lease_commence_date      int64\n",
       "resale_price           float64\n",
       "remaining_lease          int32\n",
       "year                     int32\n",
       "age_of_property          int64\n",
       "storey                   int32\n",
       "holding_period           int64\n",
       "rate_per_sqm             int32\n",
       "dtype: object"
      ]
     },
     "execution_count": 1032,
     "metadata": {},
     "output_type": "execute_result"
    }
   ],
   "source": [
    "df.dtypes"
   ]
  },
  {
   "cell_type": "code",
   "execution_count": 1033,
   "metadata": {},
   "outputs": [
    {
     "data": {
      "text/plain": [
       "array([8, 9, 7])"
      ]
     },
     "execution_count": 1033,
     "metadata": {},
     "output_type": "execute_result"
    }
   ],
   "source": [
    "df['rate_per_sqm'].unique()"
   ]
  },
  {
   "cell_type": "code",
   "execution_count": 1034,
   "metadata": {},
   "outputs": [
    {
     "data": {
      "text/plain": [
       "array([61, 60, 62, 58, 59, 63, 93, 94, 78, 70, 67, 68, 66, 65, 69, 64, 83,\n",
       "       87, 71, 92, 54, 82, 75, 55, 74, 72, 80, 86, 79, 53, 57, 52, 51, 56,\n",
       "       95, 90, 81, 84, 85, 77, 88, 50, 73, 48, 89, 91, 49, 76, 96, 47, 46,\n",
       "       45, 97, 44, 43, 42, 41])"
      ]
     },
     "execution_count": 1034,
     "metadata": {},
     "output_type": "execute_result"
    }
   ],
   "source": [
    "df['remaining_lease'].unique()"
   ]
  },
  {
   "cell_type": "markdown",
   "metadata": {},
   "source": [
    "# Outliers Removal #"
   ]
  },
  {
   "cell_type": "code",
   "execution_count": 1035,
   "metadata": {},
   "outputs": [
    {
     "data": {
      "image/png": "[encoded data removed]",
      "text/plain": [
       "<Figure size 1500x800 with 11 Axes>"
      ]
     },
     "metadata": {},
     "output_type": "display_data"
    }
   ],
   "source": [
    "plt.figure(figsize=(15, 8))\n",
    "for i, col in enumerate(num_cols, 1):\n",
    "    plt.subplot(3, 4, i)\n",
    "    sns.boxplot(y=df[col])\n",
    "    plt.title(col)\n",
    "plt.tight_layout()\n",
    "plt.show()"
   ]
  },
  {
   "cell_type": "code",
   "execution_count": 1036,
   "metadata": {},
   "outputs": [],
   "source": [
    "def outlier(df, column):\n",
    "    iqr = df[column].quantile(0.75) - df[column].quantile(0.25)\n",
    "    upper_threshold = df[column].quantile(0.75) + (1.5*iqr)\n",
    "    lower_threshold = df[column].quantile(0.25) - (1.5*iqr)\n",
    "    df[column] = df[column].clip(lower_threshold, upper_threshold)"
   ]
  },
  {
   "cell_type": "code",
   "execution_count": 1037,
   "metadata": {},
   "outputs": [],
   "source": [
    "outlier(df,'floor_area_sqm')\n",
    "outlier(df,'resale_price')\n",
    "#outlier(df,'remaining_lease')\n",
    "#outlier(df,'rate_per_sqm')\n",
    "#outlier(df,'lease_commence_date')\n",
    "#outlier(df,'holding_period')\n",
    "outlier(df,'storey')\n",
    "#outlier(df,'age_of_property')\n"
   ]
  },
  {
   "cell_type": "markdown",
   "metadata": {},
   "source": [
    "## Unique values in each columns ##"
   ]
  },
  {
   "cell_type": "code",
   "execution_count": 1038,
   "metadata": {},
   "outputs": [
    {
     "name": "stdout",
     "output_type": "stream",
     "text": [
      "month : [ 1  2  3  4  5  6  7  8  9 10 11 12]\n",
      "town : ['ANG MO KIO' 'BEDOK' 'BISHAN' 'BUKIT BATOK' 'BUKIT MERAH' 'BUKIT PANJANG'\n",
      " 'BUKIT TIMAH' 'CENTRAL AREA' 'CHOA CHU KANG' 'CLEMENTI' 'GEYLANG'\n",
      " 'HOUGANG' 'JURONG EAST' 'JURONG WEST' 'KALLANG/WHAMPOA' 'MARINE PARADE'\n",
      " 'PASIR RIS' 'PUNGGOL' 'QUEENSTOWN' 'SEMBAWANG' 'SENGKANG' 'SERANGOON'\n",
      " 'TAMPINES' 'TOA PAYOH' 'WOODLANDS' 'YISHUN']\n",
      "flat_type : ['2 ROOM' '3 ROOM' '4 ROOM' '5 ROOM' 'EXECUTIVE' '1 ROOM'\n",
      " 'MULTI-GENERATION']\n",
      "block : [406 108 602 465 601 447 218 571 534 233 235 219 536 570 624 625 119 255\n",
      " 211 584 118 256 302 509 472 475 629 131 254 470 463 207 304 646 328 588\n",
      " 101 520 716 310 613 548 550 151  54  50 105 528  77 116  57 709  42  55\n",
      "  75  37 117 149  35  34  80  78 135 148  81 142 124 705 554 508 720  10\n",
      " 185 111 220 603  21 672 415 763 805 723 722 640 160  94  22 407 167 181\n",
      " 166 109 260 275 214 182 448 128 303 231 134 342 530 145 537 213 130 212\n",
      " 226 247 169 360 217 178 265 301 289 244 248 290 395 642 106 210 386 394\n",
      " 190 206 391 205 193 141 120   2  36  20  16  32  33  30  63  61  24 122\n",
      "  23 115  38   3  27  48  46  67  87   1 123 249 458 506 621 402 419 526\n",
      " 623 204 237 539 516 517 652 455 176 418 484 140 152 401 242 654 154 174\n",
      " 177 606 650 228   4   5  15 264 271 232 114 460 121 404 692 422 680 771\n",
      " 229 157 416 414 239 423 657 608 412 353 453 689 760 544 690 474 626 789\n",
      " 671 296 663 715 702 607 374 346 339 351 334 305 371 449 730 611 348 411\n",
      " 324 307 461  82 344  40 986 619 311 501 698 322 308 681 314 336 321 165\n",
      " 332 435 699 155 445 557 835 922 912 971 941 984 978 572 915 919 610 958\n",
      " 929 456 136 466 372 940 538 628 410 250 330 253  62 112 283 329 312 272\n",
      " 268 288 405 227  45 990 113 914 421 908 337 518 511 514 524 813 854 276\n",
      " 733 273 936 844 848 943 153 833 545 950 179 756 713 259 450 540 452 648\n",
      " 988 674 655 682 257 664 668 476 987 934 902 821 818 843 673 676 198 675\n",
      " 605 659 656 653 683 274 906 558 685 609 666   7  76  49  74 468 107  12\n",
      "  18  59   9  66 753 743 632 742 473 773 215 519 564 747 515 633 199 553\n",
      " 531 203 132 195 168 615 293 614 172 161 102 196 104 201 171 163 617 295\n",
      " 299 270 170   6   8  60  52 477 335 504 489 467 413 357 341 327 420 338\n",
      " 589 333 441 184 183 158 446 208 238 434 269 436 320 192 298 323 262 225\n",
      " 221 144 222 542 525 403 802 462 827 287 826 924 261 885 806 828 810 236\n",
      " 714 369 832 487 870 811 486 734 498 721 497 731 726 724 732 888 491 741\n",
      " 216 871 729 889 315 895 313 860 856  13  53 143  79 223 129 103 620 428\n",
      " 317 577 824 684 644 711 162 707 604 894 897 792 522 651 364 425 587 787\n",
      " 686 551 717 576 631 173 503 549 727 865 893 451 774 618 126 661 725 147\n",
      " 354 849 861 454 636 252 439 662 645 641 868 443 139 825 873 812 387 877\n",
      " 836 510 180 202 556 319 110 345 424 543 512 427 596 459 541 529  41  28\n",
      " 712 740  43  95 150 156  51 761 765  91 767  31 230 263 241 291 292 159\n",
      " 138 340 393 137  26  64  56  19 479 622 612 133  17 532 688  25 444 790\n",
      " 634 483 297 677 691 704 507 362 430 433 363 375 350 349  11 679 240 125\n",
      " 980 910 710 952 417 568 981 457 918 979 306 938 649 917 838 974 959 961\n",
      " 245 282 209 285 191 736 735 814 687 852 667 678 658 989  85  73  44  86\n",
      "  68  99 815  72 560 768 574 754 146 746 267 246 779 175 635 638 294  92\n",
      "  89 482 485 490 352 469 188 408 318 277 309 224 200 316 189 505 552 879\n",
      " 809 841 347 840 355 367 719 891 164 842 358 368 857 494 388 361 279 880\n",
      " 738 874  69  96 816 437 739  29 575 749 786 859 791 365 899 580 647 266\n",
      " 703 766 637 875 795 234 808 750 830 737 775 326 565 442 440 586 639 471\n",
      " 513 432 562 438 127 431 700 616 521 718 770 186 523 409 392 383 390 286\n",
      "  14  65  70 630 481 527 533 627 670 752 701 343 379  47 660 944 925 976\n",
      " 567 921 946 563 960 243 331 492 187 480 535 764 759 555 426 909 359  83\n",
      "  39 751 573 769 251 500 778 643 197  97  88  98 493 300 356 488 194 325\n",
      " 258 850 846 878 855 898 864 916 882 928 881 883 911 706 862 495 937 728\n",
      " 708 794 801 755 896 502 585 834 829 745 389 772 762 839 776 758 796 785\n",
      " 665 559 547  58 100 546 803 281 385 384 280 284 669 969 966 965 942 464\n",
      " 837 967 972 975 561 863 904 748 478 907 757 780 782 583  90 819 858 872\n",
      " 945  71 777 366 370 817 798 797 866 784 397 783 867 804 876  93 376 373\n",
      " 968 927 962 926 939 903 920 853 744 693 694 949 847 429 851 496 887 892\n",
      " 579 578 932 569 956 930 931 845 948  84 831 884 582 581 788 807 399 381\n",
      " 973 823 820 278 970 985 913 954 964 957 923 977 933 947 822 781 696 566\n",
      " 398 953 695 499 869 396 935 955 799 377 886 793 951 963 905 697 590 591\n",
      " 592 593 382 380 890 800 997 998 992 991 996 995 999]\n",
      "floor_area_sqm : [3.95601979 4.21950771 4.2341065  4.30406509 4.31748811 4.40671925\n",
      " 4.53259949 4.52178858 4.55387689 4.59511985 4.58496748 4.60517019\n",
      " 4.51085951 4.77068462 4.77912349 4.78749174 4.72738782 4.80402104\n",
      " 4.99721227 4.15888308 4.26267988 4.11087386 4.33073334 4.20469262\n",
      " 4.41884061 4.44265126 4.54329478 4.65396035 4.79579055 4.87519732\n",
      " 4.89034913 4.75359019 4.81218436 4.92725369 4.94164242 4.9698133\n",
      " 4.99043259 4.98360662 4.95582706 4.17438727 4.4308168  4.69134788\n",
      " 4.56434819 4.82028157 4.24849524 4.6443909  4.63472899 4.61512052\n",
      " 4.68213123 4.46590812 4.62497281 5.01727984 5.04985601 4.97673374\n",
      " 4.18965474 4.00733319 4.09434456 4.07753744 4.34380542 4.48863637\n",
      " 4.67282883 4.4543473  4.49980967 4.90527478 4.7095302  4.71849887\n",
      " 5.02388052 4.66343909 4.84418709 4.82831374 4.88280192 4.96284463\n",
      " 4.06044301 4.70048037 4.57471098 4.73619845 4.76217393 4.8598124\n",
      " 4.94875989 5.00394631 5.05624581 5.06259503 4.29045944 4.27666612\n",
      " 4.04305127 3.97029191 4.38202663 4.86753445 4.8978398  4.83628191\n",
      " 4.14313473 4.74493213 4.85203026 5.08759634 5.11198779 5.0369526\n",
      " 4.93447393 5.10594547 5.09986643 4.91998093 5.01063529 4.39444915\n",
      " 4.35670883 5.04342512 5.03043792 4.36944785 4.47733681 4.91265489\n",
      " 5.14166356 5.19020864 3.98898405 4.11577984 4.12713439 5.17614973\n",
      " 5.18178355 4.02535169 5.11799381 5.13579844 5.0689042  5.16478597\n",
      " 4.16044436 5.1590553  5.07517382 5.0937502  4.43200657 5.15329159\n",
      " 5.12989871 5.08140436 5.18738581 5.14749448 5.170484   5.12396398\n",
      " 4.61709876]\n",
      "flat_model : ['IMPROVED' 'NEW-GENERATION' 'DBSS' 'STANDARD' 'APARTMENT' 'SIMPLIFIED'\n",
      " 'MODEL-A' 'ADJOINED FLAT' 'PREMIUM APARTMENT' 'MODEL A-MAISONETTE'\n",
      " 'MAISONETTE' 'MODEL-A2' 'TYPE S1' 'TYPE S2' 'TERRACE'\n",
      " 'IMPROVED-MAISONETTE' 'PREMIUM MAISONETTE' 'MULTI-GENERATION'\n",
      " 'PREMIUM APARTMENT LOFT' '2-ROOM' '3GEN']\n",
      "lease_commence_date : [1979 1978 1980 1976 1977 1981 2011 2012 1996 1988 1985 1986 1984 1983\n",
      " 1987 1982 2001 2005 1989 2010 1972 2000 1993 1973 1992 1990 1998 2004\n",
      " 1997 1971 1975 1970 1969 1974 2013 2008 1999 2002 2003 1995 2006 1968\n",
      " 1991 1966 2007 2009 1967 1994 2014 2015 2016 2017 2018 2019 2020]\n",
      "resale_price : [232000. 250000. 262000. ... 630500. 534388. 458988.]\n",
      "remaining_lease : [61 60 62 58 59 63 93 94 78 70 67 68 66 65 69 64 83 87 71 92 54 82 75 55\n",
      " 74 72 80 86 79 53 57 52 51 56 95 90 81 84 85 77 88 50 73 48 89 91 49 76\n",
      " 96 47 46 45 97 44 43 42 41]\n",
      "year : [2017 2018 2019 2020 2021 2022 2023 2024]\n",
      "age_of_property : [38 39 37 41 40 36  6  5 21 29 32 31 33 34 30 35 16 12 28  7 45 17 24 44\n",
      " 25 27 19 13 20 46 42 47 48 43  4  9 18 15 14 22 11 49 26 51 10  8 50 23\n",
      "  3  2 52 53 54  1 55 56 57 58]\n",
      "storey : [10  1  4  7 13 19 16]\n",
      "holding_period : [38 39 37 41 40 36  6  5 21 29 32 31 33 34 30 35 16 12 28  7 45 17 24 44\n",
      " 25 27 19 13 20 46 42 47 48 43  4  9 18 15 14 22 11 49 26 51 10  8 50 23\n",
      "  3  2 52 53 54  1 55 56 57 58]\n",
      "rate_per_sqm : [8 9 7]\n"
     ]
    }
   ],
   "source": [
    "for col in df.columns:\n",
    "    print(f\"{col} : {df[col].unique()}\")"
   ]
  },
  {
   "cell_type": "code",
   "execution_count": 1039,
   "metadata": {},
   "outputs": [
    {
     "data": {
      "text/plain": [
       "month                    int32\n",
       "town                    object\n",
       "flat_type               object\n",
       "block                    int64\n",
       "floor_area_sqm         float64\n",
       "flat_model              object\n",
       "lease_commence_date      int64\n",
       "resale_price           float64\n",
       "remaining_lease          int32\n",
       "year                     int32\n",
       "age_of_property          int64\n",
       "storey                   int32\n",
       "holding_period           int64\n",
       "rate_per_sqm             int32\n",
       "dtype: object"
      ]
     },
     "execution_count": 1039,
     "metadata": {},
     "output_type": "execute_result"
    }
   ],
   "source": [
    "df.dtypes"
   ]
  },
  {
   "cell_type": "code",
   "execution_count": 1040,
   "metadata": {},
   "outputs": [
    {
     "data": {
      "image/png": "[encoded data removed]",
      "text/plain": [
       "<Figure size 1500x800 with 10 Axes>"
      ]
     },
     "metadata": {},
     "output_type": "display_data"
    }
   ],
   "source": [
    "plt.figure(figsize=(15, 8))\n",
    "for i, col in enumerate(num_cols.drop(['rate_per_sqm'],axis=1), 1):\n",
    "    plt.subplot(3, 4, i)\n",
    "    sns.boxplot(y=df[col])\n",
    "    plt.title(col)\n",
    "plt.tight_layout()\n",
    "plt.show()"
   ]
  },
  {
   "cell_type": "code",
   "execution_count": 1041,
   "metadata": {},
   "outputs": [
    {
     "data": {
      "text/html": [
       "<div>\n",
       "<style scoped>\n",
       "    .dataframe tbody tr th:only-of-type {\n",
       "        vertical-align: middle;\n",
       "    }\n",
       "\n",
       "    .dataframe tbody tr th {\n",
       "        vertical-align: top;\n",
       "    }\n",
       "\n",
       "    .dataframe thead th {\n",
       "        text-align: right;\n",
       "    }\n",
       "</style>\n",
       "<table border=\"1\" class=\"dataframe\">\n",
       "  <thead>\n",
       "    <tr style=\"text-align: right;\">\n",
       "      <th></th>\n",
       "      <th>month</th>\n",
       "      <th>town</th>\n",
       "      <th>flat_type</th>\n",
       "      <th>block</th>\n",
       "      <th>floor_area_sqm</th>\n",
       "      <th>flat_model</th>\n",
       "      <th>lease_commence_date</th>\n",
       "      <th>resale_price</th>\n",
       "      <th>remaining_lease</th>\n",
       "      <th>year</th>\n",
       "      <th>age_of_property</th>\n",
       "      <th>storey</th>\n",
       "      <th>holding_period</th>\n",
       "      <th>rate_per_sqm</th>\n",
       "    </tr>\n",
       "  </thead>\n",
       "  <tbody>\n",
       "    <tr>\n",
       "      <th>0</th>\n",
       "      <td>1</td>\n",
       "      <td>ANG MO KIO</td>\n",
       "      <td>2 ROOM</td>\n",
       "      <td>406</td>\n",
       "      <td>3.956020</td>\n",
       "      <td>IMPROVED</td>\n",
       "      <td>1979</td>\n",
       "      <td>232000.0</td>\n",
       "      <td>61</td>\n",
       "      <td>2017</td>\n",
       "      <td>38</td>\n",
       "      <td>10</td>\n",
       "      <td>38</td>\n",
       "      <td>8</td>\n",
       "    </tr>\n",
       "    <tr>\n",
       "      <th>1</th>\n",
       "      <td>1</td>\n",
       "      <td>ANG MO KIO</td>\n",
       "      <td>3 ROOM</td>\n",
       "      <td>108</td>\n",
       "      <td>4.219508</td>\n",
       "      <td>NEW-GENERATION</td>\n",
       "      <td>1978</td>\n",
       "      <td>250000.0</td>\n",
       "      <td>60</td>\n",
       "      <td>2017</td>\n",
       "      <td>39</td>\n",
       "      <td>1</td>\n",
       "      <td>39</td>\n",
       "      <td>8</td>\n",
       "    </tr>\n",
       "  </tbody>\n",
       "</table>\n",
       "</div>"
      ],
      "text/plain": [
       "   month        town flat_type  block  floor_area_sqm      flat_model  \\\n",
       "0      1  ANG MO KIO    2 ROOM    406        3.956020        IMPROVED   \n",
       "1      1  ANG MO KIO    3 ROOM    108        4.219508  NEW-GENERATION   \n",
       "\n",
       "   lease_commence_date  resale_price  remaining_lease  year  age_of_property  \\\n",
       "0                 1979      232000.0               61  2017               38   \n",
       "1                 1978      250000.0               60  2017               39   \n",
       "\n",
       "   storey  holding_period  rate_per_sqm  \n",
       "0      10              38             8  \n",
       "1       1              39             8  "
      ]
     },
     "execution_count": 1041,
     "metadata": {},
     "output_type": "execute_result"
    }
   ],
   "source": [
    "df.head(2)"
   ]
  },
  {
   "cell_type": "code",
   "execution_count": 1042,
   "metadata": {},
   "outputs": [
    {
     "data": {
      "text/plain": [
       "2439836"
      ]
     },
     "execution_count": 1042,
     "metadata": {},
     "output_type": "execute_result"
    }
   ],
   "source": [
    "df.size"
   ]
  },
  {
   "cell_type": "code",
   "execution_count": 1043,
   "metadata": {},
   "outputs": [
    {
     "data": {
      "text/plain": [
       "(174274, 14)"
      ]
     },
     "execution_count": 1043,
     "metadata": {},
     "output_type": "execute_result"
    }
   ],
   "source": [
    "df.shape"
   ]
  },
  {
   "cell_type": "code",
   "execution_count": 1044,
   "metadata": {},
   "outputs": [
    {
     "data": {
      "text/plain": [
       "array([232000., 250000., 262000., ..., 630500., 534388., 458988.])"
      ]
     },
     "execution_count": 1044,
     "metadata": {},
     "output_type": "execute_result"
    }
   ],
   "source": [
    "df['resale_price'].unique()"
   ]
  },
  {
   "cell_type": "markdown",
   "metadata": {},
   "source": [
    "## Label Encoding ##"
   ]
  },
  {
   "cell_type": "code",
   "execution_count": 1045,
   "metadata": {},
   "outputs": [],
   "source": [
    "def encode_col(df,column):\n",
    "    model = LabelEncoder()\n",
    "    df[column] = model.fit_transform(df[column])\n",
    "    #return df[column]\n"
   ]
  },
  {
   "cell_type": "code",
   "execution_count": 1046,
   "metadata": {},
   "outputs": [],
   "source": [
    "encode_col(df,'town')\n",
    "encode_col(df,'flat_type')\n",
    "encode_col(df,'flat_model')\n"
   ]
  },
  {
   "cell_type": "code",
   "execution_count": 1047,
   "metadata": {},
   "outputs": [
    {
     "data": {
      "text/html": [
       "<div>\n",
       "<style scoped>\n",
       "    .dataframe tbody tr th:only-of-type {\n",
       "        vertical-align: middle;\n",
       "    }\n",
       "\n",
       "    .dataframe tbody tr th {\n",
       "        vertical-align: top;\n",
       "    }\n",
       "\n",
       "    .dataframe thead th {\n",
       "        text-align: right;\n",
       "    }\n",
       "</style>\n",
       "<table border=\"1\" class=\"dataframe\">\n",
       "  <thead>\n",
       "    <tr style=\"text-align: right;\">\n",
       "      <th></th>\n",
       "      <th>month</th>\n",
       "      <th>town</th>\n",
       "      <th>flat_type</th>\n",
       "      <th>block</th>\n",
       "      <th>floor_area_sqm</th>\n",
       "      <th>flat_model</th>\n",
       "      <th>lease_commence_date</th>\n",
       "      <th>resale_price</th>\n",
       "      <th>remaining_lease</th>\n",
       "      <th>year</th>\n",
       "      <th>age_of_property</th>\n",
       "      <th>storey</th>\n",
       "      <th>holding_period</th>\n",
       "      <th>rate_per_sqm</th>\n",
       "    </tr>\n",
       "  </thead>\n",
       "  <tbody>\n",
       "    <tr>\n",
       "      <th>0</th>\n",
       "      <td>1</td>\n",
       "      <td>0</td>\n",
       "      <td>1</td>\n",
       "      <td>406</td>\n",
       "      <td>3.956020</td>\n",
       "      <td>5</td>\n",
       "      <td>1979</td>\n",
       "      <td>232000.0</td>\n",
       "      <td>61</td>\n",
       "      <td>2017</td>\n",
       "      <td>38</td>\n",
       "      <td>10</td>\n",
       "      <td>38</td>\n",
       "      <td>8</td>\n",
       "    </tr>\n",
       "    <tr>\n",
       "      <th>1</th>\n",
       "      <td>1</td>\n",
       "      <td>0</td>\n",
       "      <td>2</td>\n",
       "      <td>108</td>\n",
       "      <td>4.219508</td>\n",
       "      <td>12</td>\n",
       "      <td>1978</td>\n",
       "      <td>250000.0</td>\n",
       "      <td>60</td>\n",
       "      <td>2017</td>\n",
       "      <td>39</td>\n",
       "      <td>1</td>\n",
       "      <td>39</td>\n",
       "      <td>8</td>\n",
       "    </tr>\n",
       "  </tbody>\n",
       "</table>\n",
       "</div>"
      ],
      "text/plain": [
       "   month  town  flat_type  block  floor_area_sqm  flat_model  \\\n",
       "0      1     0          1    406        3.956020           5   \n",
       "1      1     0          2    108        4.219508          12   \n",
       "\n",
       "   lease_commence_date  resale_price  remaining_lease  year  age_of_property  \\\n",
       "0                 1979      232000.0               61  2017               38   \n",
       "1                 1978      250000.0               60  2017               39   \n",
       "\n",
       "   storey  holding_period  rate_per_sqm  \n",
       "0      10              38             8  \n",
       "1       1              39             8  "
      ]
     },
     "execution_count": 1047,
     "metadata": {},
     "output_type": "execute_result"
    }
   ],
   "source": [
    "df.head(2)"
   ]
  },
  {
   "cell_type": "markdown",
   "metadata": {},
   "source": [
    "## Model Building ##"
   ]
  },
  {
   "cell_type": "code",
   "execution_count": 1048,
   "metadata": {},
   "outputs": [
    {
     "data": {
      "text/plain": [
       "((174274, 13), (174274,))"
      ]
     },
     "execution_count": 1048,
     "metadata": {},
     "output_type": "execute_result"
    }
   ],
   "source": [
    "X= df.drop(['resale_price'],axis=1)\n",
    "y =df['resale_price']\n",
    "\n",
    "X.shape,y.shape"
   ]
  },
  {
   "cell_type": "code",
   "execution_count": 1049,
   "metadata": {},
   "outputs": [
    {
     "data": {
      "text/plain": [
       "array([232000., 250000., 262000., ..., 630500., 534388., 458988.])"
      ]
     },
     "execution_count": 1049,
     "metadata": {},
     "output_type": "execute_result"
    }
   ],
   "source": [
    "y.unique()"
   ]
  },
  {
   "cell_type": "code",
   "execution_count": 1050,
   "metadata": {},
   "outputs": [
    {
     "name": "stdout",
     "output_type": "stream",
     "text": [
      " Train MSE : 10241145.43797414\n",
      "Test MSE : 1651384377.3996978\n"
     ]
    }
   ],
   "source": [
    "X =df.drop(['resale_price'],axis=1)\n",
    "y = df['resale_price']\n",
    "\n",
    "\n",
    "x_train,x_test,y_train,y_test = train_test_split(X,y,test_size=0.2)\n",
    "\n",
    "model = DecisionTreeRegressor()\n",
    "\n",
    "model.fit(x_train,y_train)\n",
    "\n",
    "train_pred = model.predict(x_train)\n",
    "test_pred = model.predict(x_test)\n",
    "\n",
    "\n",
    "\n",
    "print(f\" Train MSE : {mean_squared_error(y_train,train_pred)}\")\n",
    "print(f\"Test MSE : {mean_squared_error(y_test,test_pred)}\")\n",
    "#print(f\"Coeff:{model.coef_}\")"
   ]
  },
  {
   "cell_type": "code",
   "execution_count": 1051,
   "metadata": {},
   "outputs": [
    {
     "name": "stdout",
     "output_type": "stream",
     "text": [
      " Train MSE : 511794005.6197503\n",
      "Test MSE : 1678636279.634777\n"
     ]
    }
   ],
   "source": [
    "X =df.drop(['resale_price'],axis=1)\n",
    "y = df['resale_price']\n",
    "\n",
    "x_train,x_test,y_train,y_test = train_test_split(X,y,test_size=0.2)\n",
    "\n",
    "model = DecisionTreeRegressor(max_depth=20,min_samples_leaf=1,min_samples_split=2,random_state=42)\n",
    "\n",
    "model.fit(x_train,y_train)\n",
    "\n",
    "train_pred = model.predict(x_train)\n",
    "test_pred = model.predict(x_test)\n",
    "\n",
    "\n",
    "\n",
    "print(f\" Train MSE : {mean_squared_error(y_train,train_pred)}\")\n",
    "print(f\"Test MSE : {mean_squared_error(y_test,test_pred)}\")\n",
    "#print(f\"Coeff:{model.coef_}\")"
   ]
  },
  {
   "cell_type": "code",
   "execution_count": 1052,
   "metadata": {},
   "outputs": [
    {
     "name": "stdout",
     "output_type": "stream",
     "text": [
      " Train MSE : 7046494370.221989\n",
      "Test MSE : 7042079214.405983\n",
      "Coeff:[ 1.27430786e+03 -1.87608824e+03  3.96854143e+04 -9.89917333e+01\n",
      "  3.01931645e+05 -4.66294536e+02 -4.60513284e+14 -6.74901833e+02\n",
      "  4.60513284e+14 -2.33602320e+14  4.50168556e+03 -2.26910964e+14\n",
      "  2.20433299e+05]\n"
     ]
    }
   ],
   "source": [
    "X =df.drop(['resale_price'],axis=1)\n",
    "y = df['resale_price']\n",
    "\n",
    "x_train,x_test,y_train,y_test = train_test_split(X,y,test_size=0.2)\n",
    "\n",
    "model = LinearRegression()\n",
    "\n",
    "model.fit(x_train,y_train)\n",
    "\n",
    "train_pred = model.predict(x_train)\n",
    "test_pred = model.predict(x_test)\n",
    "\n",
    "\n",
    "\n",
    "print(f\" Train MSE : {mean_squared_error(y_train,train_pred)}\")\n",
    "print(f\"Test MSE : {mean_squared_error(y_test,test_pred)}\")\n",
    "print(f\"Coeff:{model.coef_}\")"
   ]
  },
  {
   "cell_type": "code",
   "execution_count": 1053,
   "metadata": {},
   "outputs": [
    {
     "data": {
      "text/plain": [
       "Index(['month', 'town', 'flat_type', 'block', 'floor_area_sqm', 'flat_model',\n",
       "       'lease_commence_date', 'remaining_lease', 'year', 'age_of_property',\n",
       "       'storey', 'holding_period', 'rate_per_sqm'],\n",
       "      dtype='object')"
      ]
     },
     "execution_count": 1053,
     "metadata": {},
     "output_type": "execute_result"
    }
   ],
   "source": [
    "feature_names = X.columns\n",
    "feature_names\n"
   ]
  },
  {
   "cell_type": "code",
   "execution_count": 1054,
   "metadata": {},
   "outputs": [
    {
     "data": {
      "text/plain": [
       "array([ 1.27430786e+03, -1.87608824e+03,  3.96854143e+04, -9.89917333e+01,\n",
       "        3.01931645e+05, -4.66294536e+02, -4.60513284e+14, -6.74901833e+02,\n",
       "        4.60513284e+14, -2.33602320e+14,  4.50168556e+03, -2.26910964e+14,\n",
       "        2.20433299e+05])"
      ]
     },
     "execution_count": 1054,
     "metadata": {},
     "output_type": "execute_result"
    }
   ],
   "source": [
    "coefficients = model.coef_\n",
    "coefficients\n"
   ]
  },
  {
   "cell_type": "code",
   "execution_count": 1055,
   "metadata": {},
   "outputs": [
    {
     "name": "stdout",
     "output_type": "stream",
     "text": [
      "                Feature   Coefficient\n",
      "8                  year  4.605133e+14\n",
      "4        floor_area_sqm  3.019316e+05\n",
      "12         rate_per_sqm  2.204333e+05\n",
      "2             flat_type  3.968541e+04\n",
      "10               storey  4.501686e+03\n",
      "0                 month  1.274308e+03\n",
      "3                 block -9.899173e+01\n",
      "5            flat_model -4.662945e+02\n",
      "7       remaining_lease -6.749018e+02\n",
      "1                  town -1.876088e+03\n",
      "11       holding_period -2.269110e+14\n",
      "9       age_of_property -2.336023e+14\n",
      "6   lease_commence_date -4.605133e+14\n"
     ]
    }
   ],
   "source": [
    "coeff_df = pd.DataFrame({\n",
    "    'Feature': feature_names,\n",
    "    'Coefficient': coefficients\n",
    "})\n",
    "\n",
    "coeff_df = coeff_df.sort_values(by='Coefficient', ascending=False).sort_values(by='Coefficient',ascending=False)\n",
    "print(coeff_df)\n"
   ]
  },
  {
   "cell_type": "code",
   "execution_count": 1056,
   "metadata": {},
   "outputs": [
    {
     "name": "stdout",
     "output_type": "stream",
     "text": [
      " Train MSE : 7048455016.919125\n",
      "Test MSE : 7034282959.858857\n",
      "Coeff:[ 1.35255719e+03 -1.86662668e+03  4.10639939e+04 -9.86123807e+01\n",
      "  2.97726569e+05 -4.16907895e+02  2.85196782e+03 -5.84212894e+02\n",
      "  2.19141412e+04 -1.24522243e+02  4.48721114e+03  4.19516668e+02\n",
      "  2.20037328e+05]\n"
     ]
    }
   ],
   "source": [
    "X =df.drop(['resale_price'],axis=1)\n",
    "y = df['resale_price']\n",
    "\n",
    "x_train,x_test,y_train,y_test = train_test_split(X,y,test_size=0.2)\n",
    "\n",
    "model = Lasso()\n",
    "\n",
    "model.fit(x_train,y_train)\n",
    "\n",
    "train_pred = model.predict(x_train)\n",
    "test_pred = model.predict(x_test)\n",
    "\n",
    "\n",
    "\n",
    "print(f\" Train MSE : {mean_squared_error(y_train,train_pred)}\")\n",
    "print(f\"Test MSE : {mean_squared_error(y_test,test_pred)}\")\n",
    "print(f\"Coeff:{model.coef_}\")"
   ]
  },
  {
   "cell_type": "code",
   "execution_count": 1057,
   "metadata": {},
   "outputs": [
    {
     "name": "stdout",
     "output_type": "stream",
     "text": [
      " Train MSE : 7055060224.660106\n",
      "Test MSE : 7008035489.317599\n",
      "Coeff:[ 1.30289693e+03 -1.84846806e+03  4.01610381e+04 -9.93656333e+01\n",
      "  3.00857601e+05 -3.78565649e+02  1.04486036e+04 -6.32937993e+02\n",
      "  1.43679426e+04  3.91933925e+03  4.50247273e+03  3.91933925e+03\n",
      "  2.19407832e+05]\n"
     ]
    }
   ],
   "source": [
    "X =df.drop(['resale_price'],axis=1)\n",
    "y = df['resale_price']\n",
    "\n",
    "x_train,x_test,y_train,y_test = train_test_split(X,y,test_size=0.2)\n",
    "\n",
    "model = Ridge()\n",
    "\n",
    "model.fit(x_train,y_train)\n",
    "\n",
    "train_pred = model.predict(x_train)\n",
    "test_pred = model.predict(x_test)\n",
    "\n",
    "\n",
    "\n",
    "print(f\" Train MSE : {mean_squared_error(y_train,train_pred)}\")\n",
    "print(f\"Test MSE : {mean_squared_error(y_test,test_pred)}\")\n",
    "print(f\"Coeff:{model.coef_}\")"
   ]
  },
  {
   "cell_type": "markdown",
   "metadata": {},
   "source": [
    "## Model Saving ##"
   ]
  },
  {
   "cell_type": "code",
   "execution_count": 1058,
   "metadata": {},
   "outputs": [],
   "source": [
    "with open('Regression_model.pkl',\"wb\") as r:\n",
    "    pickle.dump(model,r)"
   ]
  },
  {
   "cell_type": "markdown",
   "metadata": {},
   "source": [
    "## Model Loading ##"
   ]
  },
  {
   "cell_type": "code",
   "execution_count": 1059,
   "metadata": {},
   "outputs": [],
   "source": [
    "with open('Regression_model.pkl',\"rb\") as r1:\n",
    "    regg_model = pickle.load(r1)"
   ]
  },
  {
   "cell_type": "code",
   "execution_count": 1060,
   "metadata": {},
   "outputs": [
    {
     "data": {
      "text/html": [
       "<div>\n",
       "<style scoped>\n",
       "    .dataframe tbody tr th:only-of-type {\n",
       "        vertical-align: middle;\n",
       "    }\n",
       "\n",
       "    .dataframe tbody tr th {\n",
       "        vertical-align: top;\n",
       "    }\n",
       "\n",
       "    .dataframe thead th {\n",
       "        text-align: right;\n",
       "    }\n",
       "</style>\n",
       "<table border=\"1\" class=\"dataframe\">\n",
       "  <thead>\n",
       "    <tr style=\"text-align: right;\">\n",
       "      <th></th>\n",
       "      <th>month</th>\n",
       "      <th>town</th>\n",
       "      <th>flat_type</th>\n",
       "      <th>block</th>\n",
       "      <th>floor_area_sqm</th>\n",
       "      <th>flat_model</th>\n",
       "      <th>lease_commence_date</th>\n",
       "      <th>resale_price</th>\n",
       "      <th>remaining_lease</th>\n",
       "      <th>year</th>\n",
       "      <th>age_of_property</th>\n",
       "      <th>storey</th>\n",
       "      <th>holding_period</th>\n",
       "      <th>rate_per_sqm</th>\n",
       "    </tr>\n",
       "  </thead>\n",
       "  <tbody>\n",
       "    <tr>\n",
       "      <th>0</th>\n",
       "      <td>1</td>\n",
       "      <td>0</td>\n",
       "      <td>1</td>\n",
       "      <td>406</td>\n",
       "      <td>3.956020</td>\n",
       "      <td>5</td>\n",
       "      <td>1979</td>\n",
       "      <td>232000.0</td>\n",
       "      <td>61</td>\n",
       "      <td>2017</td>\n",
       "      <td>38</td>\n",
       "      <td>10</td>\n",
       "      <td>38</td>\n",
       "      <td>8</td>\n",
       "    </tr>\n",
       "    <tr>\n",
       "      <th>1</th>\n",
       "      <td>1</td>\n",
       "      <td>0</td>\n",
       "      <td>2</td>\n",
       "      <td>108</td>\n",
       "      <td>4.219508</td>\n",
       "      <td>12</td>\n",
       "      <td>1978</td>\n",
       "      <td>250000.0</td>\n",
       "      <td>60</td>\n",
       "      <td>2017</td>\n",
       "      <td>39</td>\n",
       "      <td>1</td>\n",
       "      <td>39</td>\n",
       "      <td>8</td>\n",
       "    </tr>\n",
       "  </tbody>\n",
       "</table>\n",
       "</div>"
      ],
      "text/plain": [
       "   month  town  flat_type  block  floor_area_sqm  flat_model  \\\n",
       "0      1     0          1    406        3.956020           5   \n",
       "1      1     0          2    108        4.219508          12   \n",
       "\n",
       "   lease_commence_date  resale_price  remaining_lease  year  age_of_property  \\\n",
       "0                 1979      232000.0               61  2017               38   \n",
       "1                 1978      250000.0               60  2017               39   \n",
       "\n",
       "   storey  holding_period  rate_per_sqm  \n",
       "0      10              38             8  \n",
       "1       1              39             8  "
      ]
     },
     "execution_count": 1060,
     "metadata": {},
     "output_type": "execute_result"
    }
   ],
   "source": [
    "df.head(2)"
   ]
  },
  {
   "cell_type": "code",
   "execution_count": 1061,
   "metadata": {},
   "outputs": [
    {
     "data": {
      "text/plain": [
       "array([1.00000000e+00, 0.00000000e+00, 2.00000000e+00, 1.08000000e+02,\n",
       "       4.21950771e+00, 1.20000000e+01, 1.97800000e+03, 6.00000000e+01,\n",
       "       2.01700000e+03, 3.90000000e+01, 1.00000000e+00, 3.90000000e+01,\n",
       "       8.00000000e+00])"
      ]
     },
     "execution_count": 1061,
     "metadata": {},
     "output_type": "execute_result"
    }
   ],
   "source": [
    "input_data =df.iloc[1].drop('resale_price').to_numpy()\n",
    "input_data"
   ]
  },
  {
   "cell_type": "code",
   "execution_count": 1062,
   "metadata": {},
   "outputs": [
    {
     "name": "stdout",
     "output_type": "stream",
     "text": [
      "Resale_price : 240078.36\n"
     ]
    }
   ],
   "source": [
    "input_data =df.iloc[1].drop('resale_price').to_numpy()\n",
    "re_sale_price_prediction = regg_model.predict([input_data])\n",
    "print(f\"Resale_price : {re_sale_price_prediction[0]:.2f}\")\n"
   ]
  },
  {
   "cell_type": "code",
   "execution_count": 1063,
   "metadata": {},
   "outputs": [
    {
     "data": {
      "text/plain": [
       "(174274, 14)"
      ]
     },
     "execution_count": 1063,
     "metadata": {},
     "output_type": "execute_result"
    }
   ],
   "source": [
    "df.shape"
   ]
  },
  {
   "cell_type": "code",
   "execution_count": 1064,
   "metadata": {},
   "outputs": [
    {
     "data": {
      "text/plain": [
       "RangeIndex(start=0, stop=174274, step=1)"
      ]
     },
     "execution_count": 1064,
     "metadata": {},
     "output_type": "execute_result"
    }
   ],
   "source": [
    "df.index"
   ]
  },
  {
   "cell_type": "code",
   "execution_count": 1065,
   "metadata": {},
   "outputs": [
    {
     "data": {
      "text/html": [
       "<div>\n",
       "<style scoped>\n",
       "    .dataframe tbody tr th:only-of-type {\n",
       "        vertical-align: middle;\n",
       "    }\n",
       "\n",
       "    .dataframe tbody tr th {\n",
       "        vertical-align: top;\n",
       "    }\n",
       "\n",
       "    .dataframe thead th {\n",
       "        text-align: right;\n",
       "    }\n",
       "</style>\n",
       "<table border=\"1\" class=\"dataframe\">\n",
       "  <thead>\n",
       "    <tr style=\"text-align: right;\">\n",
       "      <th></th>\n",
       "      <th>month</th>\n",
       "      <th>town</th>\n",
       "      <th>flat_type</th>\n",
       "      <th>block</th>\n",
       "      <th>floor_area_sqm</th>\n",
       "      <th>flat_model</th>\n",
       "      <th>lease_commence_date</th>\n",
       "      <th>resale_price</th>\n",
       "      <th>remaining_lease</th>\n",
       "      <th>year</th>\n",
       "      <th>age_of_property</th>\n",
       "      <th>storey</th>\n",
       "      <th>holding_period</th>\n",
       "      <th>rate_per_sqm</th>\n",
       "    </tr>\n",
       "  </thead>\n",
       "  <tbody>\n",
       "    <tr>\n",
       "      <th>174269</th>\n",
       "      <td>9</td>\n",
       "      <td>25</td>\n",
       "      <td>5</td>\n",
       "      <td>358</td>\n",
       "      <td>4.990433</td>\n",
       "      <td>7</td>\n",
       "      <td>1988</td>\n",
       "      <td>850000.0</td>\n",
       "      <td>62</td>\n",
       "      <td>2024</td>\n",
       "      <td>36</td>\n",
       "      <td>1</td>\n",
       "      <td>36</td>\n",
       "      <td>8</td>\n",
       "    </tr>\n",
       "    <tr>\n",
       "      <th>174270</th>\n",
       "      <td>9</td>\n",
       "      <td>25</td>\n",
       "      <td>5</td>\n",
       "      <td>361</td>\n",
       "      <td>4.990433</td>\n",
       "      <td>7</td>\n",
       "      <td>1988</td>\n",
       "      <td>800000.0</td>\n",
       "      <td>62</td>\n",
       "      <td>2024</td>\n",
       "      <td>36</td>\n",
       "      <td>1</td>\n",
       "      <td>36</td>\n",
       "      <td>8</td>\n",
       "    </tr>\n",
       "    <tr>\n",
       "      <th>174271</th>\n",
       "      <td>9</td>\n",
       "      <td>25</td>\n",
       "      <td>5</td>\n",
       "      <td>606</td>\n",
       "      <td>4.997212</td>\n",
       "      <td>3</td>\n",
       "      <td>1987</td>\n",
       "      <td>770000.0</td>\n",
       "      <td>62</td>\n",
       "      <td>2024</td>\n",
       "      <td>37</td>\n",
       "      <td>1</td>\n",
       "      <td>37</td>\n",
       "      <td>8</td>\n",
       "    </tr>\n",
       "    <tr>\n",
       "      <th>174272</th>\n",
       "      <td>9</td>\n",
       "      <td>25</td>\n",
       "      <td>5</td>\n",
       "      <td>641</td>\n",
       "      <td>5.105945</td>\n",
       "      <td>3</td>\n",
       "      <td>1992</td>\n",
       "      <td>937500.0</td>\n",
       "      <td>66</td>\n",
       "      <td>2024</td>\n",
       "      <td>32</td>\n",
       "      <td>7</td>\n",
       "      <td>32</td>\n",
       "      <td>8</td>\n",
       "    </tr>\n",
       "    <tr>\n",
       "      <th>174273</th>\n",
       "      <td>9</td>\n",
       "      <td>25</td>\n",
       "      <td>5</td>\n",
       "      <td>824</td>\n",
       "      <td>4.990433</td>\n",
       "      <td>7</td>\n",
       "      <td>1987</td>\n",
       "      <td>893888.0</td>\n",
       "      <td>62</td>\n",
       "      <td>2024</td>\n",
       "      <td>37</td>\n",
       "      <td>1</td>\n",
       "      <td>37</td>\n",
       "      <td>8</td>\n",
       "    </tr>\n",
       "  </tbody>\n",
       "</table>\n",
       "</div>"
      ],
      "text/plain": [
       "        month  town  flat_type  block  floor_area_sqm  flat_model  \\\n",
       "174269      9    25          5    358        4.990433           7   \n",
       "174270      9    25          5    361        4.990433           7   \n",
       "174271      9    25          5    606        4.997212           3   \n",
       "174272      9    25          5    641        5.105945           3   \n",
       "174273      9    25          5    824        4.990433           7   \n",
       "\n",
       "        lease_commence_date  resale_price  remaining_lease  year  \\\n",
       "174269                 1988      850000.0               62  2024   \n",
       "174270                 1988      800000.0               62  2024   \n",
       "174271                 1987      770000.0               62  2024   \n",
       "174272                 1992      937500.0               66  2024   \n",
       "174273                 1987      893888.0               62  2024   \n",
       "\n",
       "        age_of_property  storey  holding_period  rate_per_sqm  \n",
       "174269               36       1              36             8  \n",
       "174270               36       1              36             8  \n",
       "174271               37       1              37             8  \n",
       "174272               32       7              32             8  \n",
       "174273               37       1              37             8  "
      ]
     },
     "execution_count": 1065,
     "metadata": {},
     "output_type": "execute_result"
    }
   ],
   "source": [
    "df.tail(5)"
   ]
  },
  {
   "cell_type": "code",
   "execution_count": 1066,
   "metadata": {},
   "outputs": [
    {
     "name": "stdout",
     "output_type": "stream",
     "text": [
      "Resale_price : 665128.39\n"
     ]
    }
   ],
   "source": [
    "input_data =df.iloc[174273].drop('resale_price').to_numpy()\n",
    "re_sale_price_prediction = regg_model.predict([input_data])\n",
    "print(f\"Resale_price : {re_sale_price_prediction[0]:.2f}\")\n"
   ]
  },
  {
   "cell_type": "code",
   "execution_count": null,
   "metadata": {},
   "outputs": [],
   "source": [
    "for index in df.index[0:]:\n",
    "    input_data =df.iloc[index].drop('resale_price').to_numpy()\n",
    "    re_sale_price_prediction = regg_model.predict([input_data])\n",
    "    print(f\"Resale_price : {re_sale_price_prediction[0]}\")"
   ]
  },
  {
   "cell_type": "code",
   "execution_count": 1067,
   "metadata": {},
   "outputs": [],
   "source": [
    "def re_sale_price(input_data):\n",
    "    input_data_array = np.array(input_data)\n",
    "    re_sale_price_prediction = regg_model.predict(input_data)\n",
    "    return \"Resale_price:\",re_sale_price_prediction[0]\n",
    "     "
   ]
  },
  {
   "cell_type": "code",
   "execution_count": 1068,
   "metadata": {},
   "outputs": [
    {
     "data": {
      "text/html": [
       "<div>\n",
       "<style scoped>\n",
       "    .dataframe tbody tr th:only-of-type {\n",
       "        vertical-align: middle;\n",
       "    }\n",
       "\n",
       "    .dataframe tbody tr th {\n",
       "        vertical-align: top;\n",
       "    }\n",
       "\n",
       "    .dataframe thead th {\n",
       "        text-align: right;\n",
       "    }\n",
       "</style>\n",
       "<table border=\"1\" class=\"dataframe\">\n",
       "  <thead>\n",
       "    <tr style=\"text-align: right;\">\n",
       "      <th></th>\n",
       "      <th>month</th>\n",
       "      <th>town</th>\n",
       "      <th>flat_type</th>\n",
       "      <th>block</th>\n",
       "      <th>floor_area_sqm</th>\n",
       "      <th>flat_model</th>\n",
       "      <th>lease_commence_date</th>\n",
       "      <th>resale_price</th>\n",
       "      <th>remaining_lease</th>\n",
       "      <th>year</th>\n",
       "      <th>age_of_property</th>\n",
       "      <th>storey</th>\n",
       "      <th>holding_period</th>\n",
       "      <th>rate_per_sqm</th>\n",
       "    </tr>\n",
       "  </thead>\n",
       "  <tbody>\n",
       "    <tr>\n",
       "      <th>174269</th>\n",
       "      <td>9</td>\n",
       "      <td>25</td>\n",
       "      <td>5</td>\n",
       "      <td>358</td>\n",
       "      <td>4.990433</td>\n",
       "      <td>7</td>\n",
       "      <td>1988</td>\n",
       "      <td>850000.0</td>\n",
       "      <td>62</td>\n",
       "      <td>2024</td>\n",
       "      <td>36</td>\n",
       "      <td>1</td>\n",
       "      <td>36</td>\n",
       "      <td>8</td>\n",
       "    </tr>\n",
       "    <tr>\n",
       "      <th>174270</th>\n",
       "      <td>9</td>\n",
       "      <td>25</td>\n",
       "      <td>5</td>\n",
       "      <td>361</td>\n",
       "      <td>4.990433</td>\n",
       "      <td>7</td>\n",
       "      <td>1988</td>\n",
       "      <td>800000.0</td>\n",
       "      <td>62</td>\n",
       "      <td>2024</td>\n",
       "      <td>36</td>\n",
       "      <td>1</td>\n",
       "      <td>36</td>\n",
       "      <td>8</td>\n",
       "    </tr>\n",
       "    <tr>\n",
       "      <th>174271</th>\n",
       "      <td>9</td>\n",
       "      <td>25</td>\n",
       "      <td>5</td>\n",
       "      <td>606</td>\n",
       "      <td>4.997212</td>\n",
       "      <td>3</td>\n",
       "      <td>1987</td>\n",
       "      <td>770000.0</td>\n",
       "      <td>62</td>\n",
       "      <td>2024</td>\n",
       "      <td>37</td>\n",
       "      <td>1</td>\n",
       "      <td>37</td>\n",
       "      <td>8</td>\n",
       "    </tr>\n",
       "    <tr>\n",
       "      <th>174272</th>\n",
       "      <td>9</td>\n",
       "      <td>25</td>\n",
       "      <td>5</td>\n",
       "      <td>641</td>\n",
       "      <td>5.105945</td>\n",
       "      <td>3</td>\n",
       "      <td>1992</td>\n",
       "      <td>937500.0</td>\n",
       "      <td>66</td>\n",
       "      <td>2024</td>\n",
       "      <td>32</td>\n",
       "      <td>7</td>\n",
       "      <td>32</td>\n",
       "      <td>8</td>\n",
       "    </tr>\n",
       "    <tr>\n",
       "      <th>174273</th>\n",
       "      <td>9</td>\n",
       "      <td>25</td>\n",
       "      <td>5</td>\n",
       "      <td>824</td>\n",
       "      <td>4.990433</td>\n",
       "      <td>7</td>\n",
       "      <td>1987</td>\n",
       "      <td>893888.0</td>\n",
       "      <td>62</td>\n",
       "      <td>2024</td>\n",
       "      <td>37</td>\n",
       "      <td>1</td>\n",
       "      <td>37</td>\n",
       "      <td>8</td>\n",
       "    </tr>\n",
       "  </tbody>\n",
       "</table>\n",
       "</div>"
      ],
      "text/plain": [
       "        month  town  flat_type  block  floor_area_sqm  flat_model  \\\n",
       "174269      9    25          5    358        4.990433           7   \n",
       "174270      9    25          5    361        4.990433           7   \n",
       "174271      9    25          5    606        4.997212           3   \n",
       "174272      9    25          5    641        5.105945           3   \n",
       "174273      9    25          5    824        4.990433           7   \n",
       "\n",
       "        lease_commence_date  resale_price  remaining_lease  year  \\\n",
       "174269                 1988      850000.0               62  2024   \n",
       "174270                 1988      800000.0               62  2024   \n",
       "174271                 1987      770000.0               62  2024   \n",
       "174272                 1992      937500.0               66  2024   \n",
       "174273                 1987      893888.0               62  2024   \n",
       "\n",
       "        age_of_property  storey  holding_period  rate_per_sqm  \n",
       "174269               36       1              36             8  \n",
       "174270               36       1              36             8  \n",
       "174271               37       1              37             8  \n",
       "174272               32       7              32             8  \n",
       "174273               37       1              37             8  "
      ]
     },
     "execution_count": 1068,
     "metadata": {},
     "output_type": "execute_result"
    }
   ],
   "source": [
    "df.tail()"
   ]
  },
  {
   "cell_type": "code",
   "execution_count": 1069,
   "metadata": {},
   "outputs": [],
   "source": [
    "input_data =df.iloc[174271].drop('resale_price').to_numpy()"
   ]
  },
  {
   "cell_type": "code",
   "execution_count": 1070,
   "metadata": {},
   "outputs": [
    {
     "data": {
      "text/plain": [
       "('Resale_price:', 690344.077921249)"
      ]
     },
     "execution_count": 1070,
     "metadata": {},
     "output_type": "execute_result"
    }
   ],
   "source": [
    "re_sale_price([input_data])"
   ]
  }
 ],
 "metadata": {
  "kernelspec": {
   "display_name": "Python 3",
   "language": "python",
   "name": "python3"
  },
  "language_info": {
   "codemirror_mode": {
    "name": "ipython",
    "version": 3
   },
   "file_extension": ".py",
   "mimetype": "text/x-python",
   "name": "python",
   "nbconvert_exporter": "python",
   "pygments_lexer": "ipython3",
   "version": "3.12.0"
  }
 },
 "nbformat": 4,
 "nbformat_minor": 2
}
